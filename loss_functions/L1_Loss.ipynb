{
  "nbformat": 4,
  "nbformat_minor": 0,
  "metadata": {
    "colab": {
      "name": "L1 Loss",
      "provenance": [],
      "collapsed_sections": []
    },
    "kernelspec": {
      "name": "python3",
      "display_name": "Python 3"
    }
  },
  "cells": [
    {
      "cell_type": "markdown",
      "metadata": {
        "id": "tRLe8VENOQM9",
        "colab_type": "text"
      },
      "source": [
        "# L1 loss\n",
        "\n",
        "The current mlpack implementation is incorrect."
      ]
    },
    {
      "cell_type": "markdown",
      "metadata": {
        "id": "yPWU9O3LO94x",
        "colab_type": "text"
      },
      "source": [
        "### Imports and installation of mlpack"
      ]
    },
    {
      "cell_type": "code",
      "metadata": {
        "id": "ZoQR5XuyPAb9",
        "colab_type": "code",
        "colab": {}
      },
      "source": [
        "%%capture\n",
        "!sudo apt-get install libmlpack-dev \n",
        "import torch\n",
        "import torch.nn as nn"
      ],
      "execution_count": 0,
      "outputs": []
    },
    {
      "cell_type": "markdown",
      "metadata": {
        "colab_type": "text",
        "id": "y6sYXvFs4H2k"
      },
      "source": [
        "### PyTorch"
      ]
    },
    {
      "cell_type": "markdown",
      "metadata": {
        "colab_type": "text",
        "id": "YBHd3wIt4H2l"
      },
      "source": [
        "#### None Reduction\n"
      ]
    },
    {
      "cell_type": "code",
      "metadata": {
        "colab_type": "code",
        "id": "tbvKldxa4H2m",
        "outputId": "0e455432-414b-4789-d9c4-f74693e91c06",
        "colab": {
          "base_uri": "https://localhost:8080/",
          "height": 381
        }
      },
      "source": [
        "loss = torch.nn.L1Loss(reduction='none')\n",
        "input = torch.tensor([[-0.0494,  1.6028,  0.9639],\n",
        "                      [-1.1958,  0.0737,  0.9648],\n",
        "                      [-1.0486, -0.7091,  0.0745],\n",
        "                      [-0.2121,  0.8612,  0.5924]], requires_grad=True)\n",
        "target = torch.tensor([[ 0.4316,  0.5106,  0.7059],\n",
        "                      [ 0.0164,  0.9255, -0.8288],\n",
        "                      [-0.4478,  0.5571, -0.0231],\n",
        "                      [ 1.1452,  0.0864, -1.0526]])\n",
        "output = loss(input, target)\n",
        "output.backward(torch.ones(input.shape))\n",
        "print(\"Input : \")\n",
        "print(input)\n",
        "print(\"Target : \")\n",
        "print(target)\n",
        "print(\"FORWARD : \")\n",
        "print(\"Loss : \")\n",
        "print(output)\n",
        "print(\"BACKWARD : \")\n",
        "print(input.grad)"
      ],
      "execution_count": 0,
      "outputs": [
        {
          "output_type": "stream",
          "text": [
            "Input : \n",
            "tensor([[-0.0494,  1.6028,  0.9639],\n",
            "        [-1.1958,  0.0737,  0.9648],\n",
            "        [-1.0486, -0.7091,  0.0745],\n",
            "        [-0.2121,  0.8612,  0.5924]], requires_grad=True)\n",
            "Target : \n",
            "tensor([[ 0.4316,  0.5106,  0.7059],\n",
            "        [ 0.0164,  0.9255, -0.8288],\n",
            "        [-0.4478,  0.5571, -0.0231],\n",
            "        [ 1.1452,  0.0864, -1.0526]])\n",
            "FORWARD : \n",
            "Loss : \n",
            "tensor([[0.4810, 1.0922, 0.2580],\n",
            "        [1.2122, 0.8518, 1.7936],\n",
            "        [0.6008, 1.2662, 0.0976],\n",
            "        [1.3573, 0.7748, 1.6450]], grad_fn=<L1LossBackward>)\n",
            "BACKWARD : \n",
            "tensor([[-1.,  1.,  1.],\n",
            "        [-1., -1.,  1.],\n",
            "        [-1., -1.,  1.],\n",
            "        [-1.,  1.,  1.]])\n"
          ],
          "name": "stdout"
        }
      ]
    },
    {
      "cell_type": "markdown",
      "metadata": {
        "colab_type": "text",
        "id": "2eAofEln4H2p"
      },
      "source": [
        "#### Sum Reduction"
      ]
    },
    {
      "cell_type": "code",
      "metadata": {
        "colab_type": "code",
        "id": "alko8BnL4H2p",
        "outputId": "cdbfe2c9-b129-4e95-e30e-f27b8cf2e115",
        "colab": {
          "base_uri": "https://localhost:8080/",
          "height": 349
        }
      },
      "source": [
        "loss = torch.nn.L1Loss(reduction='sum')\n",
        "input = torch.tensor([[-0.0494,  1.6028,  0.9639],\n",
        "                      [-1.1958,  0.0737,  0.9648],\n",
        "                      [-1.0486, -0.7091,  0.0745],\n",
        "                      [-0.2121,  0.8612,  0.5924]], requires_grad=True)\n",
        "target = torch.tensor([[ 0.4316,  0.5106,  0.7059],\n",
        "                      [ 0.0164,  0.9255, -0.8288],\n",
        "                      [-0.4478,  0.5571, -0.0231],\n",
        "                      [ 1.1452,  0.0864, -1.0526]])\n",
        "output = loss(input, target)\n",
        "output.backward()\n",
        "print(\"Input : \")\n",
        "print(input)\n",
        "print(\"Target : \")\n",
        "print(target)\n",
        "print(\"FORWARD : \")\n",
        "print(\"Loss : \")\n",
        "print(output)\n",
        "print(\"BACKWARD : \")\n",
        "print(input.grad)"
      ],
      "execution_count": 0,
      "outputs": [
        {
          "output_type": "stream",
          "text": [
            "Input : \n",
            "tensor([[-0.0494,  1.6028,  0.9639],\n",
            "        [-1.1958,  0.0737,  0.9648],\n",
            "        [-1.0486, -0.7091,  0.0745],\n",
            "        [-0.2121,  0.8612,  0.5924]], requires_grad=True)\n",
            "Target : \n",
            "tensor([[ 0.4316,  0.5106,  0.7059],\n",
            "        [ 0.0164,  0.9255, -0.8288],\n",
            "        [-0.4478,  0.5571, -0.0231],\n",
            "        [ 1.1452,  0.0864, -1.0526]])\n",
            "FORWARD : \n",
            "Loss : \n",
            "tensor(11.4305, grad_fn=<L1LossBackward>)\n",
            "BACKWARD : \n",
            "tensor([[-1.,  1.,  1.],\n",
            "        [-1., -1.,  1.],\n",
            "        [-1., -1.,  1.],\n",
            "        [-1.,  1.,  1.]])\n"
          ],
          "name": "stdout"
        }
      ]
    },
    {
      "cell_type": "markdown",
      "metadata": {
        "colab_type": "text",
        "id": "vJukNLu24H2s"
      },
      "source": [
        "#### Mean reduction"
      ]
    },
    {
      "cell_type": "code",
      "metadata": {
        "colab_type": "code",
        "id": "_nlOMbXC4H2t",
        "outputId": "03411749-ffcc-43da-bbcb-17019f88e4d7",
        "colab": {
          "base_uri": "https://localhost:8080/",
          "height": 329
        }
      },
      "source": [
        "loss = torch.nn.L1Loss(reduction='mean')\n",
        "input = torch.tensor([[-0.0494,  1.6028,  0.9639],\n",
        "                      [-1.1958,  0.0737,  0.9648],\n",
        "                      [-1.0486, -0.7091,  0.0745],\n",
        "                      [-0.2121,  0.8612,  0.5924]], requires_grad=True)\n",
        "target = torch.tensor([[ 0.4316,  0.5106,  0.7059],\n",
        "                      [ 0.0164,  0.9255, -0.8288],\n",
        "                      [-0.4478,  0.5571, -0.0231],\n",
        "                      [ 1.1452,  0.0864, -1.0526]])\n",
        "output = loss(input, target)\n",
        "output.backward()\n",
        "print(\"Input : \")\n",
        "print(input)\n",
        "print(\"Target : \")\n",
        "print(target)\n",
        "print(\"FORWARD : \")\n",
        "print(\"Loss : \")\n",
        "print(output)\n",
        "print(\"BACKWARD : \")\n",
        "print(input.grad)"
      ],
      "execution_count": 0,
      "outputs": [
        {
          "output_type": "stream",
          "text": [
            "Input : \n",
            "tensor([[-0.0494,  1.6028,  0.9639],\n",
            "        [-1.1958,  0.0737,  0.9648],\n",
            "        [-1.0486, -0.7091,  0.0745],\n",
            "        [-0.2121,  0.8612,  0.5924]], requires_grad=True)\n",
            "Target : \n",
            "tensor([[ 0.4316,  0.5106,  0.7059],\n",
            "        [ 0.0164,  0.9255, -0.8288],\n",
            "        [-0.4478,  0.5571, -0.0231],\n",
            "        [ 1.1452,  0.0864, -1.0526]])\n",
            "FORWARD : \n",
            "Loss : \n",
            "tensor(0.9525, grad_fn=<L1LossBackward>)\n",
            "BACKWARD : \n",
            "tensor([[-0.0833,  0.0833,  0.0833],\n",
            "        [-0.0833, -0.0833,  0.0833],\n",
            "        [-0.0833, -0.0833,  0.0833],\n",
            "        [-0.0833,  0.0833,  0.0833]])\n"
          ],
          "name": "stdout"
        }
      ]
    },
    {
      "cell_type": "markdown",
      "metadata": {
        "colab_type": "text",
        "id": "h7fZHZDk4H2w"
      },
      "source": [
        "### mlpack\n"
      ]
    },
    {
      "cell_type": "markdown",
      "metadata": {
        "colab_type": "text",
        "id": "20ckFsa14H2z"
      },
      "source": [
        "#### FORWARD AND BACKWARD ARE CURRENTLY INCORRECTLY IMPLEMENTED \n",
        "\n",
        "<pre>\n",
        "For each element in the loss matrix\n",
        "PyTorch does |input - target| \n",
        "mlpack  does (input - target)\n",
        "\n",
        "Also, mlpack doesn't return different outputs for different reduction in backward.\n",
        "</pre>"
      ]
    },
    {
      "cell_type": "code",
      "metadata": {
        "colab_type": "code",
        "id": "cFlCk9a64H20",
        "colab": {}
      },
      "source": [
        "%%capture\n",
        "%%writefile test.cpp  \n",
        "\n",
        "#include <iostream>\n",
        "#include <armadillo>\n",
        "\n",
        "using namespace std;\n",
        "using namespace arma;\n",
        "\n",
        "int main()\n",
        "{\n",
        "  // Constructor\n",
        "  arma::mat x,y;\n",
        "  arma::mat weight;\n",
        " \n",
        "  x << -0.0494 << 1.6028 << 0.9639 << endr\n",
        "    << -1.1958 << 0.0737 << 0.9648 << endr\n",
        "    << -1.0486 << -0.7091 << 0.0745 << endr\n",
        "    << -0.2121 << 0.8612 << 0.5924 << endr;\n",
        "\n",
        "  y << 0.4316  << 0.5106 <<  0.7059 << endr\n",
        "    << 0.0164  << 0.9255 << -0.8288 << endr\n",
        "    << -0.4478 << 0.5571 << -0.0231 << endr\n",
        "    << 1.1452  << 0.0864 << -1.0526 << endr;\n",
        "\n",
        "  // Forward\n",
        "  arma::mat loss_none = arma::abs(x - y);\n",
        "  double loss_sum = arma::accu(loss_none);\n",
        "  double loss_mean = loss_sum / x.n_elem;\n",
        "\n",
        "  // Backward\n",
        "  arma::mat output;\n",
        "  output = arma::sign(x - y);\n",
        "\n",
        "  // Display\n",
        "  cout << \"------------------------------------------------------------------\" << endl;\n",
        "  cout << \"USER-PROVIDED MATRICES : \" << endl;\n",
        "  cout << \"------------------------------------------------------------------\" << endl;\n",
        "  cout << \"Input shape : \"<< x.n_rows << \" \" << x.n_cols << endl;\n",
        "  cout << \"Input : \" << endl << x << endl;\n",
        "  cout << \"Target shape : \"<< y.n_rows << \" \" << y.n_cols << endl;\n",
        "  cout << \"Target : \" << endl << y << endl;\n",
        "  cout << \"------------------------------------------------------------------\" << endl;\n",
        "  cout << \"SUM \" << endl;\n",
        "  cout << \"------------------------------------------------------------------\" << endl;\n",
        "  cout << \"FORWARD : \" << endl;\n",
        "  cout << \"Loss : \\n\" << loss_none << '\\n';\n",
        "  cout << \"Loss (sum):\\n\" << loss_sum << '\\n';\n",
        "  cout << \"BACKWARD : \" << endl;\n",
        "  cout << \"Output shape : \"<< output.n_rows << \" \" << output.n_cols << endl;\n",
        "  cout << \"Output (sum) : \" << endl << output << endl;\n",
        "  cout << \"Sum of all values in this matrix : \" << arma::as_scalar(arma::accu(output)) << endl;\n",
        "  cout << \"------------------------------------------------------------------\" << endl;\n",
        "  cout << \"MEAN \" << endl;\n",
        "  cout << \"------------------------------------------------------------------\" << endl;\n",
        "  cout << \"FORWARD : \" << endl;\n",
        "  cout << \"Loss (mean):\\n\" << loss_mean << '\\n';\n",
        "  cout << \"BACKWARD : \" << endl;\n",
        "  cout << \"Output shape : \"<< output.n_rows << \" \" << output.n_cols << endl;\n",
        "  cout << \"Output (mean) : \" << endl << output / x.n_elem << endl;\n",
        "  cout << \"Sum of all values in this matrix : \" << arma::as_scalar(arma::accu(output / x.n_elem)) << endl;\n",
        "  cout << \"------------------------------------------------------------------\" << endl;\n",
        "  return 0;\n",
        "}"
      ],
      "execution_count": 0,
      "outputs": []
    },
    {
      "cell_type": "code",
      "metadata": {
        "id": "xHT34eorQquz",
        "colab_type": "code",
        "outputId": "245457ad-795c-4b8f-e702-63ae10c00d72",
        "colab": {
          "base_uri": "https://localhost:8080/",
          "height": 953
        }
      },
      "source": [
        "%%script bash\n",
        "g++ test.cpp -o test -larmadillo && ./test"
      ],
      "execution_count": 0,
      "outputs": [
        {
          "output_type": "stream",
          "text": [
            "------------------------------------------------------------------\n",
            "USER-PROVIDED MATRICES : \n",
            "------------------------------------------------------------------\n",
            "Input shape : 4 3\n",
            "Input : \n",
            "  -0.0494   1.6028   0.9639\n",
            "  -1.1958   0.0737   0.9648\n",
            "  -1.0486  -0.7091   0.0745\n",
            "  -0.2121   0.8612   0.5924\n",
            "\n",
            "Target shape : 4 3\n",
            "Target : \n",
            "   0.4316   0.5106   0.7059\n",
            "   0.0164   0.9255  -0.8288\n",
            "  -0.4478   0.5571  -0.0231\n",
            "   1.1452   0.0864  -1.0526\n",
            "\n",
            "------------------------------------------------------------------\n",
            "SUM \n",
            "------------------------------------------------------------------\n",
            "FORWARD : \n",
            "Loss : \n",
            "   0.4810   1.0922   0.2580\n",
            "   1.2122   0.8518   1.7936\n",
            "   0.6008   1.2662   0.0976\n",
            "   1.3573   0.7748   1.6450\n",
            "\n",
            "Loss (sum):\n",
            "11.4305\n",
            "BACKWARD : \n",
            "Output shape : 4 3\n",
            "Output (sum) : \n",
            "  -1.0000   1.0000   1.0000\n",
            "  -1.0000  -1.0000   1.0000\n",
            "  -1.0000  -1.0000   1.0000\n",
            "  -1.0000   1.0000   1.0000\n",
            "\n",
            "Sum of all values in this matrix : 0\n",
            "------------------------------------------------------------------\n",
            "MEAN \n",
            "------------------------------------------------------------------\n",
            "FORWARD : \n",
            "Loss (mean):\n",
            "0.952542\n",
            "BACKWARD : \n",
            "Output shape : 4 3\n",
            "Output (mean) : \n",
            "  -0.0833   0.0833   0.0833\n",
            "  -0.0833  -0.0833   0.0833\n",
            "  -0.0833  -0.0833   0.0833\n",
            "  -0.0833   0.0833   0.0833\n",
            "\n",
            "Sum of all values in this matrix : -2.77556e-17\n",
            "------------------------------------------------------------------\n"
          ],
          "name": "stdout"
        }
      ]
    }
  ]
}