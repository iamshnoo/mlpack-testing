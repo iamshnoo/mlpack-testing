{
  "nbformat": 4,
  "nbformat_minor": 0,
  "metadata": {
    "colab": {
      "name": "Soft Margin Loss",
      "provenance": [],
      "collapsed_sections": []
    },
    "kernelspec": {
      "name": "python3",
      "display_name": "Python 3"
    }
  },
  "cells": [
    {
      "cell_type": "markdown",
      "metadata": {
        "id": "ImFKp-XxU9yl",
        "colab_type": "text"
      },
      "source": [
        "# Soft Margin Loss function\n",
        "\n",
        "**Syntax**\n",
        "\n",
        "```python\n",
        "torch.nn.SoftMarginLoss(size_average=None, reduce=None, reduction='mean')\n",
        "```\n",
        "\n",
        "*loss(x,y) = sum over i(log(1+exp(−y[i] . x[i])) / x.nelement())*\n",
        " \n",
        "\n",
        "​\t\n",
        " "
      ]
    },
    {
      "cell_type": "markdown",
      "metadata": {
        "id": "314x96vbqGfp",
        "colab_type": "text"
      },
      "source": [
        "## Link to PyTorch Docs for this function\n"
      ]
    },
    {
      "cell_type": "markdown",
      "metadata": {
        "id": "CX_GTR8NVRmE",
        "colab_type": "text"
      },
      "source": [
        "https://pytorch.org/docs/stable/nn.html#multilabelsoftmarginloss"
      ]
    },
    {
      "cell_type": "markdown",
      "metadata": {
        "id": "mzgcKsH8YaPZ",
        "colab_type": "text"
      },
      "source": [
        "## Imports and Installations"
      ]
    },
    {
      "cell_type": "markdown",
      "metadata": {
        "id": "s3xRgWPbX8Yj",
        "colab_type": "text"
      },
      "source": [
        "### Install mlpack library from linux package manager"
      ]
    },
    {
      "cell_type": "code",
      "metadata": {
        "id": "t8VFiLMHYIFV",
        "colab_type": "code",
        "colab": {}
      },
      "source": [
        "%%capture\n",
        "!sudo apt-get install libmlpack-dev "
      ],
      "execution_count": 0,
      "outputs": []
    },
    {
      "cell_type": "markdown",
      "metadata": {
        "id": "jWfB0dG0YM0z",
        "colab_type": "text"
      },
      "source": [
        "### PyTorch library imports"
      ]
    },
    {
      "cell_type": "code",
      "metadata": {
        "id": "rtKpizrpYOAh",
        "colab_type": "code",
        "colab": {}
      },
      "source": [
        "import torch\n",
        "import torch.nn as nn"
      ],
      "execution_count": 0,
      "outputs": []
    },
    {
      "cell_type": "markdown",
      "metadata": {
        "id": "ZWhFGwbc3K6e",
        "colab_type": "text"
      },
      "source": [
        "## Non-vectorised loss function calculation (Forward method)<br>\n",
        "\n",
        "\n",
        "```cpp\n",
        "  // Assumptions : \n",
        "  // x is 2D input\n",
        "  // y is 2D target\n",
        "  // x and y have same shape\n",
        "  // y can have either 1 or -1 as elements\n",
        "\n",
        "  arma::mat loss = arma::zeros(x.n_rows, x.n_cols);\n",
        "  double sum = 0.0;\n",
        "  for(size_t i = 0; i < x.n_rows; ++i)\n",
        "  {\n",
        "    for (size_t j = 0; j < x.n_cols; ++j)\n",
        "    {\n",
        "      loss(i, j) = std::log(1 + std::exp(-y(i, j) * x(i, j)));\n",
        "      sum += loss(i, j);\n",
        "    }\n",
        "  }\n",
        "  cout << loss << endl;           // reduction = none\n",
        "  cout << sum << endl;            // reduction = sum\n",
        "  cout << sum / x.n_elem << endl; // reduction = mean\n",
        "```"
      ]
    },
    {
      "cell_type": "markdown",
      "metadata": {
        "id": "Bsq0_Jv_6AqC",
        "colab_type": "text"
      },
      "source": [
        "## Vectorised loss function calculation (Forward method)\n",
        "\n",
        "\n",
        "\n",
        "```cpp\n",
        "  arma::mat loss_none = arma::log(1 + arma::exp(-y % x)); // reduction = none\n",
        "  double loss_sum = arma::sum(arma::sum(loss_none));      // reduction = sum\n",
        "  double loss_mean = loss_sum / x.n_elem;                 // reduction = mean\n",
        "```\n",
        "\n"
      ]
    },
    {
      "cell_type": "markdown",
      "metadata": {
        "id": "bTngwpP28F_5",
        "colab_type": "text"
      },
      "source": [
        "## Test Case 1 - shape = (4,3)"
      ]
    },
    {
      "cell_type": "markdown",
      "metadata": {
        "id": "1s7z8kdPCcQJ",
        "colab_type": "text"
      },
      "source": [
        "### Inputs and Targets"
      ]
    },
    {
      "cell_type": "code",
      "metadata": {
        "id": "a0TV3jzvCd5n",
        "colab_type": "code",
        "outputId": "4914580b-acbc-4b52-bd10-fb04423e4118",
        "colab": {
          "base_uri": "https://localhost:8080/",
          "height": 190
        }
      },
      "source": [
        "x = torch.tensor([[ 0.1778,  0.1203, -0.2264],[ 0.0957,  0.2403, -0.3400],[ 0.1397,  0.1925, -0.3336], [ 0.2256, 0.3144, -0.8695]], requires_grad=True) # 4 Rows, 3 columns\n",
        "y = torch.tensor([[1., 1., -1.],[1., -1., 1.],[-1., 1., 1.],[1., 1., 1.]])\n",
        "print(\"Inputs:\\n\", x)\n",
        "print(\"Targets:\\n\", y)"
      ],
      "execution_count": 3,
      "outputs": [
        {
          "output_type": "stream",
          "text": [
            "Inputs:\n",
            " tensor([[ 0.1778,  0.1203, -0.2264],\n",
            "        [ 0.0957,  0.2403, -0.3400],\n",
            "        [ 0.1397,  0.1925, -0.3336],\n",
            "        [ 0.2256,  0.3144, -0.8695]], requires_grad=True)\n",
            "Targets:\n",
            " tensor([[ 1.,  1., -1.],\n",
            "        [ 1., -1.,  1.],\n",
            "        [-1.,  1.,  1.],\n",
            "        [ 1.,  1.,  1.]])\n"
          ],
          "name": "stdout"
        }
      ]
    },
    {
      "cell_type": "markdown",
      "metadata": {
        "id": "VtJtfZOZBZXP",
        "colab_type": "text"
      },
      "source": [
        "### None"
      ]
    },
    {
      "cell_type": "code",
      "metadata": {
        "id": "wd97vgED93ud",
        "colab_type": "code",
        "outputId": "5f03c384-23c9-46e2-b670-c7ca1baf64ae",
        "colab": {
          "base_uri": "https://localhost:8080/",
          "height": 242
        }
      },
      "source": [
        "x = torch.tensor([[ 0.1778,  0.1203, -0.2264],[ 0.0957,  0.2403, -0.3400],[ 0.1397,  0.1925, -0.3336], [ 0.2256, 0.3144, -0.8695]], requires_grad=True) # 4 Rows, 3 columns\n",
        "y = torch.tensor([[1., 1., -1.],[1., -1., 1.],[-1., 1., 1.],[1., 1., 1.]])\n",
        "criterion_none = nn.SoftMarginLoss(reduction='none')\n",
        "loss_none = criterion_none(x,y)\n",
        "print(\"FORWARD:\\n\", loss_none, \"\\nBACKWARD\")\n",
        "loss_none.backward(torch.ones(x.shape))\n",
        "print(x.grad)\n",
        "print(\"---------------------------------------------------------------\")\n",
        "print(torch.sum(x.grad))\n",
        "print(\"---------------------------------------------------------------\")"
      ],
      "execution_count": 4,
      "outputs": [
        {
          "output_type": "stream",
          "text": [
            "FORWARD:\n",
            " tensor([[0.6082, 0.6348, 0.5863],\n",
            "        [0.6464, 0.8205, 0.8775],\n",
            "        [0.7654, 0.6015, 0.8738],\n",
            "        [0.5867, 0.5483, 1.2196]], grad_fn=<SoftMarginLossBackward>) \n",
            "BACKWARD\n",
            "tensor([[-0.4557, -0.4700,  0.4436],\n",
            "        [-0.4761,  0.5598, -0.5842],\n",
            "        [ 0.5349, -0.4520, -0.5826],\n",
            "        [-0.4438, -0.4220, -0.7046]])\n",
            "---------------------------------------------------------------\n",
            "tensor(-3.0528)\n",
            "---------------------------------------------------------------\n"
          ],
          "name": "stdout"
        }
      ]
    },
    {
      "cell_type": "markdown",
      "metadata": {
        "id": "SxGfkWJhBa9D",
        "colab_type": "text"
      },
      "source": [
        "### Sum"
      ]
    },
    {
      "cell_type": "code",
      "metadata": {
        "id": "gk2HhgWt8DuI",
        "colab_type": "code",
        "outputId": "47a3288f-02c0-4e40-cb78-2d4c2f78e8fb",
        "colab": {
          "base_uri": "https://localhost:8080/",
          "height": 190
        }
      },
      "source": [
        "x = torch.tensor([[ 0.1778,  0.1203, -0.2264],[ 0.0957,  0.2403, -0.3400],[ 0.1397,  0.1925, -0.3336], [ 0.2256, 0.3144, -0.8695]], requires_grad=True) # 4 Rows, 3 columns\n",
        "y = torch.tensor([[1., 1., -1.],[1., -1., 1.],[-1., 1., 1.],[1., 1., 1.]])\n",
        "criterion_sum = nn.SoftMarginLoss(reduction='sum')\n",
        "loss_sum = criterion_sum(x,y)\n",
        "print(\"FORWARD:\\n\", loss_sum, \"\\nBACKWARD\")\n",
        "loss_sum.backward()\n",
        "print(x.grad)\n",
        "print(\"---------------------------------------------------------------\")\n",
        "print(torch.sum(x.grad))\n",
        "print(\"---------------------------------------------------------------\")"
      ],
      "execution_count": 5,
      "outputs": [
        {
          "output_type": "stream",
          "text": [
            "FORWARD:\n",
            " tensor(8.7691, grad_fn=<SoftMarginLossBackward>) \n",
            "BACKWARD\n",
            "tensor([[-0.4557, -0.4700,  0.4436],\n",
            "        [-0.4761,  0.5598, -0.5842],\n",
            "        [ 0.5349, -0.4520, -0.5826],\n",
            "        [-0.4438, -0.4220, -0.7046]])\n",
            "---------------------------------------------------------------\n",
            "tensor(-3.0528)\n",
            "---------------------------------------------------------------\n"
          ],
          "name": "stdout"
        }
      ]
    },
    {
      "cell_type": "markdown",
      "metadata": {
        "id": "efYjwZSVBcyZ",
        "colab_type": "text"
      },
      "source": [
        "### Mean"
      ]
    },
    {
      "cell_type": "code",
      "metadata": {
        "id": "pu6rMnRQ8a8m",
        "colab_type": "code",
        "outputId": "bea737f7-4147-439e-e3e5-f1e56bcbc43a",
        "colab": {
          "base_uri": "https://localhost:8080/",
          "height": 190
        }
      },
      "source": [
        "x = torch.tensor([[ 0.1778,  0.1203, -0.2264],[ 0.0957,  0.2403, -0.3400],[ 0.1397,  0.1925, -0.3336], [ 0.2256, 0.3144, -0.8695]], requires_grad=True) # 4 Rows, 3 columns\n",
        "y = torch.tensor([[1., 1., -1.],[1., -1., 1.],[-1., 1., 1.],[1., 1., 1.]])\n",
        "criterion_mean = nn.SoftMarginLoss(reduction='mean')\n",
        "loss_mean = criterion_mean(x,y)\n",
        "print(\"FORWARD:\\n\", loss_mean, \"\\nBACKWARD\")\n",
        "loss_mean.backward()\n",
        "print(x.grad)\n",
        "print(\"---------------------------------------------------------------\")\n",
        "print(torch.sum(x.grad))\n",
        "print(\"---------------------------------------------------------------\")"
      ],
      "execution_count": 6,
      "outputs": [
        {
          "output_type": "stream",
          "text": [
            "FORWARD:\n",
            " tensor(0.7308, grad_fn=<SoftMarginLossBackward>) \n",
            "BACKWARD\n",
            "tensor([[-0.0380, -0.0392,  0.0370],\n",
            "        [-0.0397,  0.0466, -0.0487],\n",
            "        [ 0.0446, -0.0377, -0.0486],\n",
            "        [-0.0370, -0.0352, -0.0587]])\n",
            "---------------------------------------------------------------\n",
            "tensor(-0.2544)\n",
            "---------------------------------------------------------------\n"
          ],
          "name": "stdout"
        }
      ]
    },
    {
      "cell_type": "markdown",
      "metadata": {
        "id": "cA47zkt2Beej",
        "colab_type": "text"
      },
      "source": [
        "### ***test.cpp***\n",
        "\n"
      ]
    },
    {
      "cell_type": "code",
      "metadata": {
        "id": "iSZKTUNf_6-Z",
        "colab_type": "code",
        "colab": {}
      },
      "source": [
        "%%capture\n",
        "%%writefile test.cpp\n",
        "#include <iostream>\n",
        "#include <armadillo>\n",
        "\n",
        "using namespace std;\n",
        "using namespace arma;\n",
        "\n",
        "int main()\n",
        "{\n",
        "  // Constructor\n",
        "  arma::mat x,y;\n",
        "\n",
        "  x << 0.1778 << 0.1203 << -0.2264 << endr\n",
        "    << 0.0957 << 0.2403 << -0.3400 << endr\n",
        "    << 0.1397 << 0.1925 << -0.3336 << endr\n",
        "    << 0.2256 << 0.3144 << -0.8695 << endr;\n",
        "\n",
        "  y <<  1  <<  1  << -1  << endr\n",
        "    <<  1  << -1  <<  1  << endr\n",
        "    << -1  <<  1  <<  1  << endr\n",
        "    <<  1  <<  1  <<  1  << endr;\n",
        "\n",
        "  // Forward\n",
        "  arma::mat loss_none = arma::log(1 + arma::exp(-y % x));\n",
        "  double loss_sum = arma::sum(arma::sum(loss_none));\n",
        "  double loss_mean = loss_sum / x.n_elem;\n",
        "\n",
        "  // Backward\n",
        "  arma::mat output ;\n",
        "  output.set_size(size(x));\n",
        "  arma::mat numerator = -y % arma::exp(-y % x);\n",
        "  arma::mat denominator = 1 + arma::exp(-y % x);\n",
        "  output = numerator / denominator;\n",
        "\n",
        "  // Display\n",
        "  cout << \"------------------------------------------------------------------\" << endl;\n",
        "  cout << \"USER-PROVIDED MATRICES : \" << endl;\n",
        "  cout << \"------------------------------------------------------------------\" << endl;\n",
        "  cout << \"Input shape : \"<< x.n_rows << \" \" << x.n_cols << endl;\n",
        "  cout << \"Input : \" << endl << x << endl;\n",
        "  cout << \"Target shape : \"<< y.n_rows << \" \" << y.n_cols << endl;\n",
        "  cout << \"Target : \" << endl << y << endl;\n",
        "  cout << \"------------------------------------------------------------------\" << endl;\n",
        "  cout << \"SUM \" << endl;\n",
        "  cout << \"------------------------------------------------------------------\" << endl;\n",
        "  cout << \"FORWARD : \" << endl;\n",
        "  cout << \"Loss : \\n\" << loss_none << '\\n';\n",
        "  cout << \"Loss (sum):\\n\" << loss_sum << '\\n';\n",
        "  cout << \"BACKWARD : \" << endl;\n",
        "  cout << \"Output shape : \"<< output.n_rows << \" \" << output.n_cols << endl;\n",
        "  cout << \"Output (sum) : \" << endl << output << endl;\n",
        "  cout << \"Sum of all values in this matrix : \" << arma::as_scalar(arma::accu(output)) << endl;\n",
        "  cout << \"------------------------------------------------------------------\" << endl;\n",
        "  cout << \"MEAN \" << endl;\n",
        "  cout << \"------------------------------------------------------------------\" << endl;\n",
        "  cout << \"FORWARD : \" << endl;\n",
        "  cout << \"Loss (mean):\\n\" << loss_mean << '\\n';\n",
        "  cout << \"BACKWARD : \" << endl;\n",
        "  cout << \"Output shape : \"<< output.n_rows << \" \" << output.n_cols << endl;\n",
        "  cout << \"Output (mean) : \" << endl << output / x.n_elem << endl;\n",
        "  cout << \"Sum of all values in this matrix : \" << arma::as_scalar(arma::accu(output / x.n_elem)) << endl;\n",
        "  cout << \"------------------------------------------------------------------\" << endl;\n",
        "  return 0;\n",
        "}"
      ],
      "execution_count": 0,
      "outputs": []
    },
    {
      "cell_type": "markdown",
      "metadata": {
        "id": "5hDkP3PgCMu2",
        "colab_type": "text"
      },
      "source": [
        "### Run ***test.cpp***"
      ]
    },
    {
      "cell_type": "code",
      "metadata": {
        "id": "e_oiHet_ADtE",
        "colab_type": "code",
        "outputId": "517a3eb2-cc2f-4fb4-fbb5-ded697ddc835",
        "colab": {
          "base_uri": "https://localhost:8080/",
          "height": 953
        }
      },
      "source": [
        "%%script bash\n",
        "g++ test.cpp -o test -larmadillo && ./test"
      ],
      "execution_count": 8,
      "outputs": [
        {
          "output_type": "stream",
          "text": [
            "------------------------------------------------------------------\n",
            "USER-PROVIDED MATRICES : \n",
            "------------------------------------------------------------------\n",
            "Input shape : 4 3\n",
            "Input : \n",
            "   0.1778   0.1203  -0.2264\n",
            "   0.0957   0.2403  -0.3400\n",
            "   0.1397   0.1925  -0.3336\n",
            "   0.2256   0.3144  -0.8695\n",
            "\n",
            "Target shape : 4 3\n",
            "Target : \n",
            "   1.0000   1.0000  -1.0000\n",
            "   1.0000  -1.0000   1.0000\n",
            "  -1.0000   1.0000   1.0000\n",
            "   1.0000   1.0000   1.0000\n",
            "\n",
            "------------------------------------------------------------------\n",
            "SUM \n",
            "------------------------------------------------------------------\n",
            "FORWARD : \n",
            "Loss : \n",
            "   0.6082   0.6348   0.5863\n",
            "   0.6464   0.8205   0.8775\n",
            "   0.7654   0.6015   0.8738\n",
            "   0.5867   0.5483   1.2196\n",
            "\n",
            "Loss (sum):\n",
            "8.76907\n",
            "BACKWARD : \n",
            "Output shape : 4 3\n",
            "Output (sum) : \n",
            "  -0.4557  -0.4700   0.4436\n",
            "  -0.4761   0.5598  -0.5842\n",
            "   0.5349  -0.4520  -0.5826\n",
            "  -0.4438  -0.4220  -0.7046\n",
            "\n",
            "Sum of all values in this matrix : -3.05279\n",
            "------------------------------------------------------------------\n",
            "MEAN \n",
            "------------------------------------------------------------------\n",
            "FORWARD : \n",
            "Loss (mean):\n",
            "0.730756\n",
            "BACKWARD : \n",
            "Output shape : 4 3\n",
            "Output (mean) : \n",
            "  -0.0380  -0.0392   0.0370\n",
            "  -0.0397   0.0466  -0.0487\n",
            "   0.0446  -0.0377  -0.0486\n",
            "  -0.0370  -0.0352  -0.0587\n",
            "\n",
            "Sum of all values in this matrix : -0.2544\n",
            "------------------------------------------------------------------\n"
          ],
          "name": "stdout"
        }
      ]
    },
    {
      "cell_type": "markdown",
      "metadata": {
        "id": "TtAAoJZT8uQz",
        "colab_type": "text"
      },
      "source": [
        "## Test Case 2 - shape = (3,4)"
      ]
    },
    {
      "cell_type": "markdown",
      "metadata": {
        "id": "XaRUXN5aCnC9",
        "colab_type": "text"
      },
      "source": [
        "### Inputs and Targets"
      ]
    },
    {
      "cell_type": "code",
      "metadata": {
        "id": "xc-Ut85NCohH",
        "colab_type": "code",
        "outputId": "6c6d17d6-0e00-49f0-e95b-6db3b5e574f8",
        "colab": {
          "base_uri": "https://localhost:8080/",
          "height": 156
        }
      },
      "source": [
        "x = torch.tensor([[ 0.1778,  0.1203, -0.2264, 0.1406],[ 0.0957,  0.2403, -0.3400, 0.0276],[ 0.1397,  0.1925, -0.3336, 0.3144]], requires_grad=True) \n",
        "y = torch.tensor([[-1., 1., 1., 1.],[1., -1., 1., 1.],[1., 1., -1., 1.]]) \n",
        "print(\"Inputs:\\n\", x)\n",
        "print(\"Targets:\\n\", y)"
      ],
      "execution_count": 9,
      "outputs": [
        {
          "output_type": "stream",
          "text": [
            "Inputs:\n",
            " tensor([[ 0.1778,  0.1203, -0.2264,  0.1406],\n",
            "        [ 0.0957,  0.2403, -0.3400,  0.0276],\n",
            "        [ 0.1397,  0.1925, -0.3336,  0.3144]], requires_grad=True)\n",
            "Targets:\n",
            " tensor([[-1.,  1.,  1.,  1.],\n",
            "        [ 1., -1.,  1.,  1.],\n",
            "        [ 1.,  1., -1.,  1.]])\n"
          ],
          "name": "stdout"
        }
      ]
    },
    {
      "cell_type": "markdown",
      "metadata": {
        "id": "3eX4BmpUCFc0",
        "colab_type": "text"
      },
      "source": [
        "### None"
      ]
    },
    {
      "cell_type": "code",
      "metadata": {
        "id": "QLaSHA1r98kq",
        "colab_type": "code",
        "outputId": "de51cd36-06a3-4ac3-b280-9cdc36f81483",
        "colab": {
          "base_uri": "https://localhost:8080/",
          "height": 208
        }
      },
      "source": [
        "x = torch.tensor([[ 0.1778,  0.1203, -0.2264, 0.1406],[ 0.0957,  0.2403, -0.3400, 0.0276],[ 0.1397,  0.1925, -0.3336, 0.3144]], requires_grad=True) \n",
        "y = torch.tensor([[-1., 1., 1., 1.],[1., -1., 1., 1.],[1., 1., -1., 1.]]) \n",
        "criterion_none = nn.SoftMarginLoss(reduction='none')\n",
        "loss_none = criterion_none(x,y)\n",
        "print(\"FORWARD:\\n\", loss_none, \"\\nBACKWARD\")\n",
        "loss_none.backward(torch.ones(x.shape))\n",
        "print(x.grad)\n",
        "print(\"---------------------------------------------------------------\")\n",
        "print(torch.sum(x.grad))\n",
        "print(\"---------------------------------------------------------------\")"
      ],
      "execution_count": 10,
      "outputs": [
        {
          "output_type": "stream",
          "text": [
            "FORWARD:\n",
            " tensor([[0.7860, 0.6348, 0.8127, 0.6253],\n",
            "        [0.6464, 0.8205, 0.8775, 0.6794],\n",
            "        [0.6257, 0.6015, 0.5402, 0.5483]], grad_fn=<SoftMarginLossBackward>) \n",
            "BACKWARD\n",
            "tensor([[ 0.5443, -0.4700, -0.5564, -0.4649],\n",
            "        [-0.4761,  0.5598, -0.5842, -0.4931],\n",
            "        [-0.4651, -0.4520,  0.4174, -0.4220]])\n",
            "---------------------------------------------------------------\n",
            "tensor(-2.8623)\n",
            "---------------------------------------------------------------\n"
          ],
          "name": "stdout"
        }
      ]
    },
    {
      "cell_type": "markdown",
      "metadata": {
        "id": "GBppiIIPCHK4",
        "colab_type": "text"
      },
      "source": [
        "### Sum"
      ]
    },
    {
      "cell_type": "code",
      "metadata": {
        "id": "NY8gU4nc8z2B",
        "colab_type": "code",
        "outputId": "699bb05b-64bb-44e5-95f1-0304b9a6704a",
        "colab": {
          "base_uri": "https://localhost:8080/",
          "height": 173
        }
      },
      "source": [
        "x = torch.tensor([[ 0.1778,  0.1203, -0.2264, 0.1406],[ 0.0957,  0.2403, -0.3400, 0.0276],[ 0.1397,  0.1925, -0.3336, 0.3144]], requires_grad=True) \n",
        "y = torch.tensor([[-1., 1., 1., 1.],[1., -1., 1., 1.],[1., 1., -1., 1.]]) \n",
        "loss_sum = criterion_sum(x,y)\n",
        "print(\"FORWARD:\\n\", loss_sum, \"\\nBACKWARD\")\n",
        "loss_sum.backward()\n",
        "print(x.grad)\n",
        "print(\"---------------------------------------------------------------\")\n",
        "print(torch.sum(x.grad))\n",
        "print(\"---------------------------------------------------------------\")"
      ],
      "execution_count": 11,
      "outputs": [
        {
          "output_type": "stream",
          "text": [
            "FORWARD:\n",
            " tensor(8.1985, grad_fn=<SoftMarginLossBackward>) \n",
            "BACKWARD\n",
            "tensor([[ 0.5443, -0.4700, -0.5564, -0.4649],\n",
            "        [-0.4761,  0.5598, -0.5842, -0.4931],\n",
            "        [-0.4651, -0.4520,  0.4174, -0.4220]])\n",
            "---------------------------------------------------------------\n",
            "tensor(-2.8623)\n",
            "---------------------------------------------------------------\n"
          ],
          "name": "stdout"
        }
      ]
    },
    {
      "cell_type": "markdown",
      "metadata": {
        "id": "Q7trg8CmCCjG",
        "colab_type": "text"
      },
      "source": [
        "### Mean"
      ]
    },
    {
      "cell_type": "code",
      "metadata": {
        "id": "FgoWZnQZ83OE",
        "colab_type": "code",
        "outputId": "b249cd1e-911a-479a-9227-c92660b1aba1",
        "colab": {
          "base_uri": "https://localhost:8080/",
          "height": 173
        }
      },
      "source": [
        "x = torch.tensor([[ 0.1778,  0.1203, -0.2264, 0.1406],[ 0.0957,  0.2403, -0.3400, 0.0276],[ 0.1397,  0.1925, -0.3336, 0.3144]], requires_grad=True) \n",
        "y = torch.tensor([[-1., 1., 1., 1.],[1., -1., 1., 1.],[1., 1., -1., 1.]]) \n",
        "criterion_mean = nn.SoftMarginLoss(reduction='mean')\n",
        "loss_mean = criterion_mean(x,y)\n",
        "print(\"FORWARD:\\n\", loss_mean, \"\\nBACKWARD\")\n",
        "loss_mean.backward()\n",
        "print(x.grad)\n",
        "print(\"---------------------------------------------------------------\")\n",
        "print(torch.sum(x.grad))\n",
        "print(\"---------------------------------------------------------------\")"
      ],
      "execution_count": 12,
      "outputs": [
        {
          "output_type": "stream",
          "text": [
            "FORWARD:\n",
            " tensor(0.6832, grad_fn=<SoftMarginLossBackward>) \n",
            "BACKWARD\n",
            "tensor([[ 0.0454, -0.0392, -0.0464, -0.0387],\n",
            "        [-0.0397,  0.0466, -0.0487, -0.0411],\n",
            "        [-0.0388, -0.0377,  0.0348, -0.0352]])\n",
            "---------------------------------------------------------------\n",
            "tensor(-0.2385)\n",
            "---------------------------------------------------------------\n"
          ],
          "name": "stdout"
        }
      ]
    },
    {
      "cell_type": "markdown",
      "metadata": {
        "id": "texeBhZfBs_w",
        "colab_type": "text"
      },
      "source": [
        "### ***test.cpp***"
      ]
    },
    {
      "cell_type": "code",
      "metadata": {
        "id": "w_yN_ca6AJu3",
        "colab_type": "code",
        "colab": {}
      },
      "source": [
        "%%capture\n",
        "%%writefile test.cpp\n",
        "#include <iostream>\n",
        "#include <armadillo>\n",
        "\n",
        "using namespace std;\n",
        "using namespace arma;\n",
        "\n",
        "int main()\n",
        "{\n",
        "  // Constructor\n",
        "  arma::mat x,y;\n",
        "\n",
        "  x << 0.1778 << 0.1203 << -0.2264 << 0.1406 << endr\n",
        "    << 0.0957 << 0.2403 << -0.3400 << 0.0276 << endr\n",
        "    << 0.1397 << 0.1925 << -0.3336 << 0.3144 << endr;\n",
        "\n",
        "  y << -1 <<  1 <<  1 << 1 << endr\n",
        "    <<  1 << -1 <<  1 << 1 << endr\n",
        "    <<  1 <<  1 << -1 << 1 << endr;\n",
        "\n",
        "  // Forward\n",
        "  arma::mat loss_none = arma::log(1 + arma::exp(-y % x));\n",
        "  double loss_sum = arma::sum(arma::sum(loss_none));\n",
        "  double loss_mean = loss_sum / x.n_elem;\n",
        "\n",
        "  // Backward\n",
        "  arma::mat output ;\n",
        "  output.set_size(size(x));\n",
        "  arma::mat numerator = -y % arma::exp(-y % x);\n",
        "  arma::mat denominator = 1 + arma::exp(-y % x);\n",
        "  output = numerator / denominator;\n",
        "\n",
        "  // Display\n",
        "  cout << \"------------------------------------------------------------------\" << endl;\n",
        "  cout << \"USER-PROVIDED MATRICES : \" << endl;\n",
        "  cout << \"------------------------------------------------------------------\" << endl;\n",
        "  cout << \"Input shape : \"<< x.n_rows << \" \" << x.n_cols << endl;\n",
        "  cout << \"Input : \" << endl << x << endl;\n",
        "  cout << \"Target shape : \"<< y.n_rows << \" \" << y.n_cols << endl;\n",
        "  cout << \"Target : \" << endl << y << endl;\n",
        "  cout << \"------------------------------------------------------------------\" << endl;\n",
        "  cout << \"SUM \" << endl;\n",
        "  cout << \"------------------------------------------------------------------\" << endl;\n",
        "  cout << \"FORWARD : \" << endl;\n",
        "  cout << \"Loss : \\n\" << loss_none << '\\n';\n",
        "  cout << \"Loss (sum):\\n\" << loss_sum << '\\n';\n",
        "  cout << \"BACKWARD : \" << endl;\n",
        "  cout << \"Output shape : \"<< output.n_rows << \" \" << output.n_cols << endl;\n",
        "  cout << \"Output (sum) : \" << endl << output << endl;\n",
        "  cout << \"Sum of all values in this matrix : \" << arma::as_scalar(arma::accu(output)) << endl;\n",
        "  cout << \"------------------------------------------------------------------\" << endl;\n",
        "  cout << \"MEAN \" << endl;\n",
        "  cout << \"------------------------------------------------------------------\" << endl;\n",
        "  cout << \"FORWARD : \" << endl;\n",
        "  cout << \"Loss (mean):\\n\" << loss_mean << '\\n';\n",
        "  cout << \"BACKWARD : \" << endl;\n",
        "  cout << \"Output shape : \"<< output.n_rows << \" \" << output.n_cols << endl;\n",
        "  cout << \"Output (mean) : \" << endl << output / x.n_elem << endl;\n",
        "  cout << \"Sum of all values in this matrix : \" << arma::as_scalar(arma::accu(output / x.n_elem)) << endl;\n",
        "  cout << \"------------------------------------------------------------------\" << endl;\n",
        "  return 0;\n",
        "}"
      ],
      "execution_count": 0,
      "outputs": []
    },
    {
      "cell_type": "markdown",
      "metadata": {
        "id": "trRRVSZfB-L6",
        "colab_type": "text"
      },
      "source": [
        "### Run ***test.cpp***"
      ]
    },
    {
      "cell_type": "code",
      "metadata": {
        "id": "yq2XQxSLAKpp",
        "colab_type": "code",
        "outputId": "92d2375f-2d5e-4523-ab90-3179a3222756",
        "colab": {
          "base_uri": "https://localhost:8080/",
          "height": 866
        }
      },
      "source": [
        "%%script bash\n",
        "g++ test.cpp -o test -larmadillo && ./test"
      ],
      "execution_count": 14,
      "outputs": [
        {
          "output_type": "stream",
          "text": [
            "------------------------------------------------------------------\n",
            "USER-PROVIDED MATRICES : \n",
            "------------------------------------------------------------------\n",
            "Input shape : 3 4\n",
            "Input : \n",
            "   0.1778   0.1203  -0.2264   0.1406\n",
            "   0.0957   0.2403  -0.3400   0.0276\n",
            "   0.1397   0.1925  -0.3336   0.3144\n",
            "\n",
            "Target shape : 3 4\n",
            "Target : \n",
            "  -1.0000   1.0000   1.0000   1.0000\n",
            "   1.0000  -1.0000   1.0000   1.0000\n",
            "   1.0000   1.0000  -1.0000   1.0000\n",
            "\n",
            "------------------------------------------------------------------\n",
            "SUM \n",
            "------------------------------------------------------------------\n",
            "FORWARD : \n",
            "Loss : \n",
            "   0.7860   0.6348   0.8127   0.6253\n",
            "   0.6464   0.8205   0.8775   0.6794\n",
            "   0.6257   0.6015   0.5402   0.5483\n",
            "\n",
            "Loss (sum):\n",
            "8.19847\n",
            "BACKWARD : \n",
            "Output shape : 3 4\n",
            "Output (sum) : \n",
            "   0.5443  -0.4700  -0.5564  -0.4649\n",
            "  -0.4761   0.5598  -0.5842  -0.4931\n",
            "  -0.4651  -0.4520   0.4174  -0.4220\n",
            "\n",
            "Sum of all values in this matrix : -2.86232\n",
            "------------------------------------------------------------------\n",
            "MEAN \n",
            "------------------------------------------------------------------\n",
            "FORWARD : \n",
            "Loss (mean):\n",
            "0.683206\n",
            "BACKWARD : \n",
            "Output shape : 3 4\n",
            "Output (mean) : \n",
            "   0.0454  -0.0392  -0.0464  -0.0387\n",
            "  -0.0397   0.0466  -0.0487  -0.0411\n",
            "  -0.0388  -0.0377   0.0348  -0.0352\n",
            "\n",
            "Sum of all values in this matrix : -0.238527\n",
            "------------------------------------------------------------------\n"
          ],
          "name": "stdout"
        }
      ]
    },
    {
      "cell_type": "markdown",
      "metadata": {
        "id": "fEwieBsL7oPG",
        "colab_type": "text"
      },
      "source": [
        "## Test Case 3 - shape = (3,3)"
      ]
    },
    {
      "cell_type": "markdown",
      "metadata": {
        "id": "dkBsXo4mC8z6",
        "colab_type": "text"
      },
      "source": [
        "### Inputs and Targets"
      ]
    },
    {
      "cell_type": "code",
      "metadata": {
        "id": "REaOcV_fC-9U",
        "colab_type": "code",
        "outputId": "c92e735a-17ac-4cd5-f546-60716915c08a",
        "colab": {
          "base_uri": "https://localhost:8080/",
          "height": 156
        }
      },
      "source": [
        "x = torch.tensor([[ 0.1778,  0.1203, -0.2264],[ 0.0957,  0.2403, -0.3400],[ 0.1397,  0.1925, -0.3336]], requires_grad=True) \n",
        "y = torch.tensor([[1., 1., -1.],[1., -1., 1.],[-1., 1., 1.]]) \n",
        "print(\"Inputs:\\n\", x)\n",
        "print(\"Targets:\\n\", y)"
      ],
      "execution_count": 15,
      "outputs": [
        {
          "output_type": "stream",
          "text": [
            "Inputs:\n",
            " tensor([[ 0.1778,  0.1203, -0.2264],\n",
            "        [ 0.0957,  0.2403, -0.3400],\n",
            "        [ 0.1397,  0.1925, -0.3336]], requires_grad=True)\n",
            "Targets:\n",
            " tensor([[ 1.,  1., -1.],\n",
            "        [ 1., -1.,  1.],\n",
            "        [-1.,  1.,  1.]])\n"
          ],
          "name": "stdout"
        }
      ]
    },
    {
      "cell_type": "markdown",
      "metadata": {
        "id": "6CyWzaugB0ia",
        "colab_type": "text"
      },
      "source": [
        "### None"
      ]
    },
    {
      "cell_type": "code",
      "metadata": {
        "id": "gKgsKU1k9m5C",
        "colab_type": "code",
        "outputId": "6959ef00-22cc-45b8-c88e-c5756eea9ed6",
        "colab": {
          "base_uri": "https://localhost:8080/",
          "height": 208
        }
      },
      "source": [
        "x = torch.tensor([[ 0.1778,  0.1203, -0.2264],[ 0.0957,  0.2403, -0.3400],[ 0.1397,  0.1925, -0.3336]], requires_grad=True) \n",
        "y = torch.tensor([[1., 1., -1.],[1., -1., 1.],[-1., 1., 1.]]) \n",
        "criterion_none = nn.SoftMarginLoss(reduction='none')\n",
        "loss_none = criterion_none(x,y)\n",
        "print(\"FORWARD:\\n\", loss_none, \"\\nBACKWARD\")\n",
        "loss_none.backward(torch.ones(x.shape))\n",
        "print(x.grad)\n",
        "print(\"---------------------------------------------------------------\")\n",
        "print(torch.sum(x.grad))\n",
        "print(\"---------------------------------------------------------------\")"
      ],
      "execution_count": 16,
      "outputs": [
        {
          "output_type": "stream",
          "text": [
            "FORWARD:\n",
            " tensor([[0.6082, 0.6348, 0.5863],\n",
            "        [0.6464, 0.8205, 0.8775],\n",
            "        [0.7654, 0.6015, 0.8738]], grad_fn=<SoftMarginLossBackward>) \n",
            "BACKWARD\n",
            "tensor([[-0.4557, -0.4700,  0.4436],\n",
            "        [-0.4761,  0.5598, -0.5842],\n",
            "        [ 0.5349, -0.4520, -0.5826]])\n",
            "---------------------------------------------------------------\n",
            "tensor(-1.4823)\n",
            "---------------------------------------------------------------\n"
          ],
          "name": "stdout"
        }
      ]
    },
    {
      "cell_type": "markdown",
      "metadata": {
        "id": "32yD8lQVB2Bj",
        "colab_type": "text"
      },
      "source": [
        "### Sum"
      ]
    },
    {
      "cell_type": "code",
      "metadata": {
        "id": "er1jGjfY7mLO",
        "colab_type": "code",
        "outputId": "8216fbf4-c369-448f-8abb-633ec7cc9fcc",
        "colab": {
          "base_uri": "https://localhost:8080/",
          "height": 173
        }
      },
      "source": [
        "x = torch.tensor([[ 0.1778,  0.1203, -0.2264],[ 0.0957,  0.2403, -0.3400],[ 0.1397,  0.1925, -0.3336]], requires_grad=True) \n",
        "y = torch.tensor([[1., 1., -1.],[1., -1., 1.],[-1., 1., 1.]]) \n",
        "criterion_sum = nn.SoftMarginLoss(reduction='sum')\n",
        "loss_sum = criterion_sum(x,y)\n",
        "print(\"FORWARD:\\n\", loss_sum, \"\\nBACKWARD\")\n",
        "loss_sum.backward()\n",
        "print(x.grad)\n",
        "print(\"---------------------------------------------------------------\")\n",
        "print(torch.sum(x.grad))\n",
        "print(\"---------------------------------------------------------------\")"
      ],
      "execution_count": 17,
      "outputs": [
        {
          "output_type": "stream",
          "text": [
            "FORWARD:\n",
            " tensor(6.4146, grad_fn=<SoftMarginLossBackward>) \n",
            "BACKWARD\n",
            "tensor([[-0.4557, -0.4700,  0.4436],\n",
            "        [-0.4761,  0.5598, -0.5842],\n",
            "        [ 0.5349, -0.4520, -0.5826]])\n",
            "---------------------------------------------------------------\n",
            "tensor(-1.4823)\n",
            "---------------------------------------------------------------\n"
          ],
          "name": "stdout"
        }
      ]
    },
    {
      "cell_type": "markdown",
      "metadata": {
        "id": "HO1CyaUFB48q",
        "colab_type": "text"
      },
      "source": [
        "### Mean"
      ]
    },
    {
      "cell_type": "code",
      "metadata": {
        "id": "6xdqJwlC71uh",
        "colab_type": "code",
        "outputId": "64179bf3-111e-47ee-aa43-27e65415ad71",
        "colab": {
          "base_uri": "https://localhost:8080/",
          "height": 173
        }
      },
      "source": [
        "x = torch.tensor([[ 0.1778,  0.1203, -0.2264],[ 0.0957,  0.2403, -0.3400],[ 0.1397,  0.1925, -0.3336]], requires_grad=True) # 3 Rows, 3 columns\n",
        "y = torch.tensor([[1., 1., -1.],[1., -1., 1.],[-1., 1., 1.]]) # 3 Rows, 3 columns\n",
        "criterion_mean = nn.SoftMarginLoss(reduction='mean')\n",
        "loss_mean = criterion_mean(x,y)\n",
        "print(\"FORWARD:\\n\", loss_mean, \"\\nBACKWARD\")\n",
        "loss_mean.backward()\n",
        "print(x.grad)\n",
        "print(\"---------------------------------------------------------------\")\n",
        "print(torch.sum(x.grad))\n",
        "print(\"---------------------------------------------------------------\")"
      ],
      "execution_count": 18,
      "outputs": [
        {
          "output_type": "stream",
          "text": [
            "FORWARD:\n",
            " tensor(0.7127, grad_fn=<SoftMarginLossBackward>) \n",
            "BACKWARD\n",
            "tensor([[-0.0506, -0.0522,  0.0493],\n",
            "        [-0.0529,  0.0622, -0.0649],\n",
            "        [ 0.0594, -0.0502, -0.0647]])\n",
            "---------------------------------------------------------------\n",
            "tensor(-0.1647)\n",
            "---------------------------------------------------------------\n"
          ],
          "name": "stdout"
        }
      ]
    },
    {
      "cell_type": "markdown",
      "metadata": {
        "id": "kJow9sUIBvOv",
        "colab_type": "text"
      },
      "source": [
        "### ***test.cpp***"
      ]
    },
    {
      "cell_type": "code",
      "metadata": {
        "id": "Cs-s3GkfAMpF",
        "colab_type": "code",
        "colab": {}
      },
      "source": [
        "%%capture\n",
        "%%writefile test.cpp\n",
        "#include <iostream>\n",
        "#include <armadillo>\n",
        "\n",
        "using namespace std;\n",
        "using namespace arma;\n",
        "\n",
        "int main()\n",
        "{\n",
        "  // Constructor\n",
        "  arma::mat x,y;\n",
        "\n",
        "  x << 0.1778 << 0.1203 << -0.2264 << endr\n",
        "    << 0.0957 << 0.2403 << -0.3400 << endr\n",
        "    << 0.1397 << 0.1925 << -0.3336 << endr;\n",
        "\n",
        "  y <<  1  <<  1  << -1  << endr\n",
        "    <<  1  << -1  <<  1  << endr\n",
        "    << -1  <<  1  <<  1  << endr;\n",
        "\n",
        "  // Forward\n",
        "  arma::mat loss_none = arma::log(1 + arma::exp(-y % x));\n",
        "  double loss_sum = arma::sum(arma::sum(loss_none));\n",
        "  double loss_mean = loss_sum / x.n_elem;\n",
        "\n",
        "  // Backward\n",
        "  arma::mat output ;\n",
        "  output.set_size(size(x));\n",
        "  arma::mat numerator = -y % arma::exp(-y % x);\n",
        "  arma::mat denominator = 1 + arma::exp(-y % x);\n",
        "  output = numerator / denominator;\n",
        "\n",
        "  // Display\n",
        "  cout << \"------------------------------------------------------------------\" << endl;\n",
        "  cout << \"USER-PROVIDED MATRICES : \" << endl;\n",
        "  cout << \"------------------------------------------------------------------\" << endl;\n",
        "  cout << \"Input shape : \"<< x.n_rows << \" \" << x.n_cols << endl;\n",
        "  cout << \"Input : \" << endl << x << endl;\n",
        "  cout << \"Target shape : \"<< y.n_rows << \" \" << y.n_cols << endl;\n",
        "  cout << \"Target : \" << endl << y << endl;\n",
        "  cout << \"------------------------------------------------------------------\" << endl;\n",
        "  cout << \"SUM \" << endl;\n",
        "  cout << \"------------------------------------------------------------------\" << endl;\n",
        "  cout << \"FORWARD : \" << endl;\n",
        "  cout << \"Loss : \\n\" << loss_none << '\\n';\n",
        "  cout << \"Loss (sum):\\n\" << loss_sum << '\\n';\n",
        "  cout << \"BACKWARD : \" << endl;\n",
        "  cout << \"Output shape : \"<< output.n_rows << \" \" << output.n_cols << endl;\n",
        "  cout << \"Output (sum) : \" << endl << output << endl;\n",
        "  cout << \"Sum of all values in this matrix : \" << arma::as_scalar(arma::accu(output)) << endl;\n",
        "  cout << \"------------------------------------------------------------------\" << endl;\n",
        "  cout << \"MEAN \" << endl;\n",
        "  cout << \"------------------------------------------------------------------\" << endl;\n",
        "  cout << \"FORWARD : \" << endl;\n",
        "  cout << \"Loss (mean):\\n\" << loss_mean << '\\n';\n",
        "  cout << \"BACKWARD : \" << endl;\n",
        "  cout << \"Output shape : \"<< output.n_rows << \" \" << output.n_cols << endl;\n",
        "  cout << \"Output (mean) : \" << endl << output / x.n_elem << endl;\n",
        "  cout << \"Sum of all values in this matrix : \" << arma::as_scalar(arma::accu(output / x.n_elem)) << endl;\n",
        "  cout << \"------------------------------------------------------------------\" << endl;\n",
        "  return 0;\n",
        "}"
      ],
      "execution_count": 0,
      "outputs": []
    },
    {
      "cell_type": "markdown",
      "metadata": {
        "id": "hiQlb_WBBw5h",
        "colab_type": "text"
      },
      "source": [
        "### Run ***test.cpp***"
      ]
    },
    {
      "cell_type": "code",
      "metadata": {
        "id": "m6illgthAMux",
        "colab_type": "code",
        "outputId": "a7ed344f-ac32-475b-b1c8-3c3674449cd8",
        "colab": {
          "base_uri": "https://localhost:8080/",
          "height": 866
        }
      },
      "source": [
        "%%script bash\n",
        "g++ test.cpp -o test -larmadillo && ./test"
      ],
      "execution_count": 20,
      "outputs": [
        {
          "output_type": "stream",
          "text": [
            "------------------------------------------------------------------\n",
            "USER-PROVIDED MATRICES : \n",
            "------------------------------------------------------------------\n",
            "Input shape : 3 3\n",
            "Input : \n",
            "   0.1778   0.1203  -0.2264\n",
            "   0.0957   0.2403  -0.3400\n",
            "   0.1397   0.1925  -0.3336\n",
            "\n",
            "Target shape : 3 3\n",
            "Target : \n",
            "   1.0000   1.0000  -1.0000\n",
            "   1.0000  -1.0000   1.0000\n",
            "  -1.0000   1.0000   1.0000\n",
            "\n",
            "------------------------------------------------------------------\n",
            "SUM \n",
            "------------------------------------------------------------------\n",
            "FORWARD : \n",
            "Loss : \n",
            "   0.6082   0.6348   0.5863\n",
            "   0.6464   0.8205   0.8775\n",
            "   0.7654   0.6015   0.8738\n",
            "\n",
            "Loss (sum):\n",
            "6.41456\n",
            "BACKWARD : \n",
            "Output shape : 3 3\n",
            "Output (sum) : \n",
            "  -0.4557  -0.4700   0.4436\n",
            "  -0.4761   0.5598  -0.5842\n",
            "   0.5349  -0.4520  -0.5826\n",
            "\n",
            "Sum of all values in this matrix : -1.48227\n",
            "------------------------------------------------------------------\n",
            "MEAN \n",
            "------------------------------------------------------------------\n",
            "FORWARD : \n",
            "Loss (mean):\n",
            "0.712729\n",
            "BACKWARD : \n",
            "Output shape : 3 3\n",
            "Output (mean) : \n",
            "  -0.0506  -0.0522   0.0493\n",
            "  -0.0529   0.0622  -0.0649\n",
            "   0.0594  -0.0502  -0.0647\n",
            "\n",
            "Sum of all values in this matrix : -0.164697\n",
            "------------------------------------------------------------------\n"
          ],
          "name": "stdout"
        }
      ]
    }
  ]
}