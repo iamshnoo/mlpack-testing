{
  "nbformat": 4,
  "nbformat_minor": 0,
  "metadata": {
    "colab": {
      "name": "MSE Loss",
      "provenance": [],
      "collapsed_sections": [
        "yPWU9O3LO94x",
        "YBHd3wIt4H2l",
        "2eAofEln4H2p",
        "vJukNLu24H2s"
      ]
    },
    "kernelspec": {
      "name": "python3",
      "display_name": "Python 3"
    }
  },
  "cells": [
    {
      "cell_type": "markdown",
      "metadata": {
        "id": "tRLe8VENOQM9",
        "colab_type": "text"
      },
      "source": [
        "# MSE loss\n",
        "\n",
        "The current mlpack implementation has not been used here. <br>\n",
        "Instead I have used the standardised format which I am using for other loss functions."
      ]
    },
    {
      "cell_type": "markdown",
      "metadata": {
        "id": "yPWU9O3LO94x",
        "colab_type": "text"
      },
      "source": [
        "### Imports and installation of mlpack"
      ]
    },
    {
      "cell_type": "code",
      "metadata": {
        "id": "ZoQR5XuyPAb9",
        "colab_type": "code",
        "colab": {}
      },
      "source": [
        "%%capture\n",
        "!sudo apt-get install libmlpack-dev \n",
        "import torch\n",
        "import torch.nn as nn"
      ],
      "execution_count": 0,
      "outputs": []
    },
    {
      "cell_type": "markdown",
      "metadata": {
        "colab_type": "text",
        "id": "y6sYXvFs4H2k"
      },
      "source": [
        "### PyTorch"
      ]
    },
    {
      "cell_type": "markdown",
      "metadata": {
        "colab_type": "text",
        "id": "YBHd3wIt4H2l"
      },
      "source": [
        "#### None Reduction\n"
      ]
    },
    {
      "cell_type": "code",
      "metadata": {
        "colab_type": "code",
        "id": "tbvKldxa4H2m",
        "outputId": "87414d14-f4a6-4c34-e86f-234702f2305f",
        "colab": {
          "base_uri": "https://localhost:8080/",
          "height": 381
        }
      },
      "source": [
        "loss = torch.nn.MSELoss(reduction='none')\n",
        "input = torch.tensor([[-0.0494,  1.6028,  0.9639],\n",
        "                      [-1.1958,  0.0737,  0.9648],\n",
        "                      [-1.0486, -0.7091,  0.0745],\n",
        "                      [-0.2121,  0.8612,  0.5924]], requires_grad=True)\n",
        "target = torch.tensor([[ 0.4316,  0.5106,  0.7059],\n",
        "                      [ 0.0164,  0.9255, -0.8288],\n",
        "                      [-0.4478,  0.5571, -0.0231],\n",
        "                      [ 1.1452,  0.0864, -1.0526]])\n",
        "output = loss(input, target)\n",
        "output.backward(torch.ones(input.shape))\n",
        "print(\"Input : \")\n",
        "print(input)\n",
        "print(\"Target : \")\n",
        "print(target)\n",
        "print(\"FORWARD : \")\n",
        "print(\"Loss : \")\n",
        "print(output)\n",
        "print(\"BACKWARD : \")\n",
        "print(input.grad)"
      ],
      "execution_count": 0,
      "outputs": [
        {
          "output_type": "stream",
          "text": [
            "Input : \n",
            "tensor([[-0.0494,  1.6028,  0.9639],\n",
            "        [-1.1958,  0.0737,  0.9648],\n",
            "        [-1.0486, -0.7091,  0.0745],\n",
            "        [-0.2121,  0.8612,  0.5924]], requires_grad=True)\n",
            "Target : \n",
            "tensor([[ 0.4316,  0.5106,  0.7059],\n",
            "        [ 0.0164,  0.9255, -0.8288],\n",
            "        [-0.4478,  0.5571, -0.0231],\n",
            "        [ 1.1452,  0.0864, -1.0526]])\n",
            "FORWARD : \n",
            "Loss : \n",
            "tensor([[0.2314, 1.1929, 0.0666],\n",
            "        [1.4694, 0.7256, 3.2170],\n",
            "        [0.3610, 1.6033, 0.0095],\n",
            "        [1.8423, 0.6003, 2.7060]], grad_fn=<MseLossBackward>)\n",
            "BACKWARD : \n",
            "tensor([[-0.9620,  2.1844,  0.5160],\n",
            "        [-2.4244, -1.7036,  3.5872],\n",
            "        [-1.2016, -2.5324,  0.1952],\n",
            "        [-2.7146,  1.5496,  3.2900]])\n"
          ],
          "name": "stdout"
        }
      ]
    },
    {
      "cell_type": "markdown",
      "metadata": {
        "colab_type": "text",
        "id": "2eAofEln4H2p"
      },
      "source": [
        "#### Sum Reduction"
      ]
    },
    {
      "cell_type": "code",
      "metadata": {
        "colab_type": "code",
        "id": "alko8BnL4H2p",
        "outputId": "1463791a-faa1-4ee7-ff1c-60ebaabb3a11",
        "colab": {
          "base_uri": "https://localhost:8080/",
          "height": 329
        }
      },
      "source": [
        "loss = torch.nn.MSELoss(reduction='sum')\n",
        "input = torch.tensor([[-0.0494,  1.6028,  0.9639],\n",
        "                      [-1.1958,  0.0737,  0.9648],\n",
        "                      [-1.0486, -0.7091,  0.0745],\n",
        "                      [-0.2121,  0.8612,  0.5924]], requires_grad=True)\n",
        "target = torch.tensor([[ 0.4316,  0.5106,  0.7059],\n",
        "                      [ 0.0164,  0.9255, -0.8288],\n",
        "                      [-0.4478,  0.5571, -0.0231],\n",
        "                      [ 1.1452,  0.0864, -1.0526]])\n",
        "output = loss(input, target)\n",
        "output.backward()\n",
        "print(\"Input : \")\n",
        "print(input)\n",
        "print(\"Target : \")\n",
        "print(target)\n",
        "print(\"FORWARD : \")\n",
        "print(\"Loss : \")\n",
        "print(output)\n",
        "print(\"BACKWARD : \")\n",
        "print(input.grad)"
      ],
      "execution_count": 0,
      "outputs": [
        {
          "output_type": "stream",
          "text": [
            "Input : \n",
            "tensor([[-0.0494,  1.6028,  0.9639],\n",
            "        [-1.1958,  0.0737,  0.9648],\n",
            "        [-1.0486, -0.7091,  0.0745],\n",
            "        [-0.2121,  0.8612,  0.5924]], requires_grad=True)\n",
            "Target : \n",
            "tensor([[ 0.4316,  0.5106,  0.7059],\n",
            "        [ 0.0164,  0.9255, -0.8288],\n",
            "        [-0.4478,  0.5571, -0.0231],\n",
            "        [ 1.1452,  0.0864, -1.0526]])\n",
            "FORWARD : \n",
            "Loss : \n",
            "tensor(14.0252, grad_fn=<MseLossBackward>)\n",
            "BACKWARD : \n",
            "tensor([[-0.9620,  2.1844,  0.5160],\n",
            "        [-2.4244, -1.7036,  3.5872],\n",
            "        [-1.2016, -2.5324,  0.1952],\n",
            "        [-2.7146,  1.5496,  3.2900]])\n"
          ],
          "name": "stdout"
        }
      ]
    },
    {
      "cell_type": "markdown",
      "metadata": {
        "colab_type": "text",
        "id": "vJukNLu24H2s"
      },
      "source": [
        "#### Mean reduction"
      ]
    },
    {
      "cell_type": "code",
      "metadata": {
        "colab_type": "code",
        "id": "_nlOMbXC4H2t",
        "outputId": "8d70b683-3dad-4c0f-bf6b-ee415bdd6631",
        "colab": {
          "base_uri": "https://localhost:8080/",
          "height": 329
        }
      },
      "source": [
        "loss = torch.nn.MSELoss(reduction='mean')\n",
        "input = torch.tensor([[-0.0494,  1.6028,  0.9639],\n",
        "                      [-1.1958,  0.0737,  0.9648],\n",
        "                      [-1.0486, -0.7091,  0.0745],\n",
        "                      [-0.2121,  0.8612,  0.5924]], requires_grad=True)\n",
        "target = torch.tensor([[ 0.4316,  0.5106,  0.7059],\n",
        "                      [ 0.0164,  0.9255, -0.8288],\n",
        "                      [-0.4478,  0.5571, -0.0231],\n",
        "                      [ 1.1452,  0.0864, -1.0526]])\n",
        "output = loss(input, target)\n",
        "output.backward()\n",
        "print(\"Input : \")\n",
        "print(input)\n",
        "print(\"Target : \")\n",
        "print(target)\n",
        "print(\"FORWARD : \")\n",
        "print(\"Loss : \")\n",
        "print(output)\n",
        "print(\"BACKWARD : \")\n",
        "print(input.grad)"
      ],
      "execution_count": 0,
      "outputs": [
        {
          "output_type": "stream",
          "text": [
            "Input : \n",
            "tensor([[-0.0494,  1.6028,  0.9639],\n",
            "        [-1.1958,  0.0737,  0.9648],\n",
            "        [-1.0486, -0.7091,  0.0745],\n",
            "        [-0.2121,  0.8612,  0.5924]], requires_grad=True)\n",
            "Target : \n",
            "tensor([[ 0.4316,  0.5106,  0.7059],\n",
            "        [ 0.0164,  0.9255, -0.8288],\n",
            "        [-0.4478,  0.5571, -0.0231],\n",
            "        [ 1.1452,  0.0864, -1.0526]])\n",
            "FORWARD : \n",
            "Loss : \n",
            "tensor(1.1688, grad_fn=<MseLossBackward>)\n",
            "BACKWARD : \n",
            "tensor([[-0.0802,  0.1820,  0.0430],\n",
            "        [-0.2020, -0.1420,  0.2989],\n",
            "        [-0.1001, -0.2110,  0.0163],\n",
            "        [-0.2262,  0.1291,  0.2742]])\n"
          ],
          "name": "stdout"
        }
      ]
    },
    {
      "cell_type": "markdown",
      "metadata": {
        "colab_type": "text",
        "id": "h7fZHZDk4H2w"
      },
      "source": [
        "### mlpack\n"
      ]
    },
    {
      "cell_type": "markdown",
      "metadata": {
        "colab_type": "text",
        "id": "20ckFsa14H2z"
      },
      "source": [
        "#### FORWARD AND BACKWARD - NEW FORMAT\n"
      ]
    },
    {
      "cell_type": "code",
      "metadata": {
        "colab_type": "code",
        "id": "cFlCk9a64H20",
        "colab": {}
      },
      "source": [
        "%%capture\n",
        "%%writefile test.cpp  \n",
        "\n",
        "#include <iostream>\n",
        "#include <armadillo>\n",
        "\n",
        "using namespace std;\n",
        "using namespace arma;\n",
        "\n",
        "int main()\n",
        "{\n",
        "  // Constructor\n",
        "  arma::mat x,y;\n",
        "  arma::mat weight;\n",
        " \n",
        "  x << -0.0494 << 1.6028 << 0.9639 << endr\n",
        "    << -1.1958 << 0.0737 << 0.9648 << endr\n",
        "    << -1.0486 << -0.7091 << 0.0745 << endr\n",
        "    << -0.2121 << 0.8612 << 0.5924 << endr;\n",
        "\n",
        "  y << 0.4316  << 0.5106 <<  0.7059 << endr\n",
        "    << 0.0164  << 0.9255 << -0.8288 << endr\n",
        "    << -0.4478 << 0.5571 << -0.0231 << endr\n",
        "    << 1.1452  << 0.0864 << -1.0526 << endr;\n",
        "\n",
        "  // Forward\n",
        "  arma::mat loss_none = arma::square(x - y);\n",
        "  double loss_sum = arma::accu(loss_none);\n",
        "  double loss_mean = loss_sum / x.n_elem;\n",
        "\n",
        "  // Backward\n",
        "  arma::mat output;\n",
        "  output = 2 * (x - y);\n",
        "\n",
        "  // Display\n",
        "  cout << \"------------------------------------------------------------------\" << endl;\n",
        "  cout << \"USER-PROVIDED MATRICES : \" << endl;\n",
        "  cout << \"------------------------------------------------------------------\" << endl;\n",
        "  cout << \"Input shape : \"<< x.n_rows << \" \" << x.n_cols << endl;\n",
        "  cout << \"Input : \" << endl << x << endl;\n",
        "  cout << \"Target shape : \"<< y.n_rows << \" \" << y.n_cols << endl;\n",
        "  cout << \"Target : \" << endl << y << endl;\n",
        "  cout << \"------------------------------------------------------------------\" << endl;\n",
        "  cout << \"SUM \" << endl;\n",
        "  cout << \"------------------------------------------------------------------\" << endl;\n",
        "  cout << \"FORWARD : \" << endl;\n",
        "  cout << \"Loss : \\n\" << loss_none << '\\n';\n",
        "  cout << \"Loss (sum):\\n\" << loss_sum << '\\n';\n",
        "  cout << \"BACKWARD : \" << endl;\n",
        "  cout << \"Output shape : \"<< output.n_rows << \" \" << output.n_cols << endl;\n",
        "  cout << \"Output (sum) : \" << endl << output << endl;\n",
        "  cout << \"Sum of all values in this matrix : \" << arma::as_scalar(arma::accu(output)) << endl;\n",
        "  cout << \"------------------------------------------------------------------\" << endl;\n",
        "  cout << \"MEAN \" << endl;\n",
        "  cout << \"------------------------------------------------------------------\" << endl;\n",
        "  cout << \"FORWARD : \" << endl;\n",
        "  cout << \"Loss (mean):\\n\" << loss_mean << '\\n';\n",
        "  cout << \"BACKWARD : \" << endl;\n",
        "  cout << \"Output shape : \"<< output.n_rows << \" \" << output.n_cols << endl;\n",
        "  cout << \"Output (mean) : \" << endl << output / x.n_elem << endl;\n",
        "  cout << \"Sum of all values in this matrix : \" << arma::as_scalar(arma::accu(output / x.n_elem)) << endl;\n",
        "  cout << \"------------------------------------------------------------------\" << endl;\n",
        "  return 0;\n",
        "}"
      ],
      "execution_count": 0,
      "outputs": []
    },
    {
      "cell_type": "code",
      "metadata": {
        "id": "xHT34eorQquz",
        "colab_type": "code",
        "outputId": "607dfdc5-0d70-4371-b905-8d5388543577",
        "colab": {
          "base_uri": "https://localhost:8080/",
          "height": 953
        }
      },
      "source": [
        "%%script bash\n",
        "g++ test.cpp -o test -larmadillo && ./test"
      ],
      "execution_count": 0,
      "outputs": [
        {
          "output_type": "stream",
          "text": [
            "------------------------------------------------------------------\n",
            "USER-PROVIDED MATRICES : \n",
            "------------------------------------------------------------------\n",
            "Input shape : 4 3\n",
            "Input : \n",
            "  -0.0494   1.6028   0.9639\n",
            "  -1.1958   0.0737   0.9648\n",
            "  -1.0486  -0.7091   0.0745\n",
            "  -0.2121   0.8612   0.5924\n",
            "\n",
            "Target shape : 4 3\n",
            "Target : \n",
            "   0.4316   0.5106   0.7059\n",
            "   0.0164   0.9255  -0.8288\n",
            "  -0.4478   0.5571  -0.0231\n",
            "   1.1452   0.0864  -1.0526\n",
            "\n",
            "------------------------------------------------------------------\n",
            "SUM \n",
            "------------------------------------------------------------------\n",
            "FORWARD : \n",
            "Loss : \n",
            "   0.2314   1.1929   0.0666\n",
            "   1.4694   0.7256   3.2170\n",
            "   0.3610   1.6033   0.0095\n",
            "   1.8423   0.6003   2.7060\n",
            "\n",
            "Loss (sum):\n",
            "14.0252\n",
            "BACKWARD : \n",
            "Output shape : 4 3\n",
            "Output (sum) : \n",
            "  -0.9620   2.1844   0.5160\n",
            "  -2.4244  -1.7036   3.5872\n",
            "  -1.2016  -2.5324   0.1952\n",
            "  -2.7146   1.5496   3.2900\n",
            "\n",
            "Sum of all values in this matrix : -0.2162\n",
            "------------------------------------------------------------------\n",
            "MEAN \n",
            "------------------------------------------------------------------\n",
            "FORWARD : \n",
            "Loss (mean):\n",
            "1.16876\n",
            "BACKWARD : \n",
            "Output shape : 4 3\n",
            "Output (mean) : \n",
            "  -0.0802   0.1820   0.0430\n",
            "  -0.2020  -0.1420   0.2989\n",
            "  -0.1001  -0.2110   0.0163\n",
            "  -0.2262   0.1291   0.2742\n",
            "\n",
            "Sum of all values in this matrix : -0.0180167\n",
            "------------------------------------------------------------------\n"
          ],
          "name": "stdout"
        }
      ]
    }
  ]
}