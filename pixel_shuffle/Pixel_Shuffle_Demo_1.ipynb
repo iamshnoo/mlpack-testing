{
  "nbformat": 4,
  "nbformat_minor": 0,
  "metadata": {
    "colab": {
      "name": "Pixel Shuffle Demo 1",
      "provenance": []
    },
    "kernelspec": {
      "name": "python3",
      "display_name": "Python 3"
    }
  },
  "cells": [
    {
      "cell_type": "code",
      "metadata": {
        "id": "N5nscwMaLeOj",
        "colab_type": "code",
        "colab": {}
      },
      "source": [
        "import torch\n",
        "import torch.nn as nn\n",
        "import numpy as np"
      ],
      "execution_count": 1,
      "outputs": []
    },
    {
      "cell_type": "code",
      "metadata": {
        "id": "CVXsXpBJKMjZ",
        "colab_type": "code",
        "colab": {}
      },
      "source": [
        "## Layer constructor\n",
        "upscale_factor = 3 \n",
        "ps = nn.PixelShuffle(upscale_factor)"
      ],
      "execution_count": 2,
      "outputs": []
    },
    {
      "cell_type": "code",
      "metadata": {
        "id": "100vuxKAJvlt",
        "colab_type": "code",
        "colab": {}
      },
      "source": [
        "## User input\n",
        "batch_size = 1     \n",
        "channels = 9       \n",
        "height = 4         \n",
        "width = 4          \n",
        "\n",
        "input = torch.zeros([batch_size, channels, height, width])\n",
        "v = np.arange(1,4*4 + 1)\n",
        "v = v.reshape(4,4)\n",
        "input[0][0] = torch.from_numpy(v) \n",
        "input.requires_grad = True"
      ],
      "execution_count": 3,
      "outputs": []
    },
    {
      "cell_type": "code",
      "metadata": {
        "id": "uRDIBvSUK2QX",
        "colab_type": "code",
        "colab": {
          "base_uri": "https://localhost:8080/",
          "height": 814
        },
        "outputId": "2d947a76-e525-4cb3-bceb-63954e0847ad"
      },
      "source": [
        "print('INPUT for Pixel Shuffle: \\n')\n",
        "print(input)"
      ],
      "execution_count": 4,
      "outputs": [
        {
          "output_type": "stream",
          "text": [
            "INPUT for Pixel Shuffle: \n",
            "\n",
            "tensor([[[[ 1.,  2.,  3.,  4.],\n",
            "          [ 5.,  6.,  7.,  8.],\n",
            "          [ 9., 10., 11., 12.],\n",
            "          [13., 14., 15., 16.]],\n",
            "\n",
            "         [[ 0.,  0.,  0.,  0.],\n",
            "          [ 0.,  0.,  0.,  0.],\n",
            "          [ 0.,  0.,  0.,  0.],\n",
            "          [ 0.,  0.,  0.,  0.]],\n",
            "\n",
            "         [[ 0.,  0.,  0.,  0.],\n",
            "          [ 0.,  0.,  0.,  0.],\n",
            "          [ 0.,  0.,  0.,  0.],\n",
            "          [ 0.,  0.,  0.,  0.]],\n",
            "\n",
            "         [[ 0.,  0.,  0.,  0.],\n",
            "          [ 0.,  0.,  0.,  0.],\n",
            "          [ 0.,  0.,  0.,  0.],\n",
            "          [ 0.,  0.,  0.,  0.]],\n",
            "\n",
            "         [[ 0.,  0.,  0.,  0.],\n",
            "          [ 0.,  0.,  0.,  0.],\n",
            "          [ 0.,  0.,  0.,  0.],\n",
            "          [ 0.,  0.,  0.,  0.]],\n",
            "\n",
            "         [[ 0.,  0.,  0.,  0.],\n",
            "          [ 0.,  0.,  0.,  0.],\n",
            "          [ 0.,  0.,  0.,  0.],\n",
            "          [ 0.,  0.,  0.,  0.]],\n",
            "\n",
            "         [[ 0.,  0.,  0.,  0.],\n",
            "          [ 0.,  0.,  0.,  0.],\n",
            "          [ 0.,  0.,  0.,  0.],\n",
            "          [ 0.,  0.,  0.,  0.]],\n",
            "\n",
            "         [[ 0.,  0.,  0.,  0.],\n",
            "          [ 0.,  0.,  0.,  0.],\n",
            "          [ 0.,  0.,  0.,  0.],\n",
            "          [ 0.,  0.,  0.,  0.]],\n",
            "\n",
            "         [[ 0.,  0.,  0.,  0.],\n",
            "          [ 0.,  0.,  0.,  0.],\n",
            "          [ 0.,  0.,  0.,  0.],\n",
            "          [ 0.,  0.,  0.,  0.]]]], requires_grad=True)\n"
          ],
          "name": "stdout"
        }
      ]
    },
    {
      "cell_type": "code",
      "metadata": {
        "id": "Yy46bMNDKT1Q",
        "colab_type": "code",
        "colab": {}
      },
      "source": [
        "output = ps(input)"
      ],
      "execution_count": 5,
      "outputs": []
    },
    {
      "cell_type": "code",
      "metadata": {
        "id": "MSQ_zBB7K6-9",
        "colab_type": "code",
        "colab": {
          "base_uri": "https://localhost:8080/",
          "height": 277
        },
        "outputId": "a51c6a38-5689-400c-df53-93ad9ce91078"
      },
      "source": [
        "## this is the output from Forward() of Pixel Shuffle\n",
        "print('OUTPUT from Pixel Shuffle: \\n')\n",
        "print(output)"
      ],
      "execution_count": 6,
      "outputs": [
        {
          "output_type": "stream",
          "text": [
            "OUTPUT from Pixel Shuffle: \n",
            "\n",
            "tensor([[[[ 1.,  0.,  0.,  2.,  0.,  0.,  3.,  0.,  0.,  4.,  0.,  0.],\n",
            "          [ 0.,  0.,  0.,  0.,  0.,  0.,  0.,  0.,  0.,  0.,  0.,  0.],\n",
            "          [ 0.,  0.,  0.,  0.,  0.,  0.,  0.,  0.,  0.,  0.,  0.,  0.],\n",
            "          [ 5.,  0.,  0.,  6.,  0.,  0.,  7.,  0.,  0.,  8.,  0.,  0.],\n",
            "          [ 0.,  0.,  0.,  0.,  0.,  0.,  0.,  0.,  0.,  0.,  0.,  0.],\n",
            "          [ 0.,  0.,  0.,  0.,  0.,  0.,  0.,  0.,  0.,  0.,  0.,  0.],\n",
            "          [ 9.,  0.,  0., 10.,  0.,  0., 11.,  0.,  0., 12.,  0.,  0.],\n",
            "          [ 0.,  0.,  0.,  0.,  0.,  0.,  0.,  0.,  0.,  0.,  0.,  0.],\n",
            "          [ 0.,  0.,  0.,  0.,  0.,  0.,  0.,  0.,  0.,  0.,  0.,  0.],\n",
            "          [13.,  0.,  0., 14.,  0.,  0., 15.,  0.,  0., 16.,  0.,  0.],\n",
            "          [ 0.,  0.,  0.,  0.,  0.,  0.,  0.,  0.,  0.,  0.,  0.,  0.],\n",
            "          [ 0.,  0.,  0.,  0.,  0.,  0.,  0.,  0.,  0.,  0.,  0.,  0.]]]],\n",
            "       grad_fn=<UnsafeViewBackward>)\n"
          ],
          "name": "stdout"
        }
      ]
    },
    {
      "cell_type": "code",
      "metadata": {
        "id": "zJ4dzBsALJAn",
        "colab_type": "code",
        "colab": {
          "base_uri": "https://localhost:8080/",
          "height": 468
        },
        "outputId": "87bdc405-c991-40f6-f995-3fd20de2a1e5"
      },
      "source": [
        "## this is gy for Pixel Shuffle layer simulated as a tensor filled with an arbitrary sequence of values.\n",
        "gy = torch.arange(1.,145.).reshape(output.shape)\n",
        "print('Hypothetical gy for Pixel Shuffle: \\n')\n",
        "print(gy)"
      ],
      "execution_count": 7,
      "outputs": [
        {
          "output_type": "stream",
          "text": [
            "Hypothetical gy for Pixel Shuffle: \n",
            "\n",
            "tensor([[[[  1.,   2.,   3.,   4.,   5.,   6.,   7.,   8.,   9.,  10.,  11.,\n",
            "            12.],\n",
            "          [ 13.,  14.,  15.,  16.,  17.,  18.,  19.,  20.,  21.,  22.,  23.,\n",
            "            24.],\n",
            "          [ 25.,  26.,  27.,  28.,  29.,  30.,  31.,  32.,  33.,  34.,  35.,\n",
            "            36.],\n",
            "          [ 37.,  38.,  39.,  40.,  41.,  42.,  43.,  44.,  45.,  46.,  47.,\n",
            "            48.],\n",
            "          [ 49.,  50.,  51.,  52.,  53.,  54.,  55.,  56.,  57.,  58.,  59.,\n",
            "            60.],\n",
            "          [ 61.,  62.,  63.,  64.,  65.,  66.,  67.,  68.,  69.,  70.,  71.,\n",
            "            72.],\n",
            "          [ 73.,  74.,  75.,  76.,  77.,  78.,  79.,  80.,  81.,  82.,  83.,\n",
            "            84.],\n",
            "          [ 85.,  86.,  87.,  88.,  89.,  90.,  91.,  92.,  93.,  94.,  95.,\n",
            "            96.],\n",
            "          [ 97.,  98.,  99., 100., 101., 102., 103., 104., 105., 106., 107.,\n",
            "           108.],\n",
            "          [109., 110., 111., 112., 113., 114., 115., 116., 117., 118., 119.,\n",
            "           120.],\n",
            "          [121., 122., 123., 124., 125., 126., 127., 128., 129., 130., 131.,\n",
            "           132.],\n",
            "          [133., 134., 135., 136., 137., 138., 139., 140., 141., 142., 143.,\n",
            "           144.]]]])\n"
          ],
          "name": "stdout"
        }
      ]
    },
    {
      "cell_type": "code",
      "metadata": {
        "id": "GUvapRcXKZnR",
        "colab_type": "code",
        "colab": {}
      },
      "source": [
        "output.backward(gy)"
      ],
      "execution_count": 8,
      "outputs": []
    },
    {
      "cell_type": "code",
      "metadata": {
        "id": "_mIJ6D5BLfys",
        "colab_type": "code",
        "colab": {
          "base_uri": "https://localhost:8080/",
          "height": 814
        },
        "outputId": "ec6eb131-48d3-404f-8deb-5db9e64f94b5"
      },
      "source": [
        "## this is g for Pixel Shuffle layer\n",
        "g = input.grad\n",
        "print('g for Pixel Shuffle: \\n')\n",
        "print(g)"
      ],
      "execution_count": 9,
      "outputs": [
        {
          "output_type": "stream",
          "text": [
            "g for Pixel Shuffle: \n",
            "\n",
            "tensor([[[[  1.,   4.,   7.,  10.],\n",
            "          [ 37.,  40.,  43.,  46.],\n",
            "          [ 73.,  76.,  79.,  82.],\n",
            "          [109., 112., 115., 118.]],\n",
            "\n",
            "         [[  2.,   5.,   8.,  11.],\n",
            "          [ 38.,  41.,  44.,  47.],\n",
            "          [ 74.,  77.,  80.,  83.],\n",
            "          [110., 113., 116., 119.]],\n",
            "\n",
            "         [[  3.,   6.,   9.,  12.],\n",
            "          [ 39.,  42.,  45.,  48.],\n",
            "          [ 75.,  78.,  81.,  84.],\n",
            "          [111., 114., 117., 120.]],\n",
            "\n",
            "         [[ 13.,  16.,  19.,  22.],\n",
            "          [ 49.,  52.,  55.,  58.],\n",
            "          [ 85.,  88.,  91.,  94.],\n",
            "          [121., 124., 127., 130.]],\n",
            "\n",
            "         [[ 14.,  17.,  20.,  23.],\n",
            "          [ 50.,  53.,  56.,  59.],\n",
            "          [ 86.,  89.,  92.,  95.],\n",
            "          [122., 125., 128., 131.]],\n",
            "\n",
            "         [[ 15.,  18.,  21.,  24.],\n",
            "          [ 51.,  54.,  57.,  60.],\n",
            "          [ 87.,  90.,  93.,  96.],\n",
            "          [123., 126., 129., 132.]],\n",
            "\n",
            "         [[ 25.,  28.,  31.,  34.],\n",
            "          [ 61.,  64.,  67.,  70.],\n",
            "          [ 97., 100., 103., 106.],\n",
            "          [133., 136., 139., 142.]],\n",
            "\n",
            "         [[ 26.,  29.,  32.,  35.],\n",
            "          [ 62.,  65.,  68.,  71.],\n",
            "          [ 98., 101., 104., 107.],\n",
            "          [134., 137., 140., 143.]],\n",
            "\n",
            "         [[ 27.,  30.,  33.,  36.],\n",
            "          [ 63.,  66.,  69.,  72.],\n",
            "          [ 99., 102., 105., 108.],\n",
            "          [135., 138., 141., 144.]]]])\n"
          ],
          "name": "stdout"
        }
      ]
    }
  ]
}