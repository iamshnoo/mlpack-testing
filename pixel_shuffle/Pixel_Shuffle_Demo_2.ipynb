{
  "nbformat": 4,
  "nbformat_minor": 0,
  "metadata": {
    "colab": {
      "name": "Pixel Shuffle Demo 2",
      "provenance": [],
      "collapsed_sections": []
    },
    "kernelspec": {
      "name": "python3",
      "display_name": "Python 3"
    }
  },
  "cells": [
    {
      "cell_type": "markdown",
      "metadata": {
        "id": "__6iPVYWs2yA",
        "colab_type": "text"
      },
      "source": [
        "### PyTorch\n",
        "\n",
        "Note that this is actually a numpy-based implementation that matches exactly with the computation in the original PyTorch implementation. To verify, compare with [Pixel Shuffle Demo 1 Google Colab notebook](https://colab.research.google.com/drive/1C7W51LvcTccRxKJGZ5m61DDzR4P6fW1T?usp=sharing) or check the notebook of the same name in my [github repository](https://github.com/iamshnoo/mlpack-testing)."
      ]
    },
    {
      "cell_type": "code",
      "metadata": {
        "id": "edR27ar6r65E",
        "colab_type": "code",
        "colab": {}
      },
      "source": [
        "## Imports\n",
        "import torch\n",
        "import numpy as np"
      ],
      "execution_count": 1,
      "outputs": []
    },
    {
      "cell_type": "code",
      "metadata": {
        "id": "7HZwOZcEpBMu",
        "colab_type": "code",
        "colab": {}
      },
      "source": [
        "## User Input\n",
        "batch_size = 1     \n",
        "channels = 4   \n",
        "upscale_factor = 2     \n",
        "height = 2         \n",
        "width = 2         \n",
        "\n",
        "input = torch.zeros([batch_size, channels, height, width])\n",
        "v = np.arange(1,height*width + 1)\n",
        "v = v.reshape(height,width)\n",
        "input[0][0] = torch.from_numpy(v) "
      ],
      "execution_count": 2,
      "outputs": []
    },
    {
      "cell_type": "code",
      "metadata": {
        "id": "SXd3s0A1yZSN",
        "colab_type": "code",
        "colab": {
          "base_uri": "https://localhost:8080/",
          "height": 242
        },
        "outputId": "54e44977-c0ba-4781-c0c6-059b362014dc"
      },
      "source": [
        "print('INPUT for Pixel Shuffle: \\n')\n",
        "print(input)"
      ],
      "execution_count": 3,
      "outputs": [
        {
          "output_type": "stream",
          "text": [
            "INPUT for Pixel Shuffle: \n",
            "\n",
            "tensor([[[[1., 2.],\n",
            "          [3., 4.]],\n",
            "\n",
            "         [[0., 0.],\n",
            "          [0., 0.]],\n",
            "\n",
            "         [[0., 0.],\n",
            "          [0., 0.]],\n",
            "\n",
            "         [[0., 0.],\n",
            "          [0., 0.]]]])\n"
          ],
          "name": "stdout"
        }
      ]
    },
    {
      "cell_type": "code",
      "metadata": {
        "id": "Lg7DbcApo8e-",
        "colab_type": "code",
        "colab": {
          "base_uri": "https://localhost:8080/",
          "height": 121
        },
        "outputId": "4bdbe8ec-d92c-4070-a378-b88f4db61a34"
      },
      "source": [
        "## Forward()\n",
        "output = torch.zeros([batch_size, channels // (upscale_factor **2), height * upscale_factor, width * upscale_factor])\n",
        "for n in range(output.size(0)):\n",
        "  for c in range(output.size(1)):\n",
        "      for h in range(output.size(2)):\n",
        "          for w in range(output.size(3)):\n",
        "              height_idx = h // upscale_factor\n",
        "              weight_idx = w // upscale_factor\n",
        "              channel_idx = (upscale_factor * (h % upscale_factor)) + (w % upscale_factor) + (c * upscale_factor ** 2)\n",
        "              output[n, c, h, w] = input[n, channel_idx, height_idx, weight_idx]\n",
        "            \n",
        "## this is the output from Forward() of Pixel Shuffle\n",
        "print('OUTPUT from Pixel Shuffle: \\n')\n",
        "print(output)"
      ],
      "execution_count": 4,
      "outputs": [
        {
          "output_type": "stream",
          "text": [
            "OUTPUT from Pixel Shuffle: \n",
            "\n",
            "tensor([[[[1., 0., 2., 0.],\n",
            "          [0., 0., 0., 0.],\n",
            "          [3., 0., 4., 0.],\n",
            "          [0., 0., 0., 0.]]]])\n"
          ],
          "name": "stdout"
        }
      ]
    },
    {
      "cell_type": "code",
      "metadata": {
        "id": "JGnPHYlqqDSN",
        "colab_type": "code",
        "colab": {
          "base_uri": "https://localhost:8080/",
          "height": 121
        },
        "outputId": "bd38d48d-9e16-4365-f177-47efeb84ada9"
      },
      "source": [
        "## this is gy for Pixel Shuffle layer simulated as a tensor filled with an arbitrary sequence of values.\n",
        "a = height * upscale_factor * width * upscale_factor + 1\n",
        "a = float(a)\n",
        "gy = torch.arange(1.,a).reshape(output.shape)\n",
        "print('Hypothetical gy for Pixel Shuffle: \\n')\n",
        "print(gy)"
      ],
      "execution_count": 5,
      "outputs": [
        {
          "output_type": "stream",
          "text": [
            "Hypothetical gy for Pixel Shuffle: \n",
            "\n",
            "tensor([[[[ 1.,  2.,  3.,  4.],\n",
            "          [ 5.,  6.,  7.,  8.],\n",
            "          [ 9., 10., 11., 12.],\n",
            "          [13., 14., 15., 16.]]]])\n"
          ],
          "name": "stdout"
        }
      ]
    },
    {
      "cell_type": "code",
      "metadata": {
        "id": "UfV0EEeXqlXw",
        "colab_type": "code",
        "colab": {
          "base_uri": "https://localhost:8080/",
          "height": 242
        },
        "outputId": "f99ab5f6-f912-4514-a14e-1d4e2e05d87f"
      },
      "source": [
        "## Backward()\n",
        "g = torch.zeros(input.shape)\n",
        "for n in range(gy.size(0)):\n",
        "  for c in range(gy.size(1)):\n",
        "      for h in range(gy.size(2)):\n",
        "          for w in range(gy.size(3)):\n",
        "              height_idx = h // upscale_factor\n",
        "              weight_idx = w // upscale_factor\n",
        "              channel_idx = (upscale_factor * (h % upscale_factor)) + (w % upscale_factor) + (c * upscale_factor ** 2)\n",
        "              g[n, channel_idx, height_idx, weight_idx] = gy[n, c, h, w] \n",
        "\n",
        "## this is g for Pixel Shuffle layer\n",
        "print('g for Pixel Shuffle: \\n')\n",
        "print(g)"
      ],
      "execution_count": 6,
      "outputs": [
        {
          "output_type": "stream",
          "text": [
            "g for Pixel Shuffle: \n",
            "\n",
            "tensor([[[[ 1.,  3.],\n",
            "          [ 9., 11.]],\n",
            "\n",
            "         [[ 2.,  4.],\n",
            "          [10., 12.]],\n",
            "\n",
            "         [[ 5.,  7.],\n",
            "          [13., 15.]],\n",
            "\n",
            "         [[ 6.,  8.],\n",
            "          [14., 16.]]]])\n"
          ],
          "name": "stdout"
        }
      ]
    },
    {
      "cell_type": "markdown",
      "metadata": {
        "id": "6Nd68b8Qs78w",
        "colab_type": "text"
      },
      "source": [
        "### mlpack\n",
        "\n",
        "Here I give 2 images in the batch, one of which is the same as above, to help verify that the calculaions are correct <br> and also simultaneously to check the support for batching."
      ]
    },
    {
      "cell_type": "code",
      "metadata": {
        "id": "iJaKFnPLvALq",
        "colab_type": "code",
        "colab": {}
      },
      "source": [
        "%%capture\n",
        "!sudo apt-get install libmlpack-dev "
      ],
      "execution_count": 7,
      "outputs": []
    },
    {
      "cell_type": "code",
      "metadata": {
        "id": "1bVMZ9Eds9QP",
        "colab_type": "code",
        "colab": {}
      },
      "source": [
        "%%capture\n",
        "%%writefile test.cpp\n",
        "#include <iostream>\n",
        "#include <armadillo>\n",
        "#define PRINT 1\n",
        "\n",
        "using namespace std;\n",
        "using namespace arma;\n",
        "\n",
        "int main()\n",
        "{\n",
        "  // User input\n",
        "  arma::mat input;\n",
        "  input << 1 << 3 << 2 << 4 << 0 << 0 << 0 << 0 << 0 << 0 << 0 << 0 << 0 << 0 << 0 << 0 << endr\n",
        "        << 5 << 7 << 6 << 8 << 0 << 0 << 0 << 0 << 0 << 0 << 0 << 0 << 0 << 0 << 0 << 0 << endr;\n",
        "  input = input.t();\n",
        "\n",
        "  size_t size = 4; // input channels\n",
        "  size_t upscale_factor = 2;\n",
        "  size_t height = 2;\n",
        "  size_t width = 2;\n",
        "\n",
        "  // Forward()\n",
        "  size_t batchSize = input.n_cols;\n",
        "  size_t size_out = size / std::pow(upscale_factor, 2); // output channels\n",
        "  size_t output_height = height * upscale_factor;\n",
        "  size_t output_width = width * upscale_factor;\n",
        "\n",
        "  arma::mat output;\n",
        "  output.zeros(output_height * output_width * size_out, batchSize );\n",
        "\n",
        "  for(size_t n = 0; n < batchSize; n++)\n",
        "  {\n",
        "    arma::mat inputImage = input.col(n);\n",
        "    arma::mat outputImage = output.col(n);\n",
        "    arma::cube inputTemp(const_cast<arma::mat&>(inputImage).memptr(), height, width, size, false, false);\n",
        "    arma::cube outputTemp(const_cast<arma::mat&>(outputImage).memptr(), output_height, output_width, size_out, false, false);\n",
        "\n",
        "    for (size_t c = 0; c < size_out ; c++)\n",
        "    {\n",
        "      for (size_t h = 0; h < output_height; h++)\n",
        "      {\n",
        "        for (size_t w = 0; w < output_width; w++)\n",
        "        {\n",
        "          size_t height_index = h / upscale_factor;\n",
        "          size_t width_index = w / upscale_factor;\n",
        "          size_t channel_index = (upscale_factor * (h % upscale_factor)) + (w % upscale_factor) + (c * std::pow(upscale_factor, 2));\n",
        "          outputTemp(w, h, c) = inputTemp(width_index, height_index, channel_index);\n",
        "        }\n",
        "      }\n",
        "    }\n",
        "\n",
        "    output.col(n) = outputImage;\n",
        "\n",
        "    if(PRINT)\n",
        "    {\n",
        "      cout << \"Image \" << n << \" calculations: \" << endl;\n",
        "      cout << \"-----------------------------------\" << endl;\n",
        "      cout << \"-----------------------------------\" << endl;\n",
        "      cout << \"INPUT for Pixel Shuffle: \" << endl;\n",
        "      cout << inputTemp << endl;\n",
        "      cout << \"-----------------------------------\" << endl;\n",
        "      cout << \"OUTPUT from Pixel Shuffle: \" << endl;\n",
        "      cout << outputTemp << endl;\n",
        "      cout << \"-----------------------------------\" << endl;\n",
        "    }\n",
        "\n",
        "  }\n",
        "\n",
        "  // this is gy for Pixel Shuffle layer simulated as a tensor filled with an arbitrary sequence of values.\n",
        "  arma::mat gy;\n",
        "  gy << 1 << 5 << 9 << 13 << 2 << 6 << 10 << 14 << 3 << 7 << 11 << 15 << 4 << 8 << 12 << 16 << endr\n",
        "    << 17 << 21 << 25 << 29 << 18 << 22 << 26 << 30 << 19 << 23 << 27 << 31 << 20 << 24 << 28 << 32 << endr;\n",
        "  gy = gy.t();\n",
        "\n",
        "  // Backward()\n",
        "  arma::mat g;\n",
        "  g.zeros(arma::size(input));\n",
        "\n",
        "  for(size_t n = 0; n < batchSize; n++)\n",
        "  {\n",
        "    arma::mat gyImage = gy.col(n);\n",
        "    arma::mat gImage = g.col(n);\n",
        "    arma::cube gyTemp(const_cast<arma::mat&>(gyImage).memptr(), output_height, output_width, size_out, false, false);\n",
        "    arma::cube gTemp(const_cast<arma::mat&>(gImage).memptr(), height, width, size, false, false);\n",
        "\n",
        "    for (size_t c = 0; c < size_out ; c++)\n",
        "    {\n",
        "      for (size_t h = 0; h < output_height; h++)\n",
        "      {\n",
        "        for (size_t w = 0; w < output_width; w++)\n",
        "        {\n",
        "          size_t height_index = h / upscale_factor;\n",
        "          size_t width_index = w / upscale_factor;\n",
        "          size_t channel_index = (upscale_factor * (h % upscale_factor)) + (w % upscale_factor) + (c * std::pow(upscale_factor, 2));\n",
        "          gTemp(width_index, height_index, channel_index) = gyTemp(w, h, c);\n",
        "        }\n",
        "      }\n",
        "    }\n",
        "\n",
        "    g.col(n) = gImage;\n",
        "\n",
        "    if (PRINT)\n",
        "    {\n",
        "      cout << \"Image \" << n << \" calculations: \" << endl;\n",
        "      cout << \"-----------------------------------\" << endl;\n",
        "      cout << \"Hypothetical gy for Pixel Shuffle: \" << endl;\n",
        "      cout << gyTemp << endl;\n",
        "      cout << \"-----------------------------------\" << endl;\n",
        "      cout << \"g for Pixel Shuffle: \" << endl;\n",
        "      cout << gTemp << endl;\n",
        "      cout << \"-----------------------------------\" << endl;\n",
        "    }\n",
        "  }\n",
        "\n",
        "  return 0;\n",
        "}"
      ],
      "execution_count": 8,
      "outputs": []
    },
    {
      "cell_type": "code",
      "metadata": {
        "id": "WpuF7fSrs-n_",
        "colab_type": "code",
        "colab": {
          "base_uri": "https://localhost:8080/",
          "height": 1000
        },
        "outputId": "c8a5fd5f-0996-4db2-de98-67125263741d"
      },
      "source": [
        "%%script bash\n",
        "g++ test.cpp -o test -larmadillo && ./test"
      ],
      "execution_count": 9,
      "outputs": [
        {
          "output_type": "stream",
          "text": [
            "Image 0 calculations: \n",
            "-----------------------------------\n",
            "-----------------------------------\n",
            "INPUT for Pixel Shuffle: \n",
            "[cube slice 0]\n",
            "   1.0000   2.0000\n",
            "   3.0000   4.0000\n",
            "\n",
            "[cube slice 1]\n",
            "        0        0\n",
            "        0        0\n",
            "\n",
            "[cube slice 2]\n",
            "        0        0\n",
            "        0        0\n",
            "\n",
            "[cube slice 3]\n",
            "        0        0\n",
            "        0        0\n",
            "\n",
            "\n",
            "-----------------------------------\n",
            "OUTPUT from Pixel Shuffle: \n",
            "[cube slice 0]\n",
            "   1.0000        0   2.0000        0\n",
            "        0        0        0        0\n",
            "   3.0000        0   4.0000        0\n",
            "        0        0        0        0\n",
            "\n",
            "\n",
            "-----------------------------------\n",
            "Image 1 calculations: \n",
            "-----------------------------------\n",
            "-----------------------------------\n",
            "INPUT for Pixel Shuffle: \n",
            "[cube slice 0]\n",
            "   5.0000   6.0000\n",
            "   7.0000   8.0000\n",
            "\n",
            "[cube slice 1]\n",
            "        0        0\n",
            "        0        0\n",
            "\n",
            "[cube slice 2]\n",
            "        0        0\n",
            "        0        0\n",
            "\n",
            "[cube slice 3]\n",
            "        0        0\n",
            "        0        0\n",
            "\n",
            "\n",
            "-----------------------------------\n",
            "OUTPUT from Pixel Shuffle: \n",
            "[cube slice 0]\n",
            "   5.0000        0   6.0000        0\n",
            "        0        0        0        0\n",
            "   7.0000        0   8.0000        0\n",
            "        0        0        0        0\n",
            "\n",
            "\n",
            "-----------------------------------\n",
            "Image 0 calculations: \n",
            "-----------------------------------\n",
            "Hypothetical gy for Pixel Shuffle: \n",
            "[cube slice 0]\n",
            "    1.0000    2.0000    3.0000    4.0000\n",
            "    5.0000    6.0000    7.0000    8.0000\n",
            "    9.0000   10.0000   11.0000   12.0000\n",
            "   13.0000   14.0000   15.0000   16.0000\n",
            "\n",
            "\n",
            "-----------------------------------\n",
            "g for Pixel Shuffle: \n",
            "[cube slice 0]\n",
            "    1.0000    3.0000\n",
            "    9.0000   11.0000\n",
            "\n",
            "[cube slice 1]\n",
            "    5.0000    7.0000\n",
            "   13.0000   15.0000\n",
            "\n",
            "[cube slice 2]\n",
            "    2.0000    4.0000\n",
            "   10.0000   12.0000\n",
            "\n",
            "[cube slice 3]\n",
            "    6.0000    8.0000\n",
            "   14.0000   16.0000\n",
            "\n",
            "\n",
            "-----------------------------------\n",
            "Image 1 calculations: \n",
            "-----------------------------------\n",
            "Hypothetical gy for Pixel Shuffle: \n",
            "[cube slice 0]\n",
            "   17.0000   18.0000   19.0000   20.0000\n",
            "   21.0000   22.0000   23.0000   24.0000\n",
            "   25.0000   26.0000   27.0000   28.0000\n",
            "   29.0000   30.0000   31.0000   32.0000\n",
            "\n",
            "\n",
            "-----------------------------------\n",
            "g for Pixel Shuffle: \n",
            "[cube slice 0]\n",
            "   17.0000   19.0000\n",
            "   25.0000   27.0000\n",
            "\n",
            "[cube slice 1]\n",
            "   21.0000   23.0000\n",
            "   29.0000   31.0000\n",
            "\n",
            "[cube slice 2]\n",
            "   18.0000   20.0000\n",
            "   26.0000   28.0000\n",
            "\n",
            "[cube slice 3]\n",
            "   22.0000   24.0000\n",
            "   30.0000   32.0000\n",
            "\n",
            "\n",
            "-----------------------------------\n"
          ],
          "name": "stdout"
        }
      ]
    }
  ]
}