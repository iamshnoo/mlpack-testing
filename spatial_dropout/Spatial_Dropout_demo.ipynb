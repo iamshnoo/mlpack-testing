{
  "nbformat": 4,
  "nbformat_minor": 0,
  "metadata": {
    "colab": {
      "name": "Spatial Dropout demo",
      "provenance": [],
      "collapsed_sections": []
    },
    "kernelspec": {
      "name": "python3",
      "display_name": "Python 3"
    }
  },
  "cells": [
    {
      "cell_type": "markdown",
      "metadata": {
        "id": "dkb30EI963Ar",
        "colab_type": "text"
      },
      "source": [
        "### PyTorch"
      ]
    },
    {
      "cell_type": "code",
      "metadata": {
        "id": "Wn3dNcWAyd9g",
        "colab_type": "code",
        "colab": {}
      },
      "source": [
        "## Imports (and set seeds for reproducibility)\n",
        "import os\n",
        "import random\n",
        "import torch\n",
        "import torch.nn as nn\n",
        "import numpy as np\n",
        "\n",
        "def fix_seeds(seed=75):\n",
        "  SEED = seed\n",
        "  random.seed(seed)\n",
        "  os.environ['PYTHONHASHSEED'] = str(SEED)\n",
        "  np.random.seed(SEED)\n",
        "  torch.manual_seed(SEED)\n",
        "  torch.backends.cudnn.deterministic = True\n",
        "  torch.backends.cudnn.benchmark = False\n",
        "  if (torch.cuda.is_available()):\n",
        "    torch.cuda.manual_seed(SEED)\n",
        "\n",
        "fix_seeds()"
      ],
      "execution_count": 1,
      "outputs": []
    },
    {
      "cell_type": "code",
      "metadata": {
        "id": "kNIK-rFU0lKO",
        "colab_type": "code",
        "colab": {}
      },
      "source": [
        "## User inputs\n",
        "\n",
        "# shape = (1,3,2,2)\n",
        "input = torch.tensor([[[[0.4963, 0.7682],\n",
        "                        [0.0885, 0.1320]],\n",
        "\n",
        "                       [[0.3074, 0.6341],\n",
        "                        [0.4901, 0.8964]],\n",
        "\n",
        "                       [[0.4556, 0.6323],\n",
        "                        [0.3489, 0.4017]]]])\n",
        "input.requires_grad = True\n",
        "prob = 0.2"
      ],
      "execution_count": 2,
      "outputs": []
    },
    {
      "cell_type": "code",
      "metadata": {
        "id": "ZJGnAB-myx4Q",
        "colab_type": "code",
        "colab": {
          "base_uri": "https://localhost:8080/",
          "height": 190
        },
        "outputId": "d0ba6f77-74c5-4410-ca22-cef70d7a30a2"
      },
      "source": [
        "print('INPUT for Spatial Dropout: \\n')\n",
        "print(input)"
      ],
      "execution_count": 3,
      "outputs": [
        {
          "output_type": "stream",
          "text": [
            "INPUT for Spatial Dropout: \n",
            "\n",
            "tensor([[[[0.4963, 0.7682],\n",
            "          [0.0885, 0.1320]],\n",
            "\n",
            "         [[0.3074, 0.6341],\n",
            "          [0.4901, 0.8964]],\n",
            "\n",
            "         [[0.4556, 0.6323],\n",
            "          [0.3489, 0.4017]]]], requires_grad=True)\n"
          ],
          "name": "stdout"
        }
      ]
    },
    {
      "cell_type": "code",
      "metadata": {
        "id": "J9KkUaMRoqy_",
        "colab_type": "code",
        "colab": {}
      },
      "source": [
        "## Forward()\n",
        "spatial_dropout = nn.Dropout2d(prob)"
      ],
      "execution_count": 4,
      "outputs": []
    },
    {
      "cell_type": "code",
      "metadata": {
        "id": "9IdNpdqTotQN",
        "colab_type": "code",
        "colab": {}
      },
      "source": [
        "out = spatial_dropout(input)"
      ],
      "execution_count": 5,
      "outputs": []
    },
    {
      "cell_type": "code",
      "metadata": {
        "id": "y2uzCfB00Tb1",
        "colab_type": "code",
        "colab": {
          "base_uri": "https://localhost:8080/",
          "height": 190
        },
        "outputId": "ac699d4c-9a37-4bff-aec0-5982bbad0302"
      },
      "source": [
        "## this is the output from Forward() of Spatial Dropout\n",
        "print('OUTPUT from Spatial Dropout: \\n')\n",
        "print(out)"
      ],
      "execution_count": 6,
      "outputs": [
        {
          "output_type": "stream",
          "text": [
            "OUTPUT from Spatial Dropout: \n",
            "\n",
            "tensor([[[[0.6204, 0.9602],\n",
            "          [0.1106, 0.1650]],\n",
            "\n",
            "         [[0.0000, 0.0000],\n",
            "          [0.0000, 0.0000]],\n",
            "\n",
            "         [[0.5695, 0.7904],\n",
            "          [0.4361, 0.5021]]]], grad_fn=<MulBackward0>)\n"
          ],
          "name": "stdout"
        }
      ]
    },
    {
      "cell_type": "code",
      "metadata": {
        "id": "2irRF82BHDoW",
        "colab_type": "code",
        "colab": {
          "base_uri": "https://localhost:8080/",
          "height": 190
        },
        "outputId": "398f0bc2-4eeb-4434-844d-e1b373f89142"
      },
      "source": [
        "## this is gy for Spatial Dropout layer simulated as a tensor filled with an arbitrary sequence of values.\n",
        "a = torch.numel(out) + 1\n",
        "a = float(a)\n",
        "gy = torch.arange(1.,a).reshape(out.shape)\n",
        "print('Hypothetical gy for Spatial Dropout: \\n')\n",
        "print(gy)"
      ],
      "execution_count": 7,
      "outputs": [
        {
          "output_type": "stream",
          "text": [
            "Hypothetical gy for Spatial Dropout: \n",
            "\n",
            "tensor([[[[ 1.,  2.],\n",
            "          [ 3.,  4.]],\n",
            "\n",
            "         [[ 5.,  6.],\n",
            "          [ 7.,  8.]],\n",
            "\n",
            "         [[ 9., 10.],\n",
            "          [11., 12.]]]])\n"
          ],
          "name": "stdout"
        }
      ]
    },
    {
      "cell_type": "code",
      "metadata": {
        "id": "2Svn-Br4IvkF",
        "colab_type": "code",
        "colab": {}
      },
      "source": [
        "## Backward()\n",
        "out.backward(gy)"
      ],
      "execution_count": 8,
      "outputs": []
    },
    {
      "cell_type": "code",
      "metadata": {
        "id": "zoZvQSGvI1WA",
        "colab_type": "code",
        "colab": {
          "base_uri": "https://localhost:8080/",
          "height": 190
        },
        "outputId": "b8caa20b-1452-4c5f-c976-5c5c3c8ab7e2"
      },
      "source": [
        "## this is g for Spatial Dropout layer\n",
        "g = input.grad\n",
        "print('g for Spatial Dropout: \\n')\n",
        "print(g)"
      ],
      "execution_count": 9,
      "outputs": [
        {
          "output_type": "stream",
          "text": [
            "g for Spatial Dropout: \n",
            "\n",
            "tensor([[[[ 1.2500,  2.5000],\n",
            "          [ 3.7500,  5.0000]],\n",
            "\n",
            "         [[ 0.0000,  0.0000],\n",
            "          [ 0.0000,  0.0000]],\n",
            "\n",
            "         [[11.2500, 12.5000],\n",
            "          [13.7500, 15.0000]]]])\n"
          ],
          "name": "stdout"
        }
      ]
    },
    {
      "cell_type": "markdown",
      "metadata": {
        "id": "75gWqBu_65xR",
        "colab_type": "text"
      },
      "source": [
        "### mlpack"
      ]
    },
    {
      "cell_type": "markdown",
      "metadata": {
        "id": "ftrUeZ2j6JPS",
        "colab_type": "text"
      },
      "source": [
        "Equivalent code to reproduce same results in mlpack :\n",
        "```cpp\n",
        "#include <iostream>\n",
        "#include <mlpack/methods/ann/dists/bernoulli_distribution.hpp>\n",
        "#include <armadillo>\n",
        "#define PRINT 1\n",
        "\n",
        "using namespace mlpack::ann;\n",
        "using namespace std;\n",
        "using namespace arma;\n",
        "\n",
        "int main()\n",
        "{\n",
        "  // Using this only for demo purposes. This will dropout second channel always.\n",
        "  arma_rng::set_seed(0);\n",
        "\n",
        "  // User input\n",
        "  arma::mat input(12, 1);\n",
        "  input << 0.4963 << 0.0885 << 0.7682 << 0.1320 << 0.3074 << 0.4901 << 0.6341 << 0.8964 << 0.4556 << 0.3489 << 0.6323 << 0.4017 << endr;\n",
        "  input = input.t();\n",
        "\n",
        "  double ratio = 0.2;\n",
        "  size_t size = 3; // input channels\n",
        "\n",
        "  arma::mat output;\n",
        "  output.zeros(arma::size(input));\n",
        "\n",
        "  // Forward()\n",
        "  size_t batchSize = input.n_cols;\n",
        "  size_t inputSize = input.n_rows / size;\n",
        "  double scale = 1.0 / (1.0 - ratio);\n",
        "  arma::cube inputTemp(const_cast<arma::mat&>(input).memptr(), inputSize, size, batchSize, false, false);\n",
        "  arma::cube outputTemp(const_cast<arma::mat&>(output).memptr(), inputSize, size, batchSize, false, false);\n",
        "  arma::mat probabilities(1, size);\n",
        "  arma::mat maskRow(1, size);\n",
        "  arma::mat mask;\n",
        "  probabilities.fill(ratio);\n",
        "  BernoulliDistribution<> bernoulli_dist(probabilities, false);\n",
        "  maskRow = bernoulli_dist.Sample();\n",
        "  mask = arma::repmat(maskRow, inputSize, 1);\n",
        "\n",
        "  for(size_t n = 0; n < batchSize; n++)\n",
        "  {\n",
        "    arma::mat& inputImage = inputTemp.slice(n);\n",
        "    arma::mat& outputImage = outputTemp.slice(n);\n",
        "    outputImage = inputImage % mask * scale;\n",
        "\n",
        "    if(PRINT)\n",
        "    {\n",
        "      cout << \"Image \" << n << \" calculations: \" << endl;\n",
        "      cout << \"-----------------------------------\" << endl;\n",
        "      cout << \"-----------------------------------\" << endl;\n",
        "      cout << \"INPUT for Spatial Dropout: \" << endl;\n",
        "      cout << inputImage << endl;\n",
        "      cout << \"-----------------------------------\" << endl;\n",
        "      cout << \"OUTPUT for Spatial Dropout: \" << endl;\n",
        "      cout << outputImage << endl;\n",
        "      cout << \"-----------------------------------\" << endl;\n",
        "    }\n",
        "  }\n",
        "\n",
        "  // this is gy for Spatial Dropout layer simulated as a tensor filled with an arbitrary sequence of values.\n",
        "  arma::mat gy;\n",
        "  gy << 1 << 3 << 2 << 4 << 5 << 7 << 6 << 8 << 9 << 11 << 10 << 12 << endr;\n",
        "  gy = gy.t();\n",
        "\n",
        "  // Backward()\n",
        "  arma::mat g;\n",
        "  g.zeros(arma::size(input));\n",
        "\n",
        "  arma::cube gyTemp(const_cast<arma::mat&>(gy).memptr(), inputSize, size, batchSize, false, false);\n",
        "  arma::cube gTemp(const_cast<arma::mat&>(g).memptr(), inputSize, size, batchSize, false, false);\n",
        "\n",
        "  for(size_t n = 0; n < batchSize; n++)\n",
        "  {\n",
        "    arma::mat& gyImage = gyTemp.slice(n);\n",
        "    arma::mat& gImage = gTemp.slice(n);\n",
        "\n",
        "    gImage = gyImage % mask * scale;\n",
        "\n",
        "    if(PRINT)\n",
        "    {\n",
        "      cout << \"Image \" << n << \" calculations: \" << endl;\n",
        "      cout << \"-----------------------------------\" << endl;\n",
        "      cout << \"-----------------------------------\" << endl;\n",
        "      cout << \"Hypothetical gy for Spatial Dropout: \" << endl;\n",
        "      cout << gyImage << endl;\n",
        "      cout << \"-----------------------------------\" << endl;\n",
        "      cout << \"g for Spatial Dropout: \" << endl;\n",
        "      cout << gImage << endl;\n",
        "      cout << \"-----------------------------------\" << endl;\n",
        "    }\n",
        "  }\n",
        "\n",
        "  return 0;\n",
        "}\n",
        "\n",
        "```\n",
        "\n",
        "Command for running the above cpp file locally on a Mac :\n",
        "\n",
        "```bash\n",
        "g++ -std=c++11 -stdlib=libc++ test.cpp -o test -larmadillo -lmlpack && ./test\n",
        "```\n",
        "\n",
        "mlpack output :\n",
        "```md\n",
        "Image 0 calculations: \n",
        "-----------------------------------\n",
        "-----------------------------------\n",
        "INPUT for Spatial Dropout: \n",
        "   0.4963   0.3074   0.4556\n",
        "   0.0885   0.4901   0.3489\n",
        "   0.7682   0.6341   0.6323\n",
        "   0.1320   0.8964   0.4017\n",
        "\n",
        "-----------------------------------\n",
        "OUTPUT for Spatial Dropout: \n",
        "   0.6204        0   0.5695\n",
        "   0.1106        0   0.4361\n",
        "   0.9603        0   0.7904\n",
        "   0.1650        0   0.5021\n",
        "\n",
        "-----------------------------------\n",
        "Image 0 calculations: \n",
        "-----------------------------------\n",
        "-----------------------------------\n",
        "Hypothetical gy for Spatial Dropout: \n",
        "    1.0000    5.0000    9.0000\n",
        "    3.0000    7.0000   11.0000\n",
        "    2.0000    6.0000   10.0000\n",
        "    4.0000    8.0000   12.0000\n",
        "\n",
        "-----------------------------------\n",
        "g for Spatial Dropout: \n",
        "    1.2500         0   11.2500\n",
        "    3.7500         0   13.7500\n",
        "    2.5000         0   12.5000\n",
        "    5.0000         0   15.0000\n",
        "\n",
        "-----------------------------------\n",
        "```"
      ]
    }
  ]
}