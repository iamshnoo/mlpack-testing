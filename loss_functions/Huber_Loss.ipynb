{
  "nbformat": 4,
  "nbformat_minor": 0,
  "metadata": {
    "colab": {
      "name": "Huber Loss",
      "provenance": [],
      "collapsed_sections": [
        "yPWU9O3LO94x",
        "y6sYXvFs4H2k",
        "YBHd3wIt4H2l",
        "2eAofEln4H2p",
        "vJukNLu24H2s",
        "h7fZHZDk4H2w",
        "20ckFsa14H2z",
        "Am0ac0dH06Dh"
      ]
    },
    "kernelspec": {
      "name": "python3",
      "display_name": "Python 3"
    }
  },
  "cells": [
    {
      "cell_type": "markdown",
      "metadata": {
        "id": "tRLe8VENOQM9",
        "colab_type": "text"
      },
      "source": [
        "# Smooth L1 loss\n",
        "\n",
        "The current mlpack implementation is correct. <br>\n",
        "This file just represents a minor modification to support None reduction."
      ]
    },
    {
      "cell_type": "markdown",
      "metadata": {
        "id": "yPWU9O3LO94x",
        "colab_type": "text"
      },
      "source": [
        "### Imports and installation of mlpack"
      ]
    },
    {
      "cell_type": "code",
      "metadata": {
        "id": "ZoQR5XuyPAb9",
        "colab_type": "code",
        "colab": {}
      },
      "source": [
        "%%capture\n",
        "!sudo apt-get install libmlpack-dev \n",
        "import torch\n",
        "import torch.nn as nn"
      ],
      "execution_count": null,
      "outputs": []
    },
    {
      "cell_type": "markdown",
      "metadata": {
        "colab_type": "text",
        "id": "y6sYXvFs4H2k"
      },
      "source": [
        "### PyTorch"
      ]
    },
    {
      "cell_type": "markdown",
      "metadata": {
        "colab_type": "text",
        "id": "YBHd3wIt4H2l"
      },
      "source": [
        "#### None Reduction\n"
      ]
    },
    {
      "cell_type": "code",
      "metadata": {
        "colab_type": "code",
        "id": "tbvKldxa4H2m",
        "colab": {
          "base_uri": "https://localhost:8080/",
          "height": 381
        },
        "outputId": "e5366a95-e1d4-4517-b5a4-daf76ae32ed0"
      },
      "source": [
        "loss = torch.nn.SmoothL1Loss(reduction='none')\n",
        "input = torch.tensor([[-0.0494,  1.6028,  0.9639],\n",
        "                      [-1.1958,  0.0737,  0.9648],\n",
        "                      [-1.0486, -0.7091,  0.0745],\n",
        "                      [-0.2121,  0.8612,  0.5924]], requires_grad=True)\n",
        "target = torch.tensor([[ 0.4316,  0.5106,  0.7059],\n",
        "                      [ 0.0164,  0.9255, -0.8288],\n",
        "                      [-0.4478,  0.5571, -0.0231],\n",
        "                      [ 1.1452,  0.0864, -1.0526]])\n",
        "output = loss(input, target)\n",
        "output.backward(torch.ones(input.shape))\n",
        "print(\"Input : \")\n",
        "print(input)\n",
        "print(\"Target : \")\n",
        "print(target)\n",
        "print(\"FORWARD : \")\n",
        "print(\"Loss : \")\n",
        "print(output)\n",
        "print(\"BACKWARD : \")\n",
        "print(input.grad)"
      ],
      "execution_count": null,
      "outputs": [
        {
          "output_type": "stream",
          "text": [
            "Input : \n",
            "tensor([[-0.0494,  1.6028,  0.9639],\n",
            "        [-1.1958,  0.0737,  0.9648],\n",
            "        [-1.0486, -0.7091,  0.0745],\n",
            "        [-0.2121,  0.8612,  0.5924]], requires_grad=True)\n",
            "Target : \n",
            "tensor([[ 0.4316,  0.5106,  0.7059],\n",
            "        [ 0.0164,  0.9255, -0.8288],\n",
            "        [-0.4478,  0.5571, -0.0231],\n",
            "        [ 1.1452,  0.0864, -1.0526]])\n",
            "FORWARD : \n",
            "Loss : \n",
            "tensor([[0.1157, 0.5922, 0.0333],\n",
            "        [0.7122, 0.3628, 1.2936],\n",
            "        [0.1805, 0.7662, 0.0048],\n",
            "        [0.8573, 0.3002, 1.1450]], grad_fn=<SmoothL1LossBackward>)\n",
            "BACKWARD : \n",
            "tensor([[-0.4810,  1.0000,  0.2580],\n",
            "        [-1.0000, -0.8518,  1.0000],\n",
            "        [-0.6008, -1.0000,  0.0976],\n",
            "        [-1.0000,  0.7748,  1.0000]])\n"
          ],
          "name": "stdout"
        }
      ]
    },
    {
      "cell_type": "markdown",
      "metadata": {
        "colab_type": "text",
        "id": "2eAofEln4H2p"
      },
      "source": [
        "#### Sum Reduction"
      ]
    },
    {
      "cell_type": "code",
      "metadata": {
        "colab_type": "code",
        "id": "alko8BnL4H2p",
        "colab": {
          "base_uri": "https://localhost:8080/",
          "height": 349
        },
        "outputId": "15a5b954-1779-4197-b3a1-ca3ca9e32539"
      },
      "source": [
        "loss = torch.nn.SmoothL1Loss(reduction='sum')\n",
        "input = torch.tensor([[-0.0494,  1.6028,  0.9639],\n",
        "                      [-1.1958,  0.0737,  0.9648],\n",
        "                      [-1.0486, -0.7091,  0.0745],\n",
        "                      [-0.2121,  0.8612,  0.5924]], requires_grad=True)\n",
        "target = torch.tensor([[ 0.4316,  0.5106,  0.7059],\n",
        "                      [ 0.0164,  0.9255, -0.8288],\n",
        "                      [-0.4478,  0.5571, -0.0231],\n",
        "                      [ 1.1452,  0.0864, -1.0526]])\n",
        "output = loss(input, target)\n",
        "output.backward()\n",
        "print(\"Input : \")\n",
        "print(input)\n",
        "print(\"Target : \")\n",
        "print(target)\n",
        "print(\"FORWARD : \")\n",
        "print(\"Loss : \")\n",
        "print(output)\n",
        "print(\"BACKWARD : \")\n",
        "print(input.grad)"
      ],
      "execution_count": null,
      "outputs": [
        {
          "output_type": "stream",
          "text": [
            "Input : \n",
            "tensor([[-0.0494,  1.6028,  0.9639],\n",
            "        [-1.1958,  0.0737,  0.9648],\n",
            "        [-1.0486, -0.7091,  0.0745],\n",
            "        [-0.2121,  0.8612,  0.5924]], requires_grad=True)\n",
            "Target : \n",
            "tensor([[ 0.4316,  0.5106,  0.7059],\n",
            "        [ 0.0164,  0.9255, -0.8288],\n",
            "        [-0.4478,  0.5571, -0.0231],\n",
            "        [ 1.1452,  0.0864, -1.0526]])\n",
            "FORWARD : \n",
            "Loss : \n",
            "tensor(6.3636, grad_fn=<SmoothL1LossBackward>)\n",
            "BACKWARD : \n",
            "tensor([[-0.4810,  1.0000,  0.2580],\n",
            "        [-1.0000, -0.8518,  1.0000],\n",
            "        [-0.6008, -1.0000,  0.0976],\n",
            "        [-1.0000,  0.7748,  1.0000]])\n"
          ],
          "name": "stdout"
        }
      ]
    },
    {
      "cell_type": "markdown",
      "metadata": {
        "colab_type": "text",
        "id": "vJukNLu24H2s"
      },
      "source": [
        "#### Mean reduction"
      ]
    },
    {
      "cell_type": "code",
      "metadata": {
        "colab_type": "code",
        "id": "_nlOMbXC4H2t",
        "colab": {
          "base_uri": "https://localhost:8080/",
          "height": 349
        },
        "outputId": "255b69c9-693a-4586-f360-6104342416ed"
      },
      "source": [
        "loss = torch.nn.SmoothL1Loss(reduction='mean')\n",
        "input = torch.tensor([[-0.0494,  1.6028,  0.9639],\n",
        "                      [-1.1958,  0.0737,  0.9648],\n",
        "                      [-1.0486, -0.7091,  0.0745],\n",
        "                      [-0.2121,  0.8612,  0.5924]], requires_grad=True)\n",
        "target = torch.tensor([[ 0.4316,  0.5106,  0.7059],\n",
        "                      [ 0.0164,  0.9255, -0.8288],\n",
        "                      [-0.4478,  0.5571, -0.0231],\n",
        "                      [ 1.1452,  0.0864, -1.0526]])\n",
        "output = loss(input, target)\n",
        "output.backward()\n",
        "print(\"Input : \")\n",
        "print(input)\n",
        "print(\"Target : \")\n",
        "print(target)\n",
        "print(\"FORWARD : \")\n",
        "print(\"Loss : \")\n",
        "print(output)\n",
        "print(\"BACKWARD : \")\n",
        "print(input.grad)"
      ],
      "execution_count": null,
      "outputs": [
        {
          "output_type": "stream",
          "text": [
            "Input : \n",
            "tensor([[-0.0494,  1.6028,  0.9639],\n",
            "        [-1.1958,  0.0737,  0.9648],\n",
            "        [-1.0486, -0.7091,  0.0745],\n",
            "        [-0.2121,  0.8612,  0.5924]], requires_grad=True)\n",
            "Target : \n",
            "tensor([[ 0.4316,  0.5106,  0.7059],\n",
            "        [ 0.0164,  0.9255, -0.8288],\n",
            "        [-0.4478,  0.5571, -0.0231],\n",
            "        [ 1.1452,  0.0864, -1.0526]])\n",
            "FORWARD : \n",
            "Loss : \n",
            "tensor(0.5303, grad_fn=<SmoothL1LossBackward>)\n",
            "BACKWARD : \n",
            "tensor([[-0.0401,  0.0833,  0.0215],\n",
            "        [-0.0833, -0.0710,  0.0833],\n",
            "        [-0.0501, -0.0833,  0.0081],\n",
            "        [-0.0833,  0.0646,  0.0833]])\n"
          ],
          "name": "stdout"
        }
      ]
    },
    {
      "cell_type": "markdown",
      "metadata": {
        "colab_type": "text",
        "id": "h7fZHZDk4H2w"
      },
      "source": [
        "### mlpack\n"
      ]
    },
    {
      "cell_type": "markdown",
      "metadata": {
        "colab_type": "text",
        "id": "20ckFsa14H2z"
      },
      "source": [
        "#### CURRENT IMPLEMENTATION\n"
      ]
    },
    {
      "cell_type": "code",
      "metadata": {
        "colab_type": "code",
        "id": "cFlCk9a64H20",
        "colab": {}
      },
      "source": [
        "%%capture\n",
        "%%writefile test.cpp  \n",
        "\n",
        "#include <iostream>\n",
        "#include <armadillo>\n",
        "\n",
        "using namespace std;\n",
        "using namespace arma;\n",
        "\n",
        "int main()\n",
        "{\n",
        "  // Constructor\n",
        "  arma::mat x,y;\n",
        "  arma::mat weight;\n",
        "  const double delta = 1.0;\n",
        " \n",
        "  x << -0.0494 << 1.6028 << 0.9639 << endr\n",
        "    << -1.1958 << 0.0737 << 0.9648 << endr\n",
        "    << -1.0486 << -0.7091 << 0.0745 << endr\n",
        "    << -0.2121 << 0.8612 << 0.5924 << endr;\n",
        "\n",
        "  y << 0.4316  << 0.5106 <<  0.7059 << endr\n",
        "    << 0.0164  << 0.9255 << -0.8288 << endr\n",
        "    << -0.4478 << 0.5571 << -0.0231 << endr\n",
        "    << 1.1452  << 0.0864 << -1.0526 << endr;\n",
        "\n",
        "  // Forward\n",
        "  double loss_sum = 0;\n",
        "  for (size_t i = 0; i < x.n_elem; ++i)\n",
        "  {\n",
        "      const double absError = std::abs(y[i] - x[i]);\n",
        "      loss_sum += absError > delta ? delta * (absError - 0.5 * delta) : 0.5 * std::pow(absError, 2);\n",
        "  }\n",
        "  double loss_mean = loss_sum / x.n_elem;\n",
        "\n",
        "  // Backward\n",
        "  arma::mat output;\n",
        "  output.set_size(size(x));\n",
        "  for (size_t i = 0; i < output.n_elem; ++i)\n",
        "  {\n",
        "    const double absErrorBack = std::abs(y[i] - x[i]);\n",
        "    output[i] = absErrorBack > delta ? - delta * (y[i] - x[i]) / absErrorBack : x[i] - y[i];\n",
        "  }\n",
        "\n",
        "  // Display\n",
        "  cout << \"------------------------------------------------------------------\" << endl;\n",
        "  cout << \"USER-PROVIDED MATRICES : \" << endl;\n",
        "  cout << \"------------------------------------------------------------------\" << endl;\n",
        "  cout << \"Input shape : \"<< x.n_rows << \" \" << x.n_cols << endl;\n",
        "  cout << \"Input : \" << endl << x << endl;\n",
        "  cout << \"Target shape : \"<< y.n_rows << \" \" << y.n_cols << endl;\n",
        "  cout << \"Target : \" << endl << y << endl;\n",
        "  cout << \"------------------------------------------------------------------\" << endl;\n",
        "  cout << \"SUM \" << endl;\n",
        "  cout << \"------------------------------------------------------------------\" << endl;\n",
        "  cout << \"FORWARD : \" << endl;\n",
        "  cout << \"Loss (sum):\\n\" << loss_sum << '\\n';\n",
        "  cout << \"BACKWARD : \" << endl;\n",
        "  cout << \"Output shape : \"<< output.n_rows << \" \" << output.n_cols << endl;\n",
        "  cout << \"Output (sum) : \" << endl << output << endl;\n",
        "  cout << \"Sum of all values in this matrix : \" << arma::as_scalar(arma::accu(output)) << endl;\n",
        "  cout << \"------------------------------------------------------------------\" << endl;\n",
        "  cout << \"MEAN \" << endl;\n",
        "  cout << \"------------------------------------------------------------------\" << endl;\n",
        "  cout << \"FORWARD : \" << endl;\n",
        "  cout << \"Loss (mean):\\n\" << loss_mean << '\\n';\n",
        "  cout << \"BACKWARD : \" << endl;\n",
        "  cout << \"Output shape : \"<< output.n_rows << \" \" << output.n_cols << endl;\n",
        "  cout << \"Output (mean) : \" << endl << output / x.n_elem << endl;\n",
        "  cout << \"Sum of all values in this matrix : \" << arma::as_scalar(arma::accu(output / x.n_elem)) << endl;\n",
        "  cout << \"------------------------------------------------------------------\" << endl;\n",
        "  return 0;\n",
        "}"
      ],
      "execution_count": null,
      "outputs": []
    },
    {
      "cell_type": "code",
      "metadata": {
        "id": "xHT34eorQquz",
        "colab_type": "code",
        "colab": {
          "base_uri": "https://localhost:8080/",
          "height": 849
        },
        "outputId": "b7f13b4d-9023-4aba-b26f-e720b798a769"
      },
      "source": [
        "%%script bash\n",
        "g++ test.cpp -o test -larmadillo && ./test"
      ],
      "execution_count": null,
      "outputs": [
        {
          "output_type": "stream",
          "text": [
            "------------------------------------------------------------------\n",
            "USER-PROVIDED MATRICES : \n",
            "------------------------------------------------------------------\n",
            "Input shape : 4 3\n",
            "Input : \n",
            "  -0.0494   1.6028   0.9639\n",
            "  -1.1958   0.0737   0.9648\n",
            "  -1.0486  -0.7091   0.0745\n",
            "  -0.2121   0.8612   0.5924\n",
            "\n",
            "Target shape : 4 3\n",
            "Target : \n",
            "   0.4316   0.5106   0.7059\n",
            "   0.0164   0.9255  -0.8288\n",
            "  -0.4478   0.5571  -0.0231\n",
            "   1.1452   0.0864  -1.0526\n",
            "\n",
            "------------------------------------------------------------------\n",
            "SUM \n",
            "------------------------------------------------------------------\n",
            "FORWARD : \n",
            "Loss (sum):\n",
            "6.36364\n",
            "BACKWARD : \n",
            "Output shape : 4 3\n",
            "Output (sum) : \n",
            "  -0.4810   1.0000   0.2580\n",
            "  -1.0000  -0.8518   1.0000\n",
            "  -0.6008  -1.0000   0.0976\n",
            "  -1.0000   0.7748   1.0000\n",
            "\n",
            "Sum of all values in this matrix : -0.8032\n",
            "------------------------------------------------------------------\n",
            "MEAN \n",
            "------------------------------------------------------------------\n",
            "FORWARD : \n",
            "Loss (mean):\n",
            "0.530304\n",
            "BACKWARD : \n",
            "Output shape : 4 3\n",
            "Output (mean) : \n",
            "  -0.0401   0.0833   0.0215\n",
            "  -0.0833  -0.0710   0.0833\n",
            "  -0.0501  -0.0833   0.0081\n",
            "  -0.0833   0.0646   0.0833\n",
            "\n",
            "Sum of all values in this matrix : -0.0669333\n",
            "------------------------------------------------------------------\n"
          ],
          "name": "stdout"
        }
      ]
    },
    {
      "cell_type": "markdown",
      "metadata": {
        "id": "Am0ac0dH06Dh",
        "colab_type": "text"
      },
      "source": [
        "#### NEW IMPLEMENTATION - Supports None Reduction"
      ]
    },
    {
      "cell_type": "code",
      "metadata": {
        "id": "iXL-8AAh0hns",
        "colab_type": "code",
        "colab": {}
      },
      "source": [
        "%%capture\n",
        "%%writefile test.cpp  \n",
        "\n",
        "#include <iostream>\n",
        "#include <armadillo>\n",
        "\n",
        "using namespace std;\n",
        "using namespace arma;\n",
        "\n",
        "int main()\n",
        "{\n",
        "  // Constructor\n",
        "  arma::mat x,y;\n",
        "  arma::mat weight;\n",
        "  const double delta = 1.0;\n",
        " \n",
        "  x << -0.0494 << 1.6028 << 0.9639 << endr\n",
        "    << -1.1958 << 0.0737 << 0.9648 << endr\n",
        "    << -1.0486 << -0.7091 << 0.0745 << endr\n",
        "    << -0.2121 << 0.8612 << 0.5924 << endr;\n",
        "\n",
        "  y << 0.4316  << 0.5106 <<  0.7059 << endr\n",
        "    << 0.0164  << 0.9255 << -0.8288 << endr\n",
        "    << -0.4478 << 0.5571 << -0.0231 << endr\n",
        "    << 1.1452  << 0.0864 << -1.0526 << endr;\n",
        "\n",
        "  // Forward\n",
        "  arma::mat loss_none;\n",
        "  loss_none.set_size(size(x));\n",
        "  for (size_t i = 0; i < x.n_elem; ++i)\n",
        "  {\n",
        "      const double absError = std::abs(y[i] - x[i]);\n",
        "      loss_none[i] = absError > delta ? delta * (absError - 0.5 * delta) : 0.5 * std::pow(absError, 2);\n",
        "  }\n",
        "  double loss_sum = arma::accu(loss_none);\n",
        "  double loss_mean = loss_sum / x.n_elem;\n",
        "\n",
        "  // Backward\n",
        "  arma::mat output;\n",
        "  output.set_size(size(x));\n",
        "  for (size_t i = 0; i < output.n_elem; ++i)\n",
        "  {\n",
        "    const double absErrorBack = std::abs(y[i] - x[i]);\n",
        "    output[i] = absErrorBack > delta ? - delta * (y[i] - x[i]) / absErrorBack : x[i] - y[i];\n",
        "  }\n",
        "\n",
        "  // Display\n",
        "  cout << \"------------------------------------------------------------------\" << endl;\n",
        "  cout << \"USER-PROVIDED MATRICES : \" << endl;\n",
        "  cout << \"------------------------------------------------------------------\" << endl;\n",
        "  cout << \"Input shape : \"<< x.n_rows << \" \" << x.n_cols << endl;\n",
        "  cout << \"Input : \" << endl << x << endl;\n",
        "  cout << \"Target shape : \"<< y.n_rows << \" \" << y.n_cols << endl;\n",
        "  cout << \"Target : \" << endl << y << endl;\n",
        "  cout << \"------------------------------------------------------------------\" << endl;\n",
        "  cout << \"SUM \" << endl;\n",
        "  cout << \"------------------------------------------------------------------\" << endl;\n",
        "  cout << \"FORWARD : \" << endl;\n",
        "  cout << \"Loss (none): \\n\" << loss_none << '\\n';\n",
        "  cout << \"Loss (sum):\\n\" << loss_sum << '\\n';\n",
        "  cout << \"BACKWARD : \" << endl;\n",
        "  cout << \"Output shape : \"<< output.n_rows << \" \" << output.n_cols << endl;\n",
        "  cout << \"Output (sum) : \" << endl << output << endl;\n",
        "  cout << \"Sum of all values in this matrix : \" << arma::as_scalar(arma::accu(output)) << endl;\n",
        "  cout << \"------------------------------------------------------------------\" << endl;\n",
        "  cout << \"MEAN \" << endl;\n",
        "  cout << \"------------------------------------------------------------------\" << endl;\n",
        "  cout << \"FORWARD : \" << endl;\n",
        "  cout << \"Loss (mean):\\n\" << loss_mean << '\\n';\n",
        "  cout << \"BACKWARD : \" << endl;\n",
        "  cout << \"Output shape : \"<< output.n_rows << \" \" << output.n_cols << endl;\n",
        "  cout << \"Output (mean) : \" << endl << output / x.n_elem << endl;\n",
        "  cout << \"Sum of all values in this matrix : \" << arma::as_scalar(arma::accu(output / x.n_elem)) << endl;\n",
        "  cout << \"------------------------------------------------------------------\" << endl;\n",
        "  return 0;\n",
        "}"
      ],
      "execution_count": null,
      "outputs": []
    },
    {
      "cell_type": "code",
      "metadata": {
        "id": "EDQ-ssYq1D4-",
        "colab_type": "code",
        "colab": {
          "base_uri": "https://localhost:8080/",
          "height": 953
        },
        "outputId": "b4c1a8db-ef52-4b5e-9fad-a00654109e22"
      },
      "source": [
        "%%script bash\n",
        "g++ test.cpp -o test -larmadillo && ./test"
      ],
      "execution_count": null,
      "outputs": [
        {
          "output_type": "stream",
          "text": [
            "------------------------------------------------------------------\n",
            "USER-PROVIDED MATRICES : \n",
            "------------------------------------------------------------------\n",
            "Input shape : 4 3\n",
            "Input : \n",
            "  -0.0494   1.6028   0.9639\n",
            "  -1.1958   0.0737   0.9648\n",
            "  -1.0486  -0.7091   0.0745\n",
            "  -0.2121   0.8612   0.5924\n",
            "\n",
            "Target shape : 4 3\n",
            "Target : \n",
            "   0.4316   0.5106   0.7059\n",
            "   0.0164   0.9255  -0.8288\n",
            "  -0.4478   0.5571  -0.0231\n",
            "   1.1452   0.0864  -1.0526\n",
            "\n",
            "------------------------------------------------------------------\n",
            "SUM \n",
            "------------------------------------------------------------------\n",
            "FORWARD : \n",
            "Loss (none): \n",
            "   0.1157   0.5922   0.0333\n",
            "   0.7122   0.3628   1.2936\n",
            "   0.1805   0.7662   0.0048\n",
            "   0.8573   0.3002   1.1450\n",
            "\n",
            "Loss (sum):\n",
            "6.36364\n",
            "BACKWARD : \n",
            "Output shape : 4 3\n",
            "Output (sum) : \n",
            "  -0.4810   1.0000   0.2580\n",
            "  -1.0000  -0.8518   1.0000\n",
            "  -0.6008  -1.0000   0.0976\n",
            "  -1.0000   0.7748   1.0000\n",
            "\n",
            "Sum of all values in this matrix : -0.8032\n",
            "------------------------------------------------------------------\n",
            "MEAN \n",
            "------------------------------------------------------------------\n",
            "FORWARD : \n",
            "Loss (mean):\n",
            "0.530304\n",
            "BACKWARD : \n",
            "Output shape : 4 3\n",
            "Output (mean) : \n",
            "  -0.0401   0.0833   0.0215\n",
            "  -0.0833  -0.0710   0.0833\n",
            "  -0.0501  -0.0833   0.0081\n",
            "  -0.0833   0.0646   0.0833\n",
            "\n",
            "Sum of all values in this matrix : -0.0669333\n",
            "------------------------------------------------------------------\n"
          ],
          "name": "stdout"
        }
      ]
    }
  ]
}