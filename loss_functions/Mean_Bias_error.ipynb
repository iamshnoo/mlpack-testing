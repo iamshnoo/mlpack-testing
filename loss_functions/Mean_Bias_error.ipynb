{
  "nbformat": 4,
  "nbformat_minor": 0,
  "metadata": {
    "colab": {
      "name": "Mean Bias error",
      "provenance": [],
      "collapsed_sections": []
    },
    "kernelspec": {
      "name": "python3",
      "display_name": "Python 3"
    }
  },
  "cells": [
    {
      "cell_type": "markdown",
      "metadata": {
        "id": "tRLe8VENOQM9",
        "colab_type": "text"
      },
      "source": [
        "# Mean Bias error\n",
        "\n",
        "The current mlpack implementation is incorrect."
      ]
    },
    {
      "cell_type": "markdown",
      "metadata": {
        "id": "yPWU9O3LO94x",
        "colab_type": "text"
      },
      "source": [
        "### Imports and installation of mlpack"
      ]
    },
    {
      "cell_type": "code",
      "metadata": {
        "id": "ZoQR5XuyPAb9",
        "colab_type": "code",
        "colab": {}
      },
      "source": [
        "%%capture\n",
        "!sudo apt-get install libmlpack-dev \n",
        "import torch\n",
        "import torch.nn as nn"
      ],
      "execution_count": 0,
      "outputs": []
    },
    {
      "cell_type": "markdown",
      "metadata": {
        "colab_type": "text",
        "id": "h7fZHZDk4H2w"
      },
      "source": [
        "### mlpack\n"
      ]
    },
    {
      "cell_type": "markdown",
      "metadata": {
        "colab_type": "text",
        "id": "20ckFsa14H2z"
      },
      "source": [
        "#### CURRENT IMPLEMENTATION\n"
      ]
    },
    {
      "cell_type": "code",
      "metadata": {
        "id": "czQj6hx4j5Jz",
        "colab_type": "code",
        "colab": {}
      },
      "source": [
        "%%capture\n",
        "%%writefile test.cpp  \n",
        "\n",
        "// This uses the computations present in mean_bias_error_impl.hpp in ann/loss_functions.\n",
        "#include <iostream>\n",
        "#include <armadillo>\n",
        "\n",
        "using namespace std;\n",
        "using namespace arma;\n",
        "\n",
        "int main()\n",
        "{\n",
        "  // Constructor\n",
        "  arma::mat x,y;\n",
        "  arma::mat weight;\n",
        " \n",
        "  x << -0.0494 << 1.6028 << 0.9639 << endr\n",
        "    << -1.1958 << 0.0737 << 0.9648 << endr\n",
        "    << -1.0486 << -0.7091 << 0.0745 << endr\n",
        "    << -0.2121 << 0.8612 << 0.5924 << endr;\n",
        "\n",
        "  y << 0.4316  << 0.5106 <<  0.7059 << endr\n",
        "    << 0.0164  << 0.9255 << -0.8288 << endr\n",
        "    << -0.4478 << 0.5571 << -0.0231 << endr\n",
        "    << 1.1452  << 0.0864 << -1.0526 << endr;\n",
        "\n",
        "  // Forward\n",
        "  double loss = arma::accu(y - x) / y.n_cols;\n",
        "\n",
        "  // Backward\n",
        "  arma::mat output;\n",
        "  output.set_size(arma::size(x));\n",
        "  output.fill(-1.0);\n",
        "\n",
        "  // Display\n",
        "  cout << \"------------------------------------------------------------------\" << endl;\n",
        "  cout << \"USER-PROVIDED MATRICES : \" << endl;\n",
        "  cout << \"------------------------------------------------------------------\" << endl;\n",
        "  cout << \"Input shape : \"<< x.n_rows << \" \" << x.n_cols << endl;\n",
        "  cout << \"Input : \" << endl << x << endl;\n",
        "  cout << \"Target shape : \"<< y.n_rows << \" \" << y.n_cols << endl;\n",
        "  cout << \"Target : \" << endl << y << endl;\n",
        "  cout << \"FORWARD : \" << endl;\n",
        "  cout << \"Loss : \\n\" << loss << '\\n';\n",
        "  cout << \"BACKWARD : \" << endl;\n",
        "  cout << \"Output shape : \"<< output.n_rows << \" \" << output.n_cols << endl;\n",
        "  cout << \"Output (sum) : \" << endl << output << endl;\n",
        "  cout << \"Sum of all values in this matrix : \" << arma::as_scalar(arma::accu(output)) << endl;\n",
        "  return 0;\n",
        "}"
      ],
      "execution_count": 0,
      "outputs": []
    },
    {
      "cell_type": "code",
      "metadata": {
        "id": "SchlH2Tej7zC",
        "colab_type": "code",
        "outputId": "1930899e-4d3d-4d1a-85ff-51c549cea040",
        "colab": {
          "base_uri": "https://localhost:8080/",
          "height": 520
        }
      },
      "source": [
        "%%script bash\n",
        "g++ test.cpp -o test -larmadillo && ./test"
      ],
      "execution_count": 0,
      "outputs": [
        {
          "output_type": "stream",
          "text": [
            "------------------------------------------------------------------\n",
            "USER-PROVIDED MATRICES : \n",
            "------------------------------------------------------------------\n",
            "Input shape : 4 3\n",
            "Input : \n",
            "  -0.0494   1.6028   0.9639\n",
            "  -1.1958   0.0737   0.9648\n",
            "  -1.0486  -0.7091   0.0745\n",
            "  -0.2121   0.8612   0.5924\n",
            "\n",
            "Target shape : 4 3\n",
            "Target : \n",
            "   0.4316   0.5106   0.7059\n",
            "   0.0164   0.9255  -0.8288\n",
            "  -0.4478   0.5571  -0.0231\n",
            "   1.1452   0.0864  -1.0526\n",
            "\n",
            "FORWARD : \n",
            "Loss : \n",
            "0.0360333\n",
            "BACKWARD : \n",
            "Output shape : 4 3\n",
            "Output (sum) : \n",
            "  -1.0000  -1.0000  -1.0000\n",
            "  -1.0000  -1.0000  -1.0000\n",
            "  -1.0000  -1.0000  -1.0000\n",
            "  -1.0000  -1.0000  -1.0000\n",
            "\n",
            "Sum of all values in this matrix : -12\n"
          ],
          "name": "stdout"
        }
      ]
    },
    {
      "cell_type": "markdown",
      "metadata": {
        "id": "Qz4qa7Ezkkfr",
        "colab_type": "text"
      },
      "source": [
        "#### NEW IMPLEMENTATION"
      ]
    },
    {
      "cell_type": "code",
      "metadata": {
        "colab_type": "code",
        "id": "cFlCk9a64H20",
        "colab": {}
      },
      "source": [
        "%%capture\n",
        "%%writefile test.cpp  \n",
        "\n",
        "#include <iostream>\n",
        "#include <armadillo>\n",
        "\n",
        "using namespace std;\n",
        "using namespace arma;\n",
        "\n",
        "int main()\n",
        "{\n",
        "  // Constructor\n",
        "  arma::mat x,y;\n",
        "  arma::mat weight;\n",
        " \n",
        "  x << -0.0494 << 1.6028 << 0.9639 << endr\n",
        "    << -1.1958 << 0.0737 << 0.9648 << endr\n",
        "    << -1.0486 << -0.7091 << 0.0745 << endr\n",
        "    << -0.2121 << 0.8612 << 0.5924 << endr;\n",
        "\n",
        "  y << 0.4316  << 0.5106 <<  0.7059 << endr\n",
        "    << 0.0164  << 0.9255 << -0.8288 << endr\n",
        "    << -0.4478 << 0.5571 << -0.0231 << endr\n",
        "    << 1.1452  << 0.0864 << -1.0526 << endr;\n",
        "\n",
        "  // Forward\n",
        "  arma::mat loss_none = y - x;\n",
        "  double loss_sum = arma::accu(loss_none);\n",
        "  double loss_mean = loss_sum / x.n_elem;\n",
        "\n",
        "  // Backward\n",
        "  arma::mat output;\n",
        "  output.set_size(arma::size(x));\n",
        "  output.fill(-1.0);\n",
        "\n",
        "  // Display\n",
        "  cout << \"------------------------------------------------------------------\" << endl;\n",
        "  cout << \"USER-PROVIDED MATRICES : \" << endl;\n",
        "  cout << \"------------------------------------------------------------------\" << endl;\n",
        "  cout << \"Input shape : \"<< x.n_rows << \" \" << x.n_cols << endl;\n",
        "  cout << \"Input : \" << endl << x << endl;\n",
        "  cout << \"Target shape : \"<< y.n_rows << \" \" << y.n_cols << endl;\n",
        "  cout << \"Target : \" << endl << y << endl;\n",
        "  cout << \"------------------------------------------------------------------\" << endl;\n",
        "  cout << \"SUM \" << endl;\n",
        "  cout << \"------------------------------------------------------------------\" << endl;\n",
        "  cout << \"FORWARD : \" << endl;\n",
        "  cout << \"Loss : \\n\" << loss_none << '\\n';\n",
        "  cout << \"Loss (sum):\\n\" << loss_sum << '\\n';\n",
        "  cout << \"BACKWARD : \" << endl;\n",
        "  cout << \"Output shape : \"<< output.n_rows << \" \" << output.n_cols << endl;\n",
        "  cout << \"Output (sum) : \" << endl << output << endl;\n",
        "  cout << \"Sum of all values in this matrix : \" << arma::as_scalar(arma::accu(output)) << endl;\n",
        "  cout << \"------------------------------------------------------------------\" << endl;\n",
        "  cout << \"MEAN \" << endl;\n",
        "  cout << \"------------------------------------------------------------------\" << endl;\n",
        "  cout << \"FORWARD : \" << endl;\n",
        "  cout << \"Loss (mean):\\n\" << loss_mean << '\\n';\n",
        "  cout << \"BACKWARD : \" << endl;\n",
        "  cout << \"Output shape : \"<< output.n_rows << \" \" << output.n_cols << endl;\n",
        "  cout << \"Output (mean) : \" << endl << output / x.n_elem << endl;\n",
        "  cout << \"Sum of all values in this matrix : \" << arma::as_scalar(arma::accu(output / x.n_elem)) << endl;\n",
        "  cout << \"------------------------------------------------------------------\" << endl;\n",
        "  return 0;\n",
        "}"
      ],
      "execution_count": 0,
      "outputs": []
    },
    {
      "cell_type": "code",
      "metadata": {
        "id": "xHT34eorQquz",
        "colab_type": "code",
        "outputId": "afe7e459-9fb9-4ae3-e742-32707f451c1d",
        "colab": {
          "base_uri": "https://localhost:8080/",
          "height": 953
        }
      },
      "source": [
        "%%script bash\n",
        "g++ test.cpp -o test -larmadillo && ./test"
      ],
      "execution_count": 0,
      "outputs": [
        {
          "output_type": "stream",
          "text": [
            "------------------------------------------------------------------\n",
            "USER-PROVIDED MATRICES : \n",
            "------------------------------------------------------------------\n",
            "Input shape : 4 3\n",
            "Input : \n",
            "  -0.0494   1.6028   0.9639\n",
            "  -1.1958   0.0737   0.9648\n",
            "  -1.0486  -0.7091   0.0745\n",
            "  -0.2121   0.8612   0.5924\n",
            "\n",
            "Target shape : 4 3\n",
            "Target : \n",
            "   0.4316   0.5106   0.7059\n",
            "   0.0164   0.9255  -0.8288\n",
            "  -0.4478   0.5571  -0.0231\n",
            "   1.1452   0.0864  -1.0526\n",
            "\n",
            "------------------------------------------------------------------\n",
            "SUM \n",
            "------------------------------------------------------------------\n",
            "FORWARD : \n",
            "Loss : \n",
            "   0.4810  -1.0922  -0.2580\n",
            "   1.2122   0.8518  -1.7936\n",
            "   0.6008   1.2662  -0.0976\n",
            "   1.3573  -0.7748  -1.6450\n",
            "\n",
            "Loss (sum):\n",
            "0.1081\n",
            "BACKWARD : \n",
            "Output shape : 4 3\n",
            "Output (sum) : \n",
            "  -1.0000  -1.0000  -1.0000\n",
            "  -1.0000  -1.0000  -1.0000\n",
            "  -1.0000  -1.0000  -1.0000\n",
            "  -1.0000  -1.0000  -1.0000\n",
            "\n",
            "Sum of all values in this matrix : -12\n",
            "------------------------------------------------------------------\n",
            "MEAN \n",
            "------------------------------------------------------------------\n",
            "FORWARD : \n",
            "Loss (mean):\n",
            "0.00900833\n",
            "BACKWARD : \n",
            "Output shape : 4 3\n",
            "Output (mean) : \n",
            "  -0.0833  -0.0833  -0.0833\n",
            "  -0.0833  -0.0833  -0.0833\n",
            "  -0.0833  -0.0833  -0.0833\n",
            "  -0.0833  -0.0833  -0.0833\n",
            "\n",
            "Sum of all values in this matrix : -1\n",
            "------------------------------------------------------------------\n"
          ],
          "name": "stdout"
        }
      ]
    }
  ]
}