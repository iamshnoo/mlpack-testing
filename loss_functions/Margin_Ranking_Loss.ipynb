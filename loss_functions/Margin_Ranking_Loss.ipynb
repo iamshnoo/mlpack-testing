{
  "nbformat": 4,
  "nbformat_minor": 0,
  "metadata": {
    "colab": {
      "name": "Margin Ranking Loss",
      "provenance": [],
      "collapsed_sections": [
        "yPWU9O3LO94x",
        "HEmTyC6vLVIU",
        "YBHd3wIt4H2l",
        "2eAofEln4H2p"
      ]
    },
    "kernelspec": {
      "name": "python3",
      "display_name": "Python 3"
    }
  },
  "cells": [
    {
      "cell_type": "markdown",
      "metadata": {
        "id": "tRLe8VENOQM9",
        "colab_type": "text"
      },
      "source": [
        "# Margin Ranking loss\n",
        "\n",
        "PyTorch docs -> [Here](https://pytorch.org/docs/stable/nn.html#marginrankingloss) <br>\n",
        "\n",
        "---\n",
        "\n",
        "The current mlpack implementation of Forward() is correct. It implements **`mean`** reduction. <br>\n",
        "I have implemented the other reduction types in the last cell. <br>\n",
        "\n",
        "---\n",
        "\n",
        "I don't think the Backward() is correct. <br>\n",
        "If there are 2 input tensors x1 and x2 for a loss function L, aren't we supposed to get 2 different values during backpropagation -> dL/dx1 and dL/dx2? <br>\n",
        "\n",
        "How is he only getting 1 tensor as `output`? What does that tensor represent? <br>\n",
        "-> The guy who wrote this function in mlpack is doing doing y.grad instead of x1.grad and x2.grad, that's how he is getting a single value. [See the test case he wrote here](https://github.com/mlpack/mlpack/pull/2264/files/e0b76b7a595ee5cc92e381e575f0c951700f6044#diff-1f48422898330115de61fe91a3cc4242). I am pretty sure that isn't correct, because under no circumstances does calculating the gradients wrt the labels make any sense.\n",
        "\n",
        "Because, in no logical way can this loss function require us to calculate dL/dy instead of dL/dx. <br>\n",
        "\n",
        "Now, that this confusion is resolved, I don't know how to go about resolving the problem. Because, currently the Backward() function of mlpack only supports returning a single ```output``` matrix, but here inevitably we need 2 matrices to be returned to the layer prior to the loss function (the matrices corresponding to dL/dx1 and dL/dx2).  As far as I know, this isn;t currently possible in mlpack, so this might require some complicated change. I will create a separate issue mentioning this."
      ]
    },
    {
      "cell_type": "markdown",
      "metadata": {
        "id": "yPWU9O3LO94x",
        "colab_type": "text"
      },
      "source": [
        "### Imports and installation of mlpack"
      ]
    },
    {
      "cell_type": "code",
      "metadata": {
        "id": "ZoQR5XuyPAb9",
        "colab_type": "code",
        "colab": {}
      },
      "source": [
        "%%capture\n",
        "!sudo apt-get install libmlpack-dev \n",
        "import torch\n",
        "import torch.nn as nn"
      ],
      "execution_count": null,
      "outputs": []
    },
    {
      "cell_type": "markdown",
      "metadata": {
        "colab_type": "text",
        "id": "y6sYXvFs4H2k"
      },
      "source": [
        "### PyTorch\n",
        "\n",
        "input 1, input 2, target have to be 1D tensors."
      ]
    },
    {
      "cell_type": "markdown",
      "metadata": {
        "id": "HEmTyC6vLVIU",
        "colab_type": "text"
      },
      "source": [
        "#### Input generation with fixed seeds"
      ]
    },
    {
      "cell_type": "code",
      "metadata": {
        "id": "sgg47dlRLYcb",
        "colab_type": "code",
        "colab": {}
      },
      "source": [
        "import random\n",
        "import os\n",
        "import numpy as np\n",
        "\n",
        "def fix_seeds(seed=0):\n",
        "  SEED = seed\n",
        "  random.seed(seed)\n",
        "  os.environ['PYTHONHASHSEED'] = str(SEED)\n",
        "  np.random.seed(SEED)\n",
        "  torch.manual_seed(SEED)\n",
        "  torch.backends.cudnn.deterministic = True\n",
        "  torch.backends.cudnn.benchmark = False\n",
        "  if (torch.cuda.is_available()):\n",
        "    torch.cuda.manual_seed(SEED)\n",
        "\n",
        "fix_seeds()"
      ],
      "execution_count": null,
      "outputs": []
    },
    {
      "cell_type": "code",
      "metadata": {
        "id": "WUJahKX9LcFL",
        "colab_type": "code",
        "colab": {
          "base_uri": "https://localhost:8080/",
          "height": 346
        },
        "outputId": "efcb5d25-ff2c-48bf-9fec-56c888b7fa7d"
      },
      "source": [
        "x1 = torch.randn(3)\n",
        "x2 = torch.randn(3)\n",
        "y = torch.FloatTensor(np.random.choice([1, -1], 3))\n",
        "x = torch.cat((x1,x2), dim=0).view((2,3))\n",
        "\n",
        "print(\"------------------------------------------------------------------\")\n",
        "print('Input 1 : ')\n",
        "print(x1)\n",
        "print('Input 1 shape : ')\n",
        "print(x1.shape)\n",
        "print(\"------------------------------------------------------------------\")\n",
        "print('Input 2 : ')\n",
        "print(x2)\n",
        "print('Input 2 shape : ')\n",
        "print(x2.shape)\n",
        "print(\"------------------------------------------------------------------\")\n",
        "print('Input : ')\n",
        "print(x)\n",
        "print(x.shape)\n",
        "print(\"------------------------------------------------------------------\")\n",
        "print('Target : ')\n",
        "print(y)\n",
        "print(\"------------------------------------------------------------------\")"
      ],
      "execution_count": null,
      "outputs": [
        {
          "output_type": "stream",
          "text": [
            "------------------------------------------------------------------\n",
            "Input 1 : \n",
            "tensor([ 0.4033,  0.8380, -0.7193])\n",
            "Input 1 shape : \n",
            "torch.Size([3])\n",
            "------------------------------------------------------------------\n",
            "Input 2 : \n",
            "tensor([-0.4033, -0.5966,  0.1820])\n",
            "Input 2 shape : \n",
            "torch.Size([3])\n",
            "------------------------------------------------------------------\n",
            "Input : \n",
            "tensor([[ 0.4033,  0.8380, -0.7193],\n",
            "        [-0.4033, -0.5966,  0.1820]])\n",
            "torch.Size([2, 3])\n",
            "------------------------------------------------------------------\n",
            "Target : \n",
            "tensor([ 1., -1., -1.])\n",
            "------------------------------------------------------------------\n"
          ],
          "name": "stdout"
        }
      ]
    },
    {
      "cell_type": "markdown",
      "metadata": {
        "colab_type": "text",
        "id": "YBHd3wIt4H2l"
      },
      "source": [
        "#### None Reduction\n"
      ]
    },
    {
      "cell_type": "code",
      "metadata": {
        "colab_type": "code",
        "id": "tbvKldxa4H2m",
        "colab": {
          "base_uri": "https://localhost:8080/",
          "height": 398
        },
        "outputId": "236ad3f1-8542-41f0-c25e-a12b1bde7111"
      },
      "source": [
        "loss = torch.nn.MarginRankingLoss(margin=1.0, reduction='none')\n",
        "input1 = torch.tensor([[0.4287, -1.6208, -1.5006, -0.4473, 1.5208, -4.5184, 9.3574, -4.8090, 4.3455, 5.2070]], requires_grad=True)\n",
        "input2 = torch.tensor([[-4.5288, -9.2766, -0.5882, -5.6643, -6.0175, 8.8506, 3.4759, -9.4886, 2.2755, 8.4951]], requires_grad=True)\n",
        "target = torch.tensor([[1., 1., -1., 1., -1., 1., 1., 1., -1., 1.]])\n",
        "output = loss(input1, input2, target)\n",
        "\n",
        "print(\"------------------------------------------------------------------\")\n",
        "print(\"Input 1: \")\n",
        "print(input1)\n",
        "print(\"Input 2: \")\n",
        "print(input2)\n",
        "print(\"------------------------------------------------------------------\")\n",
        "print(\"Target : \")\n",
        "print(target)\n",
        "print(\"------------------------------------------------------------------\")\n",
        "print(\"FORWARD : \")\n",
        "print(\"Loss : \")\n",
        "print(output)\n",
        "print(\"------------------------------------------------------------------\")\n",
        "output.backward(torch.ones(input1.shape), retain_graph=True)\n",
        "print(\"BACKWARD (wrt input 1): \")\n",
        "print(input1.grad)\n",
        "print()\n",
        "print(\"BACKWARD (wrt input 2): \")\n",
        "print(input2.grad)\n",
        "print(\"------------------------------------------------------------------\")"
      ],
      "execution_count": null,
      "outputs": [
        {
          "output_type": "stream",
          "text": [
            "------------------------------------------------------------------\n",
            "Input 1: \n",
            "tensor([[ 0.4287, -1.6208, -1.5006, -0.4473,  1.5208, -4.5184,  9.3574, -4.8090,\n",
            "          4.3455,  5.2070]], requires_grad=True)\n",
            "Input 2: \n",
            "tensor([[-4.5288, -9.2766, -0.5882, -5.6643, -6.0175,  8.8506,  3.4759, -9.4886,\n",
            "          2.2755,  8.4951]], requires_grad=True)\n",
            "------------------------------------------------------------------\n",
            "Target : \n",
            "tensor([[ 1.,  1., -1.,  1., -1.,  1.,  1.,  1., -1.,  1.]])\n",
            "------------------------------------------------------------------\n",
            "FORWARD : \n",
            "Loss : \n",
            "tensor([[ 0.0000,  0.0000,  0.0876,  0.0000,  8.5383, 14.3690,  0.0000,  0.0000,\n",
            "          3.0700,  4.2881]], grad_fn=<ClampMinBackward>)\n",
            "------------------------------------------------------------------\n",
            "BACKWARD (wrt input 1): \n",
            "tensor([[-0., -0.,  1., -0.,  1., -1., -0., -0.,  1., -1.]])\n",
            "\n",
            "BACKWARD (wrt input 2): \n",
            "tensor([[ 0.,  0., -1.,  0., -1.,  1.,  0.,  0., -1.,  1.]])\n",
            "------------------------------------------------------------------\n"
          ],
          "name": "stdout"
        }
      ]
    },
    {
      "cell_type": "markdown",
      "metadata": {
        "colab_type": "text",
        "id": "2eAofEln4H2p"
      },
      "source": [
        "#### Sum Reduction"
      ]
    },
    {
      "cell_type": "code",
      "metadata": {
        "colab_type": "code",
        "id": "alko8BnL4H2p",
        "colab": {
          "base_uri": "https://localhost:8080/",
          "height": 381
        },
        "outputId": "38f3d94e-46dc-494c-83f8-b48c048feb8a"
      },
      "source": [
        "loss = torch.nn.MarginRankingLoss(margin=1.0, reduction='sum')\n",
        "input1 = torch.tensor([[0.4287, -1.6208, -1.5006, -0.4473, 1.5208, -4.5184, 9.3574, -4.8090, 4.3455, 5.2070]], requires_grad=True)\n",
        "input2 = torch.tensor([[-4.5288, -9.2766, -0.5882, -5.6643, -6.0175, 8.8506, 3.4759, -9.4886, 2.2755, 8.4951]], requires_grad=True)\n",
        "target = torch.tensor([[1., 1., -1., 1., -1., 1., 1., 1., -1., 1.]])\n",
        "output = loss(input1, input2, target)\n",
        "\n",
        "print(\"------------------------------------------------------------------\")\n",
        "print(\"Input 1: \")\n",
        "print(input1)\n",
        "print(\"Input 2: \")\n",
        "print(input2)\n",
        "print(\"------------------------------------------------------------------\")\n",
        "print(\"Target : \")\n",
        "print(target)\n",
        "print(\"------------------------------------------------------------------\")\n",
        "print(\"FORWARD : \")\n",
        "print(\"Loss : \")\n",
        "print(output)\n",
        "print(\"------------------------------------------------------------------\")\n",
        "output.backward(retain_graph=True)\n",
        "print(\"BACKWARD (wrt input 1): \")\n",
        "print(input1.grad)\n",
        "print()\n",
        "print(\"BACKWARD (wrt input 2): \")\n",
        "print(input2.grad)\n",
        "print(\"------------------------------------------------------------------\")"
      ],
      "execution_count": null,
      "outputs": [
        {
          "output_type": "stream",
          "text": [
            "------------------------------------------------------------------\n",
            "Input 1: \n",
            "tensor([[ 0.4287, -1.6208, -1.5006, -0.4473,  1.5208, -4.5184,  9.3574, -4.8090,\n",
            "          4.3455,  5.2070]], requires_grad=True)\n",
            "Input 2: \n",
            "tensor([[-4.5288, -9.2766, -0.5882, -5.6643, -6.0175,  8.8506,  3.4759, -9.4886,\n",
            "          2.2755,  8.4951]], requires_grad=True)\n",
            "------------------------------------------------------------------\n",
            "Target : \n",
            "tensor([[ 1.,  1., -1.,  1., -1.,  1.,  1.,  1., -1.,  1.]])\n",
            "------------------------------------------------------------------\n",
            "FORWARD : \n",
            "Loss : \n",
            "tensor(30.3530, grad_fn=<SumBackward0>)\n",
            "------------------------------------------------------------------\n",
            "BACKWARD (wrt input 1): \n",
            "tensor([[-0., -0.,  1., -0.,  1., -1., -0., -0.,  1., -1.]])\n",
            "\n",
            "BACKWARD (wrt input 2): \n",
            "tensor([[ 0.,  0., -1.,  0., -1.,  1.,  0.,  0., -1.,  1.]])\n",
            "------------------------------------------------------------------\n"
          ],
          "name": "stdout"
        }
      ]
    },
    {
      "cell_type": "markdown",
      "metadata": {
        "colab_type": "text",
        "id": "vJukNLu24H2s"
      },
      "source": [
        "#### Mean reduction"
      ]
    },
    {
      "cell_type": "code",
      "metadata": {
        "colab_type": "code",
        "id": "_nlOMbXC4H2t",
        "colab": {
          "base_uri": "https://localhost:8080/",
          "height": 416
        },
        "outputId": "1a640983-5554-415a-f0b5-f46c8dba1792"
      },
      "source": [
        "loss = torch.nn.MarginRankingLoss(margin=1.0, reduction='mean')\n",
        "input1 = torch.tensor([[0.4287, -1.6208, -1.5006, -0.4473, 1.5208, -4.5184, 9.3574, -4.8090, 4.3455, 5.2070]], requires_grad=True)\n",
        "input2 = torch.tensor([[-4.5288, -9.2766, -0.5882, -5.6643, -6.0175, 8.8506, 3.4759, -9.4886, 2.2755, 8.4951]], requires_grad=True)\n",
        "target = torch.tensor([[1., 1., -1., 1., -1., 1., 1., 1., -1., 1.]])\n",
        "output = loss(input1, input2, target)\n",
        "\n",
        "print(\"------------------------------------------------------------------\")\n",
        "print(\"Input 1: \")\n",
        "print(input1)\n",
        "print(\"Input 2: \")\n",
        "print(input2)\n",
        "print(\"------------------------------------------------------------------\")\n",
        "print(\"Target : \")\n",
        "print(target)\n",
        "print(\"------------------------------------------------------------------\")\n",
        "print(\"FORWARD : \")\n",
        "print(\"Loss : \")\n",
        "print(output)\n",
        "print(\"------------------------------------------------------------------\")\n",
        "output.backward(retain_graph=True)\n",
        "print(\"BACKWARD (wrt input 1): \")\n",
        "print(input1.grad)\n",
        "print()\n",
        "print(\"BACKWARD (wrt input 2): \")\n",
        "print(input2.grad)\n",
        "print(\"------------------------------------------------------------------\")"
      ],
      "execution_count": null,
      "outputs": [
        {
          "output_type": "stream",
          "text": [
            "------------------------------------------------------------------\n",
            "Input 1: \n",
            "tensor([[ 0.4287, -1.6208, -1.5006, -0.4473,  1.5208, -4.5184,  9.3574, -4.8090,\n",
            "          4.3455,  5.2070]], requires_grad=True)\n",
            "Input 2: \n",
            "tensor([[-4.5288, -9.2766, -0.5882, -5.6643, -6.0175,  8.8506,  3.4759, -9.4886,\n",
            "          2.2755,  8.4951]], requires_grad=True)\n",
            "------------------------------------------------------------------\n",
            "Target : \n",
            "tensor([[ 1.,  1., -1.,  1., -1.,  1.,  1.,  1., -1.,  1.]])\n",
            "------------------------------------------------------------------\n",
            "FORWARD : \n",
            "Loss : \n",
            "tensor(3.0353, grad_fn=<MeanBackward0>)\n",
            "------------------------------------------------------------------\n",
            "BACKWARD (wrt input 1): \n",
            "tensor([[-0.0000, -0.0000,  0.1000, -0.0000,  0.1000, -0.1000, -0.0000, -0.0000,\n",
            "          0.1000, -0.1000]])\n",
            "\n",
            "BACKWARD (wrt input 2): \n",
            "tensor([[ 0.0000,  0.0000, -0.1000,  0.0000, -0.1000,  0.1000,  0.0000,  0.0000,\n",
            "         -0.1000,  0.1000]])\n",
            "------------------------------------------------------------------\n"
          ],
          "name": "stdout"
        }
      ]
    },
    {
      "cell_type": "markdown",
      "metadata": {
        "colab_type": "text",
        "id": "h7fZHZDk4H2w"
      },
      "source": [
        "### mlpack\n"
      ]
    },
    {
      "cell_type": "markdown",
      "metadata": {
        "colab_type": "text",
        "id": "20ckFsa14H2z"
      },
      "source": [
        "#### CURRENT IMPLEMENTATION - Backward is not correct. See explanation in topmost cell.\n"
      ]
    },
    {
      "cell_type": "code",
      "metadata": {
        "colab_type": "code",
        "id": "cFlCk9a64H20",
        "colab": {}
      },
      "source": [
        "%%capture\n",
        "%%writefile test.cpp  \n",
        "\n",
        "#include <iostream>\n",
        "#include <armadillo>\n",
        "\n",
        "using namespace std;\n",
        "using namespace arma;\n",
        "\n",
        "int main()\n",
        "{\n",
        "  // Constructor\n",
        "  arma::mat input, input1, input2, target;\n",
        "  const double margin = 1.0;\n",
        " \n",
        "  input1 = arma::mat(\"0.4287 -1.6208 -1.5006 -0.4473 1.5208 -4.5184 9.3574 \"\n",
        "      \"-4.8090 4.3455 5.2070\");\n",
        "  input2 = arma::mat(\"-4.5288 -9.2766 -0.5882 -5.6643 -6.0175 8.8506 3.4759 \"\n",
        "      \"-9.4886 2.2755 8.4951\");\n",
        "  input = arma::join_cols(input1, input2);\n",
        "  target = arma::mat(\"1 1 -1 1 -1 1 1 1 -1 1\");\n",
        "\n",
        "  // Forward\n",
        "  const int inputRowsForward = input.n_rows;\n",
        "  const arma::mat& input1Forward = input.rows(0, inputRowsForward / 2 - 1);\n",
        "  const arma::mat& input2Forward = input.rows(inputRowsForward / 2, inputRowsForward - 1);\n",
        "  double loss_mean =  arma::accu(arma::max(arma::zeros(size(target)), -target % (input1Forward - input2Forward) + margin)) / target.n_cols;\n",
        "\n",
        "  // Backward\n",
        "  arma::mat output;\n",
        "  const int inputRowsBackward = input.n_rows;\n",
        "  const arma::mat& input1Backward = input.rows(0, inputRowsBackward / 2 - 1);                       // same as input1Forward (x1)\n",
        "  const arma::mat& input2Backward = input.rows(inputRowsBackward / 2, inputRowsBackward - 1);       // same as input2Forward (x2)\n",
        "  output = -target % (input1Backward - input2Backward) + margin;\n",
        "  output.elem(arma::find(output >= 0)).ones();\n",
        "  output.elem(arma::find(output < 0)).zeros();\n",
        "  output = (input2Backward - input1Backward) % output / target.n_cols;\n",
        "\n",
        "  // Display\n",
        "  cout << \"------------------------------------------------------------------\" << endl;\n",
        "  cout << \"USER-PROVIDED MATRICES : \" << endl;\n",
        "  cout << \"------------------------------------------------------------------\" << endl;\n",
        "  cout << \"Input shape : \"<< input.n_rows << \" \" << input.n_cols << endl;\n",
        "  cout << \"Input : \" << endl << input << endl;\n",
        "  cout << \"Target shape : \"<< target.n_rows << \" \" << target.n_cols << endl;\n",
        "  cout << \"Target : \" << endl << target << endl;\n",
        "  cout << \"------------------------------------------------------------------\" << endl;\n",
        "  cout << \"MEAN REDUCTION\" << endl;\n",
        "  cout << \"------------------------------------------------------------------\" << endl;\n",
        "  cout << \"FORWARD : \" << endl;\n",
        "  cout << \"Loss (mean):\\n\" << loss_mean << '\\n';\n",
        "  cout << \"BACKWARD : \" << endl;\n",
        "  cout << \"Output shape : \"<< output.n_rows << \" \" << output.n_cols << endl;\n",
        "  cout << \"Output (sum) : \" << endl << output << endl;\n",
        "  cout << \"Sum of all values in this matrix : \" << arma::as_scalar(arma::accu(output)) << endl;\n",
        "  cout << \"------------------------------------------------------------------\" << endl;\n",
        "  return 0;\n",
        "}"
      ],
      "execution_count": null,
      "outputs": []
    },
    {
      "cell_type": "code",
      "metadata": {
        "id": "xHT34eorQquz",
        "colab_type": "code",
        "colab": {
          "base_uri": "https://localhost:8080/",
          "height": 450
        },
        "outputId": "a5c18696-ea1d-43cc-cee1-d15b7e4fa8f0"
      },
      "source": [
        "%%script bash\n",
        "g++ test.cpp -o test -larmadillo && ./test"
      ],
      "execution_count": null,
      "outputs": [
        {
          "output_type": "stream",
          "text": [
            "------------------------------------------------------------------\n",
            "USER-PROVIDED MATRICES : \n",
            "------------------------------------------------------------------\n",
            "Input shape : 2 10\n",
            "Input : \n",
            "   0.4287  -1.6208  -1.5006  -0.4473   1.5208  -4.5184   9.3574  -4.8090   4.3455   5.2070\n",
            "  -4.5288  -9.2766  -0.5882  -5.6643  -6.0175   8.8506   3.4759  -9.4886   2.2755   8.4951\n",
            "\n",
            "Target shape : 1 10\n",
            "Target : \n",
            "   1.0000   1.0000  -1.0000   1.0000  -1.0000   1.0000   1.0000   1.0000  -1.0000   1.0000\n",
            "\n",
            "------------------------------------------------------------------\n",
            "MEAN REDUCTION\n",
            "------------------------------------------------------------------\n",
            "FORWARD : \n",
            "Loss (mean):\n",
            "3.0353\n",
            "BACKWARD : \n",
            "Output shape : 1 10\n",
            "Output (sum) : \n",
            "        0        0   0.0912        0  -0.7538   1.3369        0        0  -0.2070   0.3288\n",
            "\n",
            "Sum of all values in this matrix : 0.79612\n",
            "------------------------------------------------------------------\n"
          ],
          "name": "stdout"
        }
      ]
    },
    {
      "cell_type": "markdown",
      "metadata": {
        "id": "qT8J_wk-eE6T",
        "colab_type": "text"
      },
      "source": [
        "#### NEW IMPLEMENTATION - Reduction done. Backward TODO, but don't yet know how to."
      ]
    },
    {
      "cell_type": "code",
      "metadata": {
        "id": "JrxMBT_GeEJv",
        "colab_type": "code",
        "colab": {}
      },
      "source": [
        "%%capture\n",
        "%%writefile test.cpp  \n",
        "\n",
        "#include <iostream>\n",
        "#include <armadillo>\n",
        "\n",
        "using namespace std;\n",
        "using namespace arma;\n",
        "\n",
        "int main()\n",
        "{\n",
        "  // Constructor\n",
        "  arma::mat input, input1, input2, target;\n",
        "  const double margin = 1.0;\n",
        " \n",
        "  input1 = arma::mat(\"0.4287 -1.6208 -1.5006 -0.4473 1.5208 -4.5184 9.3574 \"\n",
        "      \"-4.8090 4.3455 5.2070\");\n",
        "  input2 = arma::mat(\"-4.5288 -9.2766 -0.5882 -5.6643 -6.0175 8.8506 3.4759 \"\n",
        "      \"-9.4886 2.2755 8.4951\");\n",
        "  input = arma::join_cols(input1, input2);\n",
        "  target = arma::mat(\"1 1 -1 1 -1 1 1 1 -1 1\");\n",
        "\n",
        "  // Forward\n",
        "  const int inputRowsForward = input.n_rows;\n",
        "  const arma::mat& input1Forward = input.rows(0, inputRowsForward / 2 - 1);\n",
        "  const arma::mat& input2Forward = input.rows(inputRowsForward / 2, inputRowsForward - 1);\n",
        "  arma::mat loss_none = arma::max(arma::zeros(size(target)), -target % (input1Forward - input2Forward) + margin);\n",
        "  double loss_sum = arma::accu(loss_none);\n",
        "  double loss_mean = loss_sum / input1Forward.n_elem;\n",
        "\n",
        "  // Backward\n",
        "  arma::mat output;\n",
        "\n",
        "  // Display\n",
        "  cout << \"------------------------------------------------------------------\" << endl;\n",
        "  cout << \"USER-PROVIDED MATRICES : \" << endl;\n",
        "  cout << \"------------------------------------------------------------------\" << endl;\n",
        "  cout << \"Input shape : \"<< input.n_rows << \" \" << input.n_cols << endl;\n",
        "  cout << \"Input : \" << endl << input << endl;\n",
        "  cout << \"Target shape : \"<< target.n_rows << \" \" << target.n_cols << endl;\n",
        "  cout << \"Target : \" << endl << target << endl;\n",
        "  cout << \"------------------------------------------------------------------\" << endl;\n",
        "  cout << \"SUM \" << endl;\n",
        "  cout << \"------------------------------------------------------------------\" << endl;\n",
        "  cout << \"FORWARD : \" << endl;\n",
        "  cout << \"Loss : \\n\" << loss_none << '\\n';\n",
        "  cout << \"Loss (sum):\\n\" << loss_sum << '\\n';\n",
        "  //cout << \"BACKWARD : \" << endl;\n",
        "  //cout << \"Output shape : \"<< output.n_rows << \" \" << output.n_cols << endl;\n",
        "  //cout << \"Output (sum) : \" << endl << output << endl;\n",
        "  //cout << \"Sum of all values in this matrix : \" << arma::as_scalar(arma::accu(output)) << endl;\n",
        "  cout << \"------------------------------------------------------------------\" << endl;\n",
        "  cout << \"MEAN \" << endl;\n",
        "  cout << \"------------------------------------------------------------------\" << endl;\n",
        "  cout << \"FORWARD : \" << endl;\n",
        "  cout << \"Loss (mean):\\n\" << loss_mean << '\\n';\n",
        "  //cout << \"BACKWARD : \" << endl;\n",
        "  //cout << \"Output shape : \"<< output.n_rows << \" \" << output.n_cols << endl;\n",
        "  //cout << \"Output (mean) : \" << endl << output / x.n_elem << endl;\n",
        "  //cout << \"Sum of all values in this matrix : \" << arma::as_scalar(arma::accu(output / x.n_elem)) << endl;\n",
        "  cout << \"------------------------------------------------------------------\" << endl;\n",
        "  return 0;\n",
        "}"
      ],
      "execution_count": null,
      "outputs": []
    },
    {
      "cell_type": "code",
      "metadata": {
        "id": "vc1fa0BNeH_T",
        "colab_type": "code",
        "colab": {
          "base_uri": "https://localhost:8080/",
          "height": 502
        },
        "outputId": "4109a8b7-d9a6-4bbb-9b3c-37141b0dda44"
      },
      "source": [
        "%%script bash\n",
        "g++ test.cpp -o test -larmadillo && ./test"
      ],
      "execution_count": null,
      "outputs": [
        {
          "output_type": "stream",
          "text": [
            "------------------------------------------------------------------\n",
            "USER-PROVIDED MATRICES : \n",
            "------------------------------------------------------------------\n",
            "Input shape : 2 10\n",
            "Input : \n",
            "   0.4287  -1.6208  -1.5006  -0.4473   1.5208  -4.5184   9.3574  -4.8090   4.3455   5.2070\n",
            "  -4.5288  -9.2766  -0.5882  -5.6643  -6.0175   8.8506   3.4759  -9.4886   2.2755   8.4951\n",
            "\n",
            "Target shape : 1 10\n",
            "Target : \n",
            "   1.0000   1.0000  -1.0000   1.0000  -1.0000   1.0000   1.0000   1.0000  -1.0000   1.0000\n",
            "\n",
            "------------------------------------------------------------------\n",
            "SUM \n",
            "------------------------------------------------------------------\n",
            "FORWARD : \n",
            "Loss : \n",
            "         0         0    0.0876         0    8.5383   14.3690         0         0    3.0700    4.2881\n",
            "\n",
            "Loss (sum):\n",
            "30.353\n",
            "------------------------------------------------------------------\n",
            "MEAN \n",
            "------------------------------------------------------------------\n",
            "FORWARD : \n",
            "Loss (mean):\n",
            "3.0353\n",
            "------------------------------------------------------------------\n"
          ],
          "name": "stdout"
        }
      ]
    }
  ]
}