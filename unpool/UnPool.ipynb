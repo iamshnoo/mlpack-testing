{
  "nbformat": 4,
  "nbformat_minor": 0,
  "metadata": {
    "colab": {
      "name": "UnPool",
      "provenance": [],
      "collapsed_sections": []
    },
    "kernelspec": {
      "name": "python3",
      "display_name": "Python 3"
    }
  },
  "cells": [
    {
      "cell_type": "markdown",
      "metadata": {
        "id": "a4fdnFgCV4oF",
        "colab_type": "text"
      },
      "source": [
        "### Import the library and instantiate the 2 classes"
      ]
    },
    {
      "cell_type": "code",
      "metadata": {
        "id": "nuCoKY6uq2Nf",
        "colab_type": "code",
        "colab": {}
      },
      "source": [
        "import torch\n",
        "import torch.nn as nn"
      ],
      "execution_count": 0,
      "outputs": []
    },
    {
      "cell_type": "code",
      "metadata": {
        "id": "7BP4D7_fqrGK",
        "colab_type": "code",
        "colab": {}
      },
      "source": [
        "pool = nn.MaxPool2d(2, stride=2, return_indices=True)\n",
        "unpool = nn.MaxUnpool2d(2, stride=2)"
      ],
      "execution_count": 0,
      "outputs": []
    },
    {
      "cell_type": "markdown",
      "metadata": {
        "id": "1I1aErWrV3HB",
        "colab_type": "text"
      },
      "source": [
        "---"
      ]
    },
    {
      "cell_type": "markdown",
      "metadata": {
        "id": "0Gct6RO6Rn4P",
        "colab_type": "text"
      },
      "source": [
        "### MaxPool"
      ]
    },
    {
      "cell_type": "code",
      "metadata": {
        "id": "iqjo9DV-rGpM",
        "colab_type": "code",
        "colab": {}
      },
      "source": [
        "x = torch.tensor([[[[1.5000,   1.7000,   1.4000,   1.3000], \n",
        "                    [2.0000,   2.1000,   1.8000,   1.6000], \n",
        "                    [2.3000,   1.9000,   1.5000,   1.4000], \n",
        "                    [2.2000,   2.1000,   1.6000,   1.7000]]]], requires_grad=True) # 4 Rows, 4 columns"
      ],
      "execution_count": 0,
      "outputs": []
    },
    {
      "cell_type": "code",
      "metadata": {
        "id": "DthNWmbyK0As",
        "colab_type": "code",
        "outputId": "6a6eb970-bcb4-4c6b-da14-e38a2b178db2",
        "colab": {
          "base_uri": "https://localhost:8080/",
          "height": 121
        }
      },
      "source": [
        "print('INPUT for MaxPool: \\n')\n",
        "x"
      ],
      "execution_count": 0,
      "outputs": [
        {
          "output_type": "stream",
          "text": [
            "INPUT for MaxPool: \n",
            "\n"
          ],
          "name": "stdout"
        },
        {
          "output_type": "execute_result",
          "data": {
            "text/plain": [
              "tensor([[[[1.5000, 1.7000, 1.4000, 1.3000],\n",
              "          [2.0000, 2.1000, 1.8000, 1.6000],\n",
              "          [2.3000, 1.9000, 1.5000, 1.4000],\n",
              "          [2.2000, 2.1000, 1.6000, 1.7000]]]], requires_grad=True)"
            ]
          },
          "metadata": {
            "tags": []
          },
          "execution_count": 4
        }
      ]
    },
    {
      "cell_type": "code",
      "metadata": {
        "id": "zEwZMbKSsE9P",
        "colab_type": "code",
        "colab": {}
      },
      "source": [
        "out, idxs = pool(x)"
      ],
      "execution_count": 0,
      "outputs": []
    },
    {
      "cell_type": "code",
      "metadata": {
        "id": "Lv_JUSabK3nY",
        "colab_type": "code",
        "outputId": "f7b47834-8a9f-4d31-ead2-730ba580fd13",
        "colab": {
          "base_uri": "https://localhost:8080/",
          "height": 86
        }
      },
      "source": [
        "# this is the output from Forward() of MaxPool\n",
        "print('OUTPUT from MaxPool: \\n')\n",
        "print(out)"
      ],
      "execution_count": 0,
      "outputs": [
        {
          "output_type": "stream",
          "text": [
            "OUTPUT from MaxPool: \n",
            "\n",
            "tensor([[[[2.1000, 1.8000],\n",
            "          [2.3000, 1.7000]]]], grad_fn=<MaxPool2DWithIndicesBackward>)\n"
          ],
          "name": "stdout"
        }
      ]
    },
    {
      "cell_type": "code",
      "metadata": {
        "id": "ejHBvrqJK3s7",
        "colab_type": "code",
        "outputId": "de29d2c7-b8d2-4881-cc58-9ea0a5023d80",
        "colab": {
          "base_uri": "https://localhost:8080/",
          "height": 86
        }
      },
      "source": [
        "# these are the poolingIndices\n",
        "print('OUTPUT INDICES from MaxPool: \\n')\n",
        "print(idxs)"
      ],
      "execution_count": 0,
      "outputs": [
        {
          "output_type": "stream",
          "text": [
            "OUTPUT INDICES from MaxPool: \n",
            "\n",
            "tensor([[[[ 5,  6],\n",
            "          [ 8, 15]]]])\n"
          ],
          "name": "stdout"
        }
      ]
    },
    {
      "cell_type": "code",
      "metadata": {
        "id": "VwlBxzHQWlHa",
        "colab_type": "code",
        "outputId": "69f9acb1-ad7b-405b-99e3-0a54e241899b",
        "colab": {
          "base_uri": "https://localhost:8080/",
          "height": 86
        }
      },
      "source": [
        "# this is gy for maxpooling layer simulated with random values\n",
        "gy = torch.tensor([[[[1., 2.], [3., 4.]]]])\n",
        "print('Hypothetical gy for MaxPool: \\n')\n",
        "print(gy)"
      ],
      "execution_count": 0,
      "outputs": [
        {
          "output_type": "stream",
          "text": [
            "Hypothetical gy for MaxPool: \n",
            "\n",
            "tensor([[[[1., 2.],\n",
            "          [3., 4.]]]])\n"
          ],
          "name": "stdout"
        }
      ]
    },
    {
      "cell_type": "code",
      "metadata": {
        "id": "dhwhEcf8Wo21",
        "colab_type": "code",
        "colab": {}
      },
      "source": [
        "out.backward(gy)"
      ],
      "execution_count": 0,
      "outputs": []
    },
    {
      "cell_type": "code",
      "metadata": {
        "id": "yNUCFITYWuyV",
        "colab_type": "code",
        "outputId": "53255c3d-9e0a-491e-f879-64bbfadc6f5d",
        "colab": {
          "base_uri": "https://localhost:8080/",
          "height": 121
        }
      },
      "source": [
        "# this is g for maxpooling layer\n",
        "g = x.grad\n",
        "print('g for MaxPool: \\n')\n",
        "print(g)"
      ],
      "execution_count": 0,
      "outputs": [
        {
          "output_type": "stream",
          "text": [
            "g for MaxPool: \n",
            "\n",
            "tensor([[[[0., 0., 0., 0.],\n",
            "          [0., 1., 2., 0.],\n",
            "          [3., 0., 0., 0.],\n",
            "          [0., 0., 0., 4.]]]])\n"
          ],
          "name": "stdout"
        }
      ]
    },
    {
      "cell_type": "markdown",
      "metadata": {
        "id": "gXMStSdQQsIN",
        "colab_type": "text"
      },
      "source": [
        "---"
      ]
    },
    {
      "cell_type": "markdown",
      "metadata": {
        "id": "s4-7D2XKRqzE",
        "colab_type": "text"
      },
      "source": [
        "### UnPool"
      ]
    },
    {
      "cell_type": "code",
      "metadata": {
        "id": "q_HE-uskQiS2",
        "colab_type": "code",
        "colab": {}
      },
      "source": [
        "# input of unpool is output of maxpool\n",
        "# pooling Indices are the indices returned by maxpool\n",
        "input = torch.tensor([[[[2.1000, 1.8000], [2.3000, 1.7000]]]], requires_grad=True)\n",
        "poolingIndices = torch.tensor([[[[ 5,  6], [ 8, 15]]]])"
      ],
      "execution_count": 0,
      "outputs": []
    },
    {
      "cell_type": "code",
      "metadata": {
        "id": "tmiFeSsSTE_K",
        "colab_type": "code",
        "outputId": "13c62197-0e69-4670-e25f-c4853fa27f06",
        "colab": {
          "base_uri": "https://localhost:8080/",
          "height": 86
        }
      },
      "source": [
        "print('INPUT for UnPool: \\n')\n",
        "print(input)"
      ],
      "execution_count": 0,
      "outputs": [
        {
          "output_type": "stream",
          "text": [
            "INPUT for UnPool: \n",
            "\n",
            "tensor([[[[2.1000, 1.8000],\n",
            "          [2.3000, 1.7000]]]], requires_grad=True)\n"
          ],
          "name": "stdout"
        }
      ]
    },
    {
      "cell_type": "code",
      "metadata": {
        "id": "xAXYzbOsTJhh",
        "colab_type": "code",
        "outputId": "02672f44-5819-4939-fd2e-8ddbeea0e69e",
        "colab": {
          "base_uri": "https://localhost:8080/",
          "height": 86
        }
      },
      "source": [
        "# this is different from mlpack because mlpack follows column-major ordering \n",
        "# while pytorch follows row major ordering.\n",
        "# the indices in mlpack are  [5, 9, 2, 15] \n",
        "# the indices in pytorch are [5, 6, 8, 15]\n",
        "print('INPUT INDICES for UnPool: \\n')\n",
        "print(poolingIndices)"
      ],
      "execution_count": 0,
      "outputs": [
        {
          "output_type": "stream",
          "text": [
            "INPUT INDICES for UnPool: \n",
            "\n",
            "tensor([[[[ 5,  6],\n",
            "          [ 8, 15]]]])\n"
          ],
          "name": "stdout"
        }
      ]
    },
    {
      "cell_type": "code",
      "metadata": {
        "id": "eCqv7vUhsGym",
        "colab_type": "code",
        "colab": {}
      },
      "source": [
        "output = unpool(input, poolingIndices)"
      ],
      "execution_count": 0,
      "outputs": []
    },
    {
      "cell_type": "code",
      "metadata": {
        "id": "R0H7KMjusKme",
        "colab_type": "code",
        "outputId": "d8fbc4b5-beb7-45d6-cd89-1a7490b36f90",
        "colab": {
          "base_uri": "https://localhost:8080/",
          "height": 121
        }
      },
      "source": [
        "# this is the output from Forward() of UnPool in mlpack\n",
        "print('OUTPUT from UnPool: \\n')\n",
        "print(output)"
      ],
      "execution_count": 0,
      "outputs": [
        {
          "output_type": "stream",
          "text": [
            "OUTPUT from UnPool: \n",
            "\n",
            "tensor([[[[0.0000, 0.0000, 0.0000, 0.0000],\n",
            "          [0.0000, 2.1000, 1.8000, 0.0000],\n",
            "          [2.3000, 0.0000, 0.0000, 0.0000],\n",
            "          [0.0000, 0.0000, 0.0000, 1.7000]]]], grad_fn=<MaxUnpool2DBackward>)\n"
          ],
          "name": "stdout"
        }
      ]
    },
    {
      "cell_type": "code",
      "metadata": {
        "id": "w4FJUlNpOiGk",
        "colab_type": "code",
        "outputId": "59799936-66a3-4eed-8ba7-e54c1cf64dd4",
        "colab": {
          "base_uri": "https://localhost:8080/",
          "height": 121
        }
      },
      "source": [
        "# this is gy in mlpack for the unpooling layer. Here it is filled with random values,= just for simulation.\n",
        "# this tensor represents the upstream derivative dL/doutput, \n",
        "# where L represents the output of the loss function at the end of the network.\n",
        "gy = torch.tensor([[[[ 1.,  2,  3,  4], [ 5,  6,  7,  8], [ 9, 10, 11, 12], [13, 14, 15, 16]]]])\n",
        "print('Hypothetical gy for UnPool: \\n')\n",
        "print(gy)"
      ],
      "execution_count": 0,
      "outputs": [
        {
          "output_type": "stream",
          "text": [
            "Hypothetical gy for UnPool: \n",
            "\n",
            "tensor([[[[ 1.,  2.,  3.,  4.],\n",
            "          [ 5.,  6.,  7.,  8.],\n",
            "          [ 9., 10., 11., 12.],\n",
            "          [13., 14., 15., 16.]]]])\n"
          ],
          "name": "stdout"
        }
      ]
    },
    {
      "cell_type": "code",
      "metadata": {
        "id": "HmnYkJYzsdyt",
        "colab_type": "code",
        "colab": {}
      },
      "source": [
        "output.backward(gy)"
      ],
      "execution_count": 0,
      "outputs": []
    },
    {
      "cell_type": "code",
      "metadata": {
        "id": "sAZsTmlgPx6q",
        "colab_type": "code",
        "outputId": "c37a459a-a1e5-4afc-c228-6dcfca5fa6f3",
        "colab": {
          "base_uri": "https://localhost:8080/",
          "height": 86
        }
      },
      "source": [
        "# this is g in mlpack for the unpooling layer for the above simulated values of gy.\n",
        "# this represents the derivative [dL/dinput = (doutput/dinput) * (dL/doutput)]\n",
        "g = input.grad\n",
        "print('g for UnPool: \\n')\n",
        "print(g)"
      ],
      "execution_count": 0,
      "outputs": [
        {
          "output_type": "stream",
          "text": [
            "g for UnPool: \n",
            "\n",
            "tensor([[[[ 6.,  7.],\n",
            "          [ 9., 16.]]]])\n"
          ],
          "name": "stdout"
        }
      ]
    },
    {
      "cell_type": "markdown",
      "metadata": {
        "id": "bXPwAdxAK9ld",
        "colab_type": "text"
      },
      "source": [
        "---"
      ]
    }
  ]
}