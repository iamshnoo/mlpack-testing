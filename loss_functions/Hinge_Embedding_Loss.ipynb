{
  "nbformat": 4,
  "nbformat_minor": 0,
  "metadata": {
    "colab": {
      "name": "Hinge Embedding Loss",
      "provenance": [],
      "collapsed_sections": [
        "yPWU9O3LO94x",
        "y6sYXvFs4H2k",
        "aby9xeRajBau",
        "YBHd3wIt4H2l",
        "2eAofEln4H2p",
        "vJukNLu24H2s",
        "roTHTAsfdT-5",
        "n68p-w9Ld7F-"
      ]
    },
    "kernelspec": {
      "name": "python3",
      "display_name": "Python 3"
    }
  },
  "cells": [
    {
      "cell_type": "markdown",
      "metadata": {
        "id": "tRLe8VENOQM9",
        "colab_type": "text"
      },
      "source": [
        "# Hinge Embedding loss\n",
        "\n",
        "Current implementation in mlpack is incorrect. \n",
        "Corrected code along with reduction facility implemented below."
      ]
    },
    {
      "cell_type": "markdown",
      "metadata": {
        "id": "yPWU9O3LO94x",
        "colab_type": "text"
      },
      "source": [
        "### Imports and installation of mlpack"
      ]
    },
    {
      "cell_type": "code",
      "metadata": {
        "id": "ZoQR5XuyPAb9",
        "colab_type": "code",
        "colab": {}
      },
      "source": [
        "%%capture\n",
        "!sudo apt-get install libmlpack-dev \n",
        "import torch\n",
        "import torch.nn as nn"
      ],
      "execution_count": 0,
      "outputs": []
    },
    {
      "cell_type": "markdown",
      "metadata": {
        "colab_type": "text",
        "id": "y6sYXvFs4H2k"
      },
      "source": [
        "## PyTorch"
      ]
    },
    {
      "cell_type": "markdown",
      "metadata": {
        "id": "aby9xeRajBau",
        "colab_type": "text"
      },
      "source": [
        "#### Inputs and Targets"
      ]
    },
    {
      "cell_type": "code",
      "metadata": {
        "id": "Eey3QCK1idbG",
        "colab_type": "code",
        "outputId": "48cd138f-eef8-4218-fee1-f8e01b577d64",
        "colab": {
          "base_uri": "https://localhost:8080/",
          "height": 280
        }
      },
      "source": [
        "# Test case 1\n",
        "input = torch.tensor([[ 0.1778,  0.1203, -0.2264],[ 0.0957,  0.2403, -0.3400],[ 0.1397,  0.1925, -0.3336], [ 0.2256, 0.3144, -0.8695]]) # 4 Rows, 3 columns\n",
        "target = torch.tensor([[1., 1., -1.],[1., -1., 1.],[-1., 1., 1.],[1., 1., 1.]])\n",
        "\n",
        "# Test case 2\n",
        "#input = torch.tensor([[0.1, 0.8, 0.6, 0.0, 0.5]])\n",
        "#target = torch.tensor([[-1, 1.0, 1.0, -1 ,-1]])\n",
        "print(\"Input shape : \")\n",
        "print(input.shape)\n",
        "print(\"Input : \")\n",
        "print(input)\n",
        "print(\"Target shape : \")\n",
        "print(target.shape)\n",
        "print(\"Target : \")\n",
        "print(target)"
      ],
      "execution_count": 0,
      "outputs": [
        {
          "output_type": "stream",
          "text": [
            "Input shape : \n",
            "torch.Size([4, 3])\n",
            "Input : \n",
            "tensor([[ 0.1778,  0.1203, -0.2264],\n",
            "        [ 0.0957,  0.2403, -0.3400],\n",
            "        [ 0.1397,  0.1925, -0.3336],\n",
            "        [ 0.2256,  0.3144, -0.8695]])\n",
            "Target shape : \n",
            "torch.Size([4, 3])\n",
            "Target : \n",
            "tensor([[ 1.,  1., -1.],\n",
            "        [ 1., -1.,  1.],\n",
            "        [-1.,  1.,  1.],\n",
            "        [ 1.,  1.,  1.]])\n"
          ],
          "name": "stdout"
        }
      ]
    },
    {
      "cell_type": "markdown",
      "metadata": {
        "colab_type": "text",
        "id": "YBHd3wIt4H2l"
      },
      "source": [
        "#### None Reduction\n"
      ]
    },
    {
      "cell_type": "code",
      "metadata": {
        "colab_type": "code",
        "id": "tbvKldxa4H2m",
        "outputId": "137b830e-971f-45d3-ec2c-e21e9086ff13",
        "colab": {
          "base_uri": "https://localhost:8080/",
          "height": 401
        }
      },
      "source": [
        "loss = torch.nn.HingeEmbeddingLoss(reduction='none')\n",
        "\n",
        "# Test case 1\n",
        "input = torch.tensor([[ 0.1778,  0.1203, -0.2264],[ 0.0957,  0.2403, -0.3400],[ 0.1397,  0.1925, -0.3336], [ 0.2256, 0.3144, -0.8695]], requires_grad=True) # 4 Rows, 3 columns\n",
        "target = torch.tensor([[1., 1., -1.],[1., -1., 1.],[-1., 1., 1.],[1., 1., 1.]])\n",
        "\n",
        "# Test case 2\n",
        "#input = torch.tensor([[0.1, 0.8, 0.6, 0.0, 0.5]],requires_grad=True)\n",
        "#target = torch.tensor([[-1, 1.0, 1.0, -1 ,-1]])\n",
        "\n",
        "output = loss(input, target)\n",
        "output.backward(torch.ones(input.shape))\n",
        "print(\"Input : \")\n",
        "print(input)\n",
        "print(\"Target : \")\n",
        "print(target)\n",
        "print(\"FORWARD : \")\n",
        "print(\"Loss : \")\n",
        "print(output)\n",
        "print(\"BACKWARD : \")\n",
        "print(input.grad)"
      ],
      "execution_count": 0,
      "outputs": [
        {
          "output_type": "stream",
          "text": [
            "Input : \n",
            "tensor([[ 0.1778,  0.1203, -0.2264],\n",
            "        [ 0.0957,  0.2403, -0.3400],\n",
            "        [ 0.1397,  0.1925, -0.3336],\n",
            "        [ 0.2256,  0.3144, -0.8695]], requires_grad=True)\n",
            "Target : \n",
            "tensor([[ 1.,  1., -1.],\n",
            "        [ 1., -1.,  1.],\n",
            "        [-1.,  1.,  1.],\n",
            "        [ 1.,  1.,  1.]])\n",
            "FORWARD : \n",
            "Loss : \n",
            "tensor([[ 0.1778,  0.1203,  1.2264],\n",
            "        [ 0.0957,  0.7597, -0.3400],\n",
            "        [ 0.8603,  0.1925, -0.3336],\n",
            "        [ 0.2256,  0.3144, -0.8695]], grad_fn=<AddBackward0>)\n",
            "BACKWARD : \n",
            "tensor([[ 1.,  1., -1.],\n",
            "        [ 1., -1.,  1.],\n",
            "        [-1.,  1.,  1.],\n",
            "        [ 1.,  1.,  1.]])\n"
          ],
          "name": "stdout"
        }
      ]
    },
    {
      "cell_type": "markdown",
      "metadata": {
        "colab_type": "text",
        "id": "2eAofEln4H2p"
      },
      "source": [
        "#### Sum Reduction"
      ]
    },
    {
      "cell_type": "code",
      "metadata": {
        "colab_type": "code",
        "id": "alko8BnL4H2p",
        "outputId": "9c744723-ef19-4a65-9875-49ca02fc8ef1",
        "colab": {
          "base_uri": "https://localhost:8080/",
          "height": 349
        }
      },
      "source": [
        "loss = torch.nn.HingeEmbeddingLoss(reduction='sum')\n",
        "\n",
        "# Test case 1\n",
        "input = torch.tensor([[ 0.1778,  0.1203, -0.2264],[ 0.0957,  0.2403, -0.3400],[ 0.1397,  0.1925, -0.3336], [ 0.2256, 0.3144, -0.8695]], requires_grad=True) # 4 Rows, 3 columns\n",
        "target = torch.tensor([[1., 1., -1.],[1., -1., 1.],[-1., 1., 1.],[1., 1., 1.]])\n",
        "\n",
        "# Test case 2\n",
        "#input = torch.tensor([[0.1, 0.8, 0.6, 0.0, 0.5]],requires_grad=True)\n",
        "#target = torch.tensor([[-1, 1.0, 1.0, -1 ,-1]])\n",
        "\n",
        "output = loss(input, target)\n",
        "output.backward()\n",
        "print(\"Input : \")\n",
        "print(input)\n",
        "print(\"Target : \")\n",
        "print(target)\n",
        "print(\"FORWARD : \")\n",
        "print(\"Loss : \")\n",
        "print(output)\n",
        "print(\"BACKWARD : \")\n",
        "print(input.grad)"
      ],
      "execution_count": 0,
      "outputs": [
        {
          "output_type": "stream",
          "text": [
            "Input : \n",
            "tensor([[ 0.1778,  0.1203, -0.2264],\n",
            "        [ 0.0957,  0.2403, -0.3400],\n",
            "        [ 0.1397,  0.1925, -0.3336],\n",
            "        [ 0.2256,  0.3144, -0.8695]], requires_grad=True)\n",
            "Target : \n",
            "tensor([[ 1.,  1., -1.],\n",
            "        [ 1., -1.,  1.],\n",
            "        [-1.,  1.,  1.],\n",
            "        [ 1.,  1.,  1.]])\n",
            "FORWARD : \n",
            "Loss : \n",
            "tensor(2.4296, grad_fn=<SumBackward0>)\n",
            "BACKWARD : \n",
            "tensor([[ 1.,  1., -1.],\n",
            "        [ 1., -1.,  1.],\n",
            "        [-1.,  1.,  1.],\n",
            "        [ 1.,  1.,  1.]])\n"
          ],
          "name": "stdout"
        }
      ]
    },
    {
      "cell_type": "markdown",
      "metadata": {
        "colab_type": "text",
        "id": "vJukNLu24H2s"
      },
      "source": [
        "#### Mean reduction"
      ]
    },
    {
      "cell_type": "code",
      "metadata": {
        "colab_type": "code",
        "id": "_nlOMbXC4H2t",
        "outputId": "4456176b-368f-4258-bc21-6e5d4a4d360d",
        "colab": {
          "base_uri": "https://localhost:8080/",
          "height": 349
        }
      },
      "source": [
        "loss = torch.nn.HingeEmbeddingLoss(reduction='mean')\n",
        "\n",
        "# Test case 1\n",
        "input = torch.tensor([[ 0.1778,  0.1203, -0.2264],[ 0.0957,  0.2403, -0.3400],[ 0.1397,  0.1925, -0.3336], [ 0.2256, 0.3144, -0.8695]], requires_grad=True) # 4 Rows, 3 columns\n",
        "target = torch.tensor([[1., 1., -1.],[1., -1., 1.],[-1., 1., 1.],[1., 1., 1.]])\n",
        "\n",
        "# Test case 2\n",
        "#input = torch.tensor([[0.1, 0.8, 0.6, 0.0, 0.5]],requires_grad=True)\n",
        "#target = torch.tensor([[-1, 1.0, 1.0, -1 ,-1]])\n",
        "\n",
        "output = loss(input, target)\n",
        "output.backward()\n",
        "print(\"Input : \")\n",
        "print(input)\n",
        "print(\"Target : \")\n",
        "print(target)\n",
        "print(\"FORWARD : \")\n",
        "print(\"Loss : \")\n",
        "print(output)\n",
        "print(\"BACKWARD : \")\n",
        "print(input.grad)"
      ],
      "execution_count": 0,
      "outputs": [
        {
          "output_type": "stream",
          "text": [
            "Input : \n",
            "tensor([[ 0.1778,  0.1203, -0.2264],\n",
            "        [ 0.0957,  0.2403, -0.3400],\n",
            "        [ 0.1397,  0.1925, -0.3336],\n",
            "        [ 0.2256,  0.3144, -0.8695]], requires_grad=True)\n",
            "Target : \n",
            "tensor([[ 1.,  1., -1.],\n",
            "        [ 1., -1.,  1.],\n",
            "        [-1.,  1.,  1.],\n",
            "        [ 1.,  1.,  1.]])\n",
            "FORWARD : \n",
            "Loss : \n",
            "tensor(0.2025, grad_fn=<MeanBackward0>)\n",
            "BACKWARD : \n",
            "tensor([[ 0.0833,  0.0833, -0.0833],\n",
            "        [ 0.0833, -0.0833,  0.0833],\n",
            "        [-0.0833,  0.0833,  0.0833],\n",
            "        [ 0.0833,  0.0833,  0.0833]])\n"
          ],
          "name": "stdout"
        }
      ]
    },
    {
      "cell_type": "markdown",
      "metadata": {
        "colab_type": "text",
        "id": "h7fZHZDk4H2w"
      },
      "source": [
        "## mlpack\n"
      ]
    },
    {
      "cell_type": "markdown",
      "metadata": {
        "id": "roTHTAsfdT-5",
        "colab_type": "text"
      },
      "source": [
        "### CURRENT IMPLEMENTATION \n",
        "\n",
        "Current implementation is incorrect as can be cross-verified by matching with PyTorch outputs above.\n",
        "\n",
        "A correct version is implemented in the next section. That matches with the PyTorch implementation as well."
      ]
    },
    {
      "cell_type": "code",
      "metadata": {
        "id": "6vp-royDdWeO",
        "colab_type": "code",
        "colab": {}
      },
      "source": [
        "%%capture\n",
        "%%writefile test.cpp  \n",
        "\n",
        "#include <iostream>\n",
        "#include <armadillo>\n",
        "\n",
        "using namespace std;\n",
        "using namespace arma;\n",
        "\n",
        "int main()\n",
        "{\n",
        "  // Constructor\n",
        "  arma::mat x,y;\n",
        "\n",
        "  // New test case - Test Case 1\n",
        "  x << 0.1778 << 0.1203 << -0.2264 << endr\n",
        "    << 0.0957 << 0.2403 << -0.3400 << endr\n",
        "    << 0.1397 << 0.1925 << -0.3336 << endr\n",
        "    << 0.2256 << 0.3144 << -0.8695 << endr;\n",
        "\n",
        "  y <<  1  <<  1  <<  0  << endr\n",
        "    <<  1  <<  0  <<  1  << endr\n",
        "    <<  0  <<  1  <<  1  << endr\n",
        "    <<  1  <<  1  <<  1  << endr;\n",
        " \n",
        "  // Test case currently present in mlpack - Test Case 2\n",
        "  //x = arma::mat(\"0.1 0.8 0.6 0.0 0.5\");\n",
        "  //y = arma::mat(\"0 1.0 1.0 0 0\");\n",
        " \n",
        "  // Forward \n",
        "  arma::mat temp = y - (y == 0);\n",
        "  double loss = (arma::accu(arma::max(1-x % temp, 0.))) / y.n_elem;\n",
        " \n",
        "\n",
        "  // Backward\n",
        "  arma::mat output;\n",
        "  temp = y - (y == 0);\n",
        "  output = (x < 1 / temp) % -temp;\n",
        "\n",
        "  // Display\n",
        "  cout << \"------------------------------------------------------------------\" << endl;\n",
        "  cout << \"USER-PROVIDED MATRICES : \" << endl;\n",
        "  cout << \"------------------------------------------------------------------\" << endl;\n",
        "  cout << \"Input shape : \"<< x.n_rows << \" \" << x.n_cols << endl;\n",
        "  cout << \"Input : \" << endl << x << endl;\n",
        "  cout << \"Target shape : \"<< y.n_rows << \" \" << y.n_cols << endl;\n",
        "  cout << \"Target : \" << endl << y << endl;\n",
        "  cout << \"FORWARD : \" << endl;\n",
        "  cout << \"Loss : \\n\" << loss << '\\n';\n",
        "  cout << \"BACKWARD : \" << endl;\n",
        "  cout << \"Output shape : \"<< output.n_rows << \" \" << output.n_cols << endl;\n",
        "  cout << \"Output (sum) : \" << endl << output << endl;\n",
        "  cout << \"Sum of all values in this matrix : \" << arma::as_scalar(arma::accu(output)) << endl;\n",
        "  return 0;\n",
        "}"
      ],
      "execution_count": 0,
      "outputs": []
    },
    {
      "cell_type": "code",
      "metadata": {
        "id": "Q9sNOMc4dWnR",
        "colab_type": "code",
        "outputId": "e774c86f-a17d-470b-b813-5ec3f73d804f",
        "colab": {
          "base_uri": "https://localhost:8080/",
          "height": 540
        }
      },
      "source": [
        "%%script bash\n",
        "g++ test.cpp -o test -larmadillo && ./test"
      ],
      "execution_count": 0,
      "outputs": [
        {
          "output_type": "stream",
          "text": [
            "------------------------------------------------------------------\n",
            "USER-PROVIDED MATRICES : \n",
            "------------------------------------------------------------------\n",
            "Input shape : 4 3\n",
            "Input : \n",
            "   0.1778   0.1203  -0.2264\n",
            "   0.0957   0.2403  -0.3400\n",
            "   0.1397   0.1925  -0.3336\n",
            "   0.2256   0.3144  -0.8695\n",
            "\n",
            "Target shape : 4 3\n",
            "Target : \n",
            "   1.0000   1.0000        0\n",
            "   1.0000        0   1.0000\n",
            "        0   1.0000   1.0000\n",
            "   1.0000   1.0000   1.0000\n",
            "\n",
            "FORWARD : \n",
            "Loss : \n",
            "0.354125\n",
            "BACKWARD : \n",
            "Output shape : 4 3\n",
            "Output (sum) : \n",
            "  -1.0000  -1.0000        0\n",
            "  -1.0000        0  -1.0000\n",
            "        0  -1.0000  -1.0000\n",
            "  -1.0000  -1.0000  -1.0000\n",
            "\n",
            "Sum of all values in this matrix : -9\n"
          ],
          "name": "stdout"
        }
      ]
    },
    {
      "cell_type": "markdown",
      "metadata": {
        "id": "n68p-w9Ld7F-",
        "colab_type": "text"
      },
      "source": [
        "### NEW IMPLEMENTATION "
      ]
    },
    {
      "cell_type": "code",
      "metadata": {
        "colab_type": "code",
        "id": "cFlCk9a64H20",
        "colab": {}
      },
      "source": [
        "%%capture\n",
        "%%writefile test.cpp  \n",
        "\n",
        "#include <iostream>\n",
        "#include <armadillo>\n",
        "\n",
        "using namespace std;\n",
        "using namespace arma;\n",
        "\n",
        "int main()\n",
        "{\n",
        "  // Constructor\n",
        "  arma::mat x,y;\n",
        " \n",
        "  // New test case - Test Case 1\n",
        "  x << 0.1778 << 0.1203 << -0.2264 << endr\n",
        "    << 0.0957 << 0.2403 << -0.3400 << endr\n",
        "    << 0.1397 << 0.1925 << -0.3336 << endr\n",
        "    << 0.2256 << 0.3144 << -0.8695 << endr;\n",
        "\n",
        "  y <<  1  <<  1  <<  -1  << endr\n",
        "    <<  1  <<  -1  <<  1  << endr\n",
        "    <<  -1  <<  1  <<  1  << endr\n",
        "    <<  1  <<  1  <<  1  << endr;\n",
        " \n",
        "  // Test case currently present in mlpack - Test Case 2\n",
        "  //x = arma::mat(\"0.1 0.8 0.6 0.0 0.5\");\n",
        "  //y = arma::mat(\"-1.0 1.0 1.0 -1.0 -1.0\");\n",
        " \n",
        "  // Forward\n",
        "  arma::mat loss_none = (1 - y)/2 + x % (y);\n",
        "  double loss_sum = arma::accu(loss_none);\n",
        "  double loss_mean = loss_sum / x.n_elem;\n",
        " \n",
        "\n",
        "  // Backward\n",
        "  arma::mat output;\n",
        "  output = y;\n",
        "\n",
        "  // Display\n",
        "  cout << \"------------------------------------------------------------------\" << endl;\n",
        "  cout << \"USER-PROVIDED MATRICES : \" << endl;\n",
        "  cout << \"------------------------------------------------------------------\" << endl;\n",
        "  cout << \"Input shape : \"<< x.n_rows << \" \" << x.n_cols << endl;\n",
        "  cout << \"Input : \" << endl << x << endl;\n",
        "  cout << \"Target shape : \"<< y.n_rows << \" \" << y.n_cols << endl;\n",
        "  cout << \"Target : \" << endl << y << endl;\n",
        "  cout << \"------------------------------------------------------------------\" << endl;\n",
        "  cout << \"SUM \" << endl;\n",
        "  cout << \"------------------------------------------------------------------\" << endl;\n",
        "  cout << \"FORWARD : \" << endl;\n",
        "  cout << \"Loss (none): \\n\" << loss_none << '\\n';\n",
        "  cout << \"Loss (sum):\\n\" << loss_sum << '\\n';\n",
        "  cout << \"BACKWARD : \" << endl;\n",
        "  cout << \"Output shape : \"<< output.n_rows << \" \" << output.n_cols << endl;\n",
        "  cout << \"Output (sum) : \" << endl << output << endl;\n",
        "  cout << \"Sum of all values in this matrix : \" << arma::as_scalar(arma::accu(output)) << endl;\n",
        "  cout << \"------------------------------------------------------------------\" << endl;\n",
        "  cout << \"MEAN \" << endl;\n",
        "  cout << \"------------------------------------------------------------------\" << endl;\n",
        "  cout << \"FORWARD : \" << endl;\n",
        "  cout << \"Loss (mean):\\n\" << loss_mean << '\\n';\n",
        "  cout << \"BACKWARD : \" << endl;\n",
        "  cout << \"Output shape : \"<< output.n_rows << \" \" << output.n_cols << endl;\n",
        "  cout << \"Output (mean) : \" << endl << output / x.n_elem << endl;\n",
        "  cout << \"Sum of all values in this matrix : \" << arma::as_scalar(arma::accu(output / x.n_elem)) << endl;\n",
        "  cout << \"------------------------------------------------------------------\" << endl;\n",
        "  return 0;\n",
        "}"
      ],
      "execution_count": 0,
      "outputs": []
    },
    {
      "cell_type": "code",
      "metadata": {
        "id": "xHT34eorQquz",
        "colab_type": "code",
        "outputId": "4171c1b5-d58c-4a2a-eb54-3f44b1c4268f",
        "colab": {
          "base_uri": "https://localhost:8080/",
          "height": 953
        }
      },
      "source": [
        "%%script bash\n",
        "g++ test.cpp -o test -larmadillo && ./test"
      ],
      "execution_count": 0,
      "outputs": [
        {
          "output_type": "stream",
          "text": [
            "------------------------------------------------------------------\n",
            "USER-PROVIDED MATRICES : \n",
            "------------------------------------------------------------------\n",
            "Input shape : 4 3\n",
            "Input : \n",
            "   0.1778   0.1203  -0.2264\n",
            "   0.0957   0.2403  -0.3400\n",
            "   0.1397   0.1925  -0.3336\n",
            "   0.2256   0.3144  -0.8695\n",
            "\n",
            "Target shape : 4 3\n",
            "Target : \n",
            "   1.0000   1.0000  -1.0000\n",
            "   1.0000  -1.0000   1.0000\n",
            "  -1.0000   1.0000   1.0000\n",
            "   1.0000   1.0000   1.0000\n",
            "\n",
            "------------------------------------------------------------------\n",
            "SUM \n",
            "------------------------------------------------------------------\n",
            "FORWARD : \n",
            "Loss (none): \n",
            "   0.1778   0.1203   1.2264\n",
            "   0.0957   0.7597  -0.3400\n",
            "   0.8603   0.1925  -0.3336\n",
            "   0.2256   0.3144  -0.8695\n",
            "\n",
            "Loss (sum):\n",
            "2.4296\n",
            "BACKWARD : \n",
            "Output shape : 4 3\n",
            "Output (sum) : \n",
            "   1.0000   1.0000  -1.0000\n",
            "   1.0000  -1.0000   1.0000\n",
            "  -1.0000   1.0000   1.0000\n",
            "   1.0000   1.0000   1.0000\n",
            "\n",
            "Sum of all values in this matrix : 6\n",
            "------------------------------------------------------------------\n",
            "MEAN \n",
            "------------------------------------------------------------------\n",
            "FORWARD : \n",
            "Loss (mean):\n",
            "0.202467\n",
            "BACKWARD : \n",
            "Output shape : 4 3\n",
            "Output (mean) : \n",
            "   0.0833   0.0833  -0.0833\n",
            "   0.0833  -0.0833   0.0833\n",
            "  -0.0833   0.0833   0.0833\n",
            "   0.0833   0.0833   0.0833\n",
            "\n",
            "Sum of all values in this matrix : 0.5\n",
            "------------------------------------------------------------------\n"
          ],
          "name": "stdout"
        }
      ]
    }
  ]
}