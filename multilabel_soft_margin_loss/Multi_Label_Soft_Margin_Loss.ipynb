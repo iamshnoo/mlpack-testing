{
  "nbformat": 4,
  "nbformat_minor": 0,
  "metadata": {
    "colab": {
      "name": "Multi Label Soft Margin Loss",
      "provenance": [],
      "collapsed_sections": [
        "314x96vbqGfp",
        "mzgcKsH8YaPZ",
        "s3xRgWPbX8Yj",
        "jWfB0dG0YM0z",
        "GeoemoCFTqQG",
        "20G4YOEwTyow",
        "zsfHEMBiT1MP",
        "k3lJxOb6T40V",
        "MOWljXdyT8Xy",
        "iakJ-9huYVI-",
        "70TcBfF9YodM",
        "4i9J3osMYw61",
        "Xw8JMxmqY6_Q",
        "iwkg3F_YZAui",
        "HOJX2feHZQUf",
        "unyt3g8jZcFP",
        "7cx_G751Zecm",
        "ql0ocGnmaKMk",
        "30lbXy5caUx0",
        "5Qw906V7aftO",
        "MbvDufGJarbd",
        "T1DytyBxauYo",
        "qhxkYNsWbEBM",
        "MIKuBPRpbF0H",
        "3b9brt69bJvA",
        "ZzzL3PRFbNAX",
        "MVkl-wMFbXQX",
        "z1ExgKLcbloE",
        "e0wKqqAQbnQL",
        "U1HpSTn-bq20",
        "yoVJoP-Kbt-6"
      ],
      "authorship_tag": "ABX9TyNjqhyvb12FFHY6rmgMHXtt",
      "include_colab_link": true
    },
    "kernelspec": {
      "name": "python3",
      "display_name": "Python 3"
    }
  },
  "cells": [
    {
      "cell_type": "markdown",
      "metadata": {
        "id": "view-in-github",
        "colab_type": "text"
      },
      "source": [
        "<a href=\"https://colab.research.google.com/github/iamshnoo/mlpack-testing/blob/master/Multi_Label_Soft_Margin_Loss.ipynb\" target=\"_parent\"><img src=\"https://colab.research.google.com/assets/colab-badge.svg\" alt=\"Open In Colab\"/></a>"
      ]
    },
    {
      "cell_type": "markdown",
      "metadata": {
        "id": "ImFKp-XxU9yl",
        "colab_type": "text"
      },
      "source": [
        "# Multi Label Soft Margin Loss function"
      ]
    },
    {
      "cell_type": "markdown",
      "metadata": {
        "id": "314x96vbqGfp",
        "colab_type": "text"
      },
      "source": [
        "## Link to PyTorch Docs for this function\n"
      ]
    },
    {
      "cell_type": "markdown",
      "metadata": {
        "id": "CX_GTR8NVRmE",
        "colab_type": "text"
      },
      "source": [
        "https://pytorch.org/docs/stable/nn.html#multilabelsoftmarginloss"
      ]
    },
    {
      "cell_type": "markdown",
      "metadata": {
        "id": "mzgcKsH8YaPZ",
        "colab_type": "text"
      },
      "source": [
        "## Imports and Installations"
      ]
    },
    {
      "cell_type": "markdown",
      "metadata": {
        "id": "s3xRgWPbX8Yj",
        "colab_type": "text"
      },
      "source": [
        "### Install mlpack library from linux package manager"
      ]
    },
    {
      "cell_type": "code",
      "metadata": {
        "id": "t8VFiLMHYIFV",
        "colab_type": "code",
        "colab": {}
      },
      "source": [
        "%%capture\n",
        "!sudo apt-get install libmlpack-dev "
      ],
      "execution_count": 0,
      "outputs": []
    },
    {
      "cell_type": "markdown",
      "metadata": {
        "id": "jWfB0dG0YM0z",
        "colab_type": "text"
      },
      "source": [
        "### PyTorch library imports"
      ]
    },
    {
      "cell_type": "code",
      "metadata": {
        "id": "rtKpizrpYOAh",
        "colab_type": "code",
        "colab": {}
      },
      "source": [
        "import torch\n",
        "import torch.nn as nn"
      ],
      "execution_count": 0,
      "outputs": []
    },
    {
      "cell_type": "markdown",
      "metadata": {
        "id": "mLl-mIGnTljZ",
        "colab_type": "text"
      },
      "source": [
        "## Test Case 1 - 3 classes, 3 examples, not weighted (used in loss_functions_test.cpp)"
      ]
    },
    {
      "cell_type": "markdown",
      "metadata": {
        "id": "GeoemoCFTqQG",
        "colab_type": "text"
      },
      "source": [
        "### Assumptions and Statements"
      ]
    },
    {
      "cell_type": "markdown",
      "metadata": {
        "id": "0wouZNkLTv4f",
        "colab_type": "text"
      },
      "source": [
        "**Overview :**\n",
        "\n",
        "Input is a collection of 3 multi-label examples. <br>\n",
        "Each example belongs to 1 of 3 possible classes. <br>\n",
        "Hence, the class label for each example is 1x3 one-hot encoded vector. <br>\n",
        "Default weights (1) are assigned to each class using a 1x3 weights vector. <br>\n",
        "\n",
        "---\n",
        "\n",
        "**Summary of shapes of tensors involved :** <br>\n",
        "\n",
        "The shape of the input matrix is 3x3. <br>\n",
        "The shape of each example is 1x3. <br>\n",
        "The shape of each class label is 1x3. <br>\n",
        "The shape of the target matrix is 3x3. <br>\n",
        "The shape of the weight matrix is 1x3. <br>\n",
        "The shape of the gradient of the input matrix will also be 3x3. <br>\n",
        "The output of the forward function is reduced to a 1x1 tensor using either sum or mean reduction. <br>\n",
        "\n",
        "---"
      ]
    },
    {
      "cell_type": "markdown",
      "metadata": {
        "id": "20G4YOEwTyow",
        "colab_type": "text"
      },
      "source": [
        "### Sum"
      ]
    },
    {
      "cell_type": "code",
      "metadata": {
        "id": "GVH6VUjhT0mD",
        "colab_type": "code",
        "outputId": "c8ba91a4-6116-4314-fbf2-ad50b94b009a",
        "colab": {
          "base_uri": "https://localhost:8080/",
          "height": 163
        }
      },
      "source": [
        "torch.set_printoptions(precision=5)\n",
        "x = torch.tensor([[ 0.1778,  0.1203, -0.2264],[ 0.0957,  0.2403, -0.3400],[ 0.1397,  0.1925, -0.3336]], requires_grad=True) # 3 Rows, 3 columns\n",
        "y = torch.tensor([[0., 1., 0.],[1., 0., 0.],[0., 0., 1.]], requires_grad=True) # 3 Rows, 3 columns\n",
        "weights = torch.tensor([1, 1, 1])\n",
        "criterion_mean = nn.MultiLabelSoftMarginLoss(reduction='sum', weight=weights)\n",
        "loss_mean = criterion_mean(x,y)\n",
        "print(\"FORWARD:\\n\", loss_mean, \"\\nBACKWARD\")\n",
        "loss_mean.backward()\n",
        "print(x.grad)\n",
        "print(\"---------------------------------------------------------------\")\n",
        "torch.set_printoptions(precision=6)\n",
        "print(torch.sum(x.grad))\n",
        "print(\"---------------------------------------------------------------\")"
      ],
      "execution_count": 3,
      "outputs": [
        {
          "output_type": "stream",
          "text": [
            "FORWARD:\n",
            " tensor(2.14829, grad_fn=<SumBackward0>) \n",
            "BACKWARD\n",
            "tensor([[ 0.18144, -0.15665,  0.14788],\n",
            "        [-0.15870,  0.18660,  0.13860],\n",
            "        [ 0.17829,  0.18266, -0.19421]])\n",
            "---------------------------------------------------------------\n",
            "tensor(0.505909)\n",
            "---------------------------------------------------------------\n"
          ],
          "name": "stdout"
        }
      ]
    },
    {
      "cell_type": "markdown",
      "metadata": {
        "id": "zsfHEMBiT1MP",
        "colab_type": "text"
      },
      "source": [
        "### Mean"
      ]
    },
    {
      "cell_type": "code",
      "metadata": {
        "id": "V5iw7_xXT4j5",
        "colab_type": "code",
        "outputId": "02a5d869-ece5-4fef-ec82-9afb52de629e",
        "colab": {
          "base_uri": "https://localhost:8080/",
          "height": 163
        }
      },
      "source": [
        "torch.set_printoptions(precision=6)\n",
        "x = torch.tensor([[ 0.1778,  0.1203, -0.2264],[ 0.0957,  0.2403, -0.3400],[ 0.1397,  0.1925, -0.3336]], requires_grad=True) # 3 Rows, 3 columns\n",
        "y = torch.tensor([[0., 1., 0.],[1., 0., 0.],[0., 0., 1.]], requires_grad=True) # 3 Rows, 3 columns\n",
        "weights = torch.tensor([1, 1, 1])\n",
        "criterion_mean = nn.MultiLabelSoftMarginLoss(reduction='mean', weight=weights)\n",
        "loss_mean = criterion_mean(x,y)\n",
        "print(\"FORWARD:\\n\", loss_mean, \"\\nBACKWARD\")\n",
        "loss_mean.backward()\n",
        "print(x.grad)\n",
        "print(\"---------------------------------------------------------------\")\n",
        "print(torch.sum(x.grad))\n",
        "print(\"---------------------------------------------------------------\")"
      ],
      "execution_count": 4,
      "outputs": [
        {
          "output_type": "stream",
          "text": [
            "FORWARD:\n",
            " tensor(0.716095, grad_fn=<MeanBackward0>) \n",
            "BACKWARD\n",
            "tensor([[ 0.060481, -0.052218,  0.049293],\n",
            "        [-0.052899,  0.062199,  0.046201],\n",
            "        [ 0.059430,  0.060886, -0.064737]])\n",
            "---------------------------------------------------------------\n",
            "tensor(0.168636)\n",
            "---------------------------------------------------------------\n"
          ],
          "name": "stdout"
        }
      ]
    },
    {
      "cell_type": "markdown",
      "metadata": {
        "id": "k3lJxOb6T40V",
        "colab_type": "text"
      },
      "source": [
        "### C++ File **`test.cpp`** to reproduce same results "
      ]
    },
    {
      "cell_type": "code",
      "metadata": {
        "id": "osddN8c5T7op",
        "colab_type": "code",
        "colab": {}
      },
      "source": [
        "%%capture\n",
        "%%writefile test.cpp\n",
        "#include <iostream>\n",
        "#include <armadillo>\n",
        "\n",
        "using namespace std;\n",
        "using namespace arma;\n",
        "\n",
        "int main()\n",
        "{\n",
        "  // Constructor\n",
        "  arma::mat x,y;\n",
        "  arma::mat weight;\n",
        "\n",
        "  x << 0.1778 << 0.1203 << -0.2264 << endr\n",
        "    << 0.0957 << 0.2403 << -0.3400 << endr\n",
        "    << 0.1397 << 0.1925 << -0.3336 << endr;\n",
        "\n",
        "  y << 0 << 1 << 0 << endr\n",
        "    << 1 << 0 << 0 << endr\n",
        "    << 0 << 0 << 1 << endr;\n",
        "\n",
        "  weight.ones(1,3);\n",
        "\n",
        "  // Forward\n",
        "  arma::mat logSigmoid = arma::log((1 / (1 + arma::exp(-x))));\n",
        "  arma::mat logSigmoidNeg = arma::log(1 / (1 + arma::exp(x)));\n",
        "  arma::mat loss = arma::mean(arma::sum(-(y % logSigmoid + (1 - y) % logSigmoidNeg)) % weight, 1);\n",
        "  double loss_sum = arma::as_scalar(loss);\n",
        "  double loss_mean = arma::as_scalar(loss / x.n_rows);\n",
        "\n",
        "  // Backward - mean\n",
        "  arma::mat sigmoid = 1 / (1+arma::exp(-x));\n",
        "  arma::mat output ;\n",
        "  output.set_size(size(x));\n",
        "  output = - (y % ( 1-sigmoid) - (1-y) % sigmoid) % arma::repmat(weight, y.n_rows, 1) / output.n_elem;\n",
        "\n",
        "  // Display\n",
        "  cout << \"------------------------------------------------------------------\" << endl;\n",
        "  cout << \"USER-PROVIDED MATRICES : \" << endl;\n",
        "  cout << \"------------------------------------------------------------------\" << endl;\n",
        "  cout << \"Input shape : \"<< x.n_rows << \" \" << x.n_cols << endl;\n",
        "  cout << \"Input : \" << endl << x << endl;\n",
        "  cout << \"Target shape : \"<< y.n_rows << \" \" << y.n_cols << endl;\n",
        "  cout << \"Target : \" << endl << y << endl;\n",
        "  cout << \"Weight : \" << weight << endl;\n",
        "  cout << \"Weight shape : \"<< weight.n_rows << \" \" << weight.n_cols << endl;\n",
        "  cout << \"------------------------------------------------------------------\" << endl;\n",
        "  cout << \"SUM \" << endl;\n",
        "  cout << \"------------------------------------------------------------------\" << endl;\n",
        "  cout << \"FORWARD : \" << endl;\n",
        "  cout << \"Loss (sum):\\n\" << loss_sum << '\\n';\n",
        "  cout << \"BACKWARD : \" << endl;\n",
        "  cout << \"Output shape : \"<< output.n_rows << \" \" << output.n_cols << endl;\n",
        "  cout << \"Output (sum) : \" << endl << output * x.n_rows << endl;                                             \n",
        "  cout << \"Sum of all values in this matrix : \" << arma::as_scalar(arma::accu(output * x.n_rows)) << endl;    \n",
        "  cout << \"------------------------------------------------------------------\" << endl;\n",
        "  cout << \"MEAN \" << endl;\n",
        "  cout << \"------------------------------------------------------------------\" << endl;\n",
        "  cout << \"FORWARD : \" << endl;\n",
        "  cout << \"Loss (mean):\\n\" << loss_mean << '\\n';\n",
        "  cout << \"BACKWARD : \" << endl;\n",
        "  cout << \"Output shape : \"<< output.n_rows << \" \" << output.n_cols << endl;\n",
        "  cout << \"Output (mean) : \" << endl << output << endl;\n",
        "  cout << \"Sum of all values in this matrix : \" << arma::as_scalar(arma::accu(output)) << endl;\n",
        "  cout << \"------------------------------------------------------------------\" << endl;\n",
        "  return 0;\n",
        "}"
      ],
      "execution_count": 0,
      "outputs": []
    },
    {
      "cell_type": "markdown",
      "metadata": {
        "id": "MOWljXdyT8Xy",
        "colab_type": "text"
      },
      "source": [
        "### Run using **`g++ test.cpp -o test -larmadillo && ./test`**"
      ]
    },
    {
      "cell_type": "code",
      "metadata": {
        "id": "lZCrGRysT_ds",
        "colab_type": "code",
        "outputId": "cc37f3b0-326d-4534-d618-72f9970cb7ae",
        "colab": {
          "base_uri": "https://localhost:8080/",
          "height": 0
        }
      },
      "source": [
        "%%script bash\n",
        "g++ test.cpp -o test -larmadillo && ./test"
      ],
      "execution_count": 6,
      "outputs": [
        {
          "output_type": "stream",
          "text": [
            "------------------------------------------------------------------\n",
            "USER-PROVIDED MATRICES : \n",
            "------------------------------------------------------------------\n",
            "Input shape : 3 3\n",
            "Input : \n",
            "   0.1778   0.1203  -0.2264\n",
            "   0.0957   0.2403  -0.3400\n",
            "   0.1397   0.1925  -0.3336\n",
            "\n",
            "Target shape : 3 3\n",
            "Target : \n",
            "        0   1.0000        0\n",
            "   1.0000        0        0\n",
            "        0        0   1.0000\n",
            "\n",
            "Weight :    1.0000   1.0000   1.0000\n",
            "\n",
            "Weight shape : 1 3\n",
            "------------------------------------------------------------------\n",
            "SUM \n",
            "------------------------------------------------------------------\n",
            "FORWARD : \n",
            "Loss (sum):\n",
            "2.14829\n",
            "BACKWARD : \n",
            "Output shape : 3 3\n",
            "Output (sum) : \n",
            "   0.1814  -0.1567   0.1479\n",
            "  -0.1587   0.1866   0.1386\n",
            "   0.1783   0.1827  -0.1942\n",
            "\n",
            "Sum of all values in this matrix : 0.505909\n",
            "------------------------------------------------------------------\n",
            "MEAN \n",
            "------------------------------------------------------------------\n",
            "FORWARD : \n",
            "Loss (mean):\n",
            "0.716095\n",
            "BACKWARD : \n",
            "Output shape : 3 3\n",
            "Output (mean) : \n",
            "   0.0605  -0.0522   0.0493\n",
            "  -0.0529   0.0622   0.0462\n",
            "   0.0594   0.0609  -0.0647\n",
            "\n",
            "Sum of all values in this matrix : 0.168636\n",
            "------------------------------------------------------------------\n"
          ],
          "name": "stdout"
        }
      ]
    },
    {
      "cell_type": "markdown",
      "metadata": {
        "id": "iakJ-9huYVI-",
        "colab_type": "text"
      },
      "source": [
        "## Test Case 2 - 3 classes, 4 examples, weighted (used in loss_functions_test.cpp)"
      ]
    },
    {
      "cell_type": "markdown",
      "metadata": {
        "id": "70TcBfF9YodM",
        "colab_type": "text"
      },
      "source": [
        "### Assumptions and Statements."
      ]
    },
    {
      "cell_type": "markdown",
      "metadata": {
        "id": "VnaHQXQxYrKa",
        "colab_type": "text"
      },
      "source": [
        "**Overview :**\n",
        "\n",
        "Input is a collection of 4 multi-label examples. <br>\n",
        "Each example belongs to 1 of 3 possible classes. <br>\n",
        "Hence, the class label for each example is 1x3 one-hot encoded vector. <br>\n",
        "Different weights are assigned to each class using a 1x3 weights vector. <br>\n",
        "\n",
        "---\n",
        "\n",
        "**Summary of shapes of tensors involved :** <br>\n",
        "\n",
        "The shape of the input matrix is 4x3. <br>\n",
        "The shape of each example is 1x3. <br>\n",
        "The shape of each class label is 1x3. <br>\n",
        "The shape of the target matrix is 4x3. <br>\n",
        "The shape of the weight matrix is 1x3. <br>\n",
        "The shape of the gradient of the input matrix will also be 4x3. <br>\n",
        "The output of the forward function is reduced to a 1x1 tensor using either sum or mean reduction. <br>\n",
        "\n",
        "---"
      ]
    },
    {
      "cell_type": "markdown",
      "metadata": {
        "id": "4i9J3osMYw61",
        "colab_type": "text"
      },
      "source": [
        "### Sum"
      ]
    },
    {
      "cell_type": "code",
      "metadata": {
        "id": "nalKX-64Yzeo",
        "colab_type": "code",
        "outputId": "dccdcb10-8ccd-40f3-c38d-b164a2184057",
        "colab": {
          "base_uri": "https://localhost:8080/",
          "height": 0
        }
      },
      "source": [
        "torch.set_printoptions(precision=5)\n",
        "x = torch.tensor([[ 0.1778,  0.1203, -0.2264],[ 0.0957,  0.2403, -0.3400],[ 0.1397,  0.1925, -0.3336], [ 0.2256, 0.3144, -0.8695]], requires_grad=True) # 4 Rows, 3 columns\n",
        "y = torch.tensor([[0., 1., 0.],[1., 0., 0.],[0., 0., 1.],[1., 0., 0.]], requires_grad=True) # 4 Rows, 3 columns\n",
        "weights = torch.tensor([1, 2, 3])\n",
        "criterion_mean = nn.MultiLabelSoftMarginLoss(reduction='sum', weight=weights)\n",
        "loss_mean = criterion_mean(x,y)\n",
        "print(\"FORWARD:\\n\", loss_mean, \"\\nBACKWARD\")\n",
        "loss_mean.backward()\n",
        "print(x.grad)\n",
        "print(\"---------------------------------------------------------------\")\n",
        "print(torch.sum(x.grad))\n",
        "print(\"---------------------------------------------------------------\")"
      ],
      "execution_count": 7,
      "outputs": [
        {
          "output_type": "stream",
          "text": [
            "FORWARD:\n",
            " tensor(5.35057, grad_fn=<SumBackward0>) \n",
            "BACKWARD\n",
            "tensor([[ 0.18144, -0.31331,  0.44364],\n",
            "        [-0.15870,  0.37319,  0.41581],\n",
            "        [ 0.17829,  0.36532, -0.58264],\n",
            "        [-0.14795,  0.38531,  0.29536]])\n",
            "---------------------------------------------------------------\n",
            "tensor(1.43577)\n",
            "---------------------------------------------------------------\n"
          ],
          "name": "stdout"
        }
      ]
    },
    {
      "cell_type": "markdown",
      "metadata": {
        "id": "Xw8JMxmqY6_Q",
        "colab_type": "text"
      },
      "source": [
        "### Mean"
      ]
    },
    {
      "cell_type": "code",
      "metadata": {
        "id": "InkNe3CtY9HY",
        "colab_type": "code",
        "outputId": "c0666be5-f887-4fef-d44d-ac174a21a21f",
        "colab": {
          "base_uri": "https://localhost:8080/",
          "height": 0
        }
      },
      "source": [
        "torch.set_printoptions(precision=5)\n",
        "x = torch.tensor([[ 0.1778,  0.1203, -0.2264],[ 0.0957,  0.2403, -0.3400],[ 0.1397,  0.1925, -0.3336], [ 0.2256, 0.3144, -0.8695]], requires_grad=True) # 4 Rows, 3 columns\n",
        "y = torch.tensor([[0., 1., 0.],[1., 0., 0.],[0., 0., 1.],[1., 0., 0.]], requires_grad=True) # 4 Rows, 3 columns\n",
        "weights = torch.tensor([1, 2, 3])\n",
        "criterion_mean = nn.MultiLabelSoftMarginLoss(reduction='mean', weight=weights)\n",
        "loss_mean = criterion_mean(x,y)\n",
        "print(\"FORWARD:\\n\", loss_mean, \"\\nBACKWARD\")\n",
        "loss_mean.backward()\n",
        "print(x.grad)\n",
        "print(\"---------------------------------------------------------------\")\n",
        "torch.set_printoptions(precision=6)\n",
        "print(torch.sum(x.grad))\n",
        "print(\"---------------------------------------------------------------\")"
      ],
      "execution_count": 8,
      "outputs": [
        {
          "output_type": "stream",
          "text": [
            "FORWARD:\n",
            " tensor(1.33764, grad_fn=<MeanBackward0>) \n",
            "BACKWARD\n",
            "tensor([[ 0.04536, -0.07833,  0.11091],\n",
            "        [-0.03967,  0.09330,  0.10395],\n",
            "        [ 0.04457,  0.09133, -0.14566],\n",
            "        [-0.03699,  0.09633,  0.07384]])\n",
            "---------------------------------------------------------------\n",
            "tensor(0.358943)\n",
            "---------------------------------------------------------------\n"
          ],
          "name": "stdout"
        }
      ]
    },
    {
      "cell_type": "markdown",
      "metadata": {
        "id": "iwkg3F_YZAui",
        "colab_type": "text"
      },
      "source": [
        "### C++ File **`test.cpp`** to reproduce same results "
      ]
    },
    {
      "cell_type": "code",
      "metadata": {
        "id": "1PeeYykTZBzD",
        "colab_type": "code",
        "colab": {}
      },
      "source": [
        "%%capture\n",
        "%%writefile test.cpp\n",
        "#include <iostream>\n",
        "#include <armadillo>\n",
        "\n",
        "using namespace std;\n",
        "using namespace arma;\n",
        "\n",
        "int main()\n",
        "{\n",
        "  // Constructor\n",
        "  arma::mat x,y;\n",
        "  arma::mat weight;\n",
        "\n",
        "  x << 0.1778 << 0.1203 << -0.2264 << endr\n",
        "    << 0.0957 << 0.2403 << -0.3400 << endr\n",
        "    << 0.1397 << 0.1925 << -0.3336 << endr\n",
        "    << 0.2256 << 0.3144 << -0.8695 << endr;\n",
        "\n",
        "  y << 0 << 1 << 0 << endr\n",
        "    << 1 << 0 << 0 << endr\n",
        "    << 0 << 0 << 1 << endr\n",
        "    << 1 << 0 << 0 << endr;\n",
        "\n",
        "  weight.ones(1,3);\n",
        "  weight(0, 1) = 2;\n",
        "  weight(0, 2) = 3;\n",
        "\n",
        "  // Forward\n",
        "  arma::mat logSigmoid = arma::log((1 / (1 + arma::exp(-x))));\n",
        "  arma::mat logSigmoidNeg = arma::log(1 / (1 + arma::exp(x)));\n",
        "  arma::mat loss = arma::mean(arma::sum(-(y % logSigmoid + (1 - y) % logSigmoidNeg)) % weight, 1);\n",
        "  double loss_sum = arma::as_scalar(loss);\n",
        "  double loss_mean = arma::as_scalar(loss / x.n_rows);\n",
        "\n",
        "  // Backward - mean\n",
        "  arma::mat sigmoid = 1 / (1+arma::exp(-x));\n",
        "  arma::mat output ;\n",
        "  output.set_size(size(x));\n",
        "  output = - (y % ( 1-sigmoid) - (1-y) % sigmoid) % arma::repmat(weight, y.n_rows, 1) / output.n_elem;\n",
        "\n",
        "  // Display\n",
        "  cout << \"------------------------------------------------------------------\" << endl;\n",
        "  cout << \"USER-PROVIDED MATRICES : \" << endl;\n",
        "  cout << \"------------------------------------------------------------------\" << endl;\n",
        "  cout << \"Input shape : \"<< x.n_rows << \" \" << x.n_cols << endl;\n",
        "  cout << \"Input : \" << endl << x << endl;\n",
        "  cout << \"Target shape : \"<< y.n_rows << \" \" << y.n_cols << endl;\n",
        "  cout << \"Target : \" << endl << y << endl;\n",
        "  cout << \"Weight : \" << weight << endl;\n",
        "  cout << \"Weight shape : \"<< weight.n_rows << \" \" << weight.n_cols << endl;\n",
        "  cout << \"------------------------------------------------------------------\" << endl;\n",
        "  cout << \"SUM \" << endl;\n",
        "  cout << \"------------------------------------------------------------------\" << endl;\n",
        "  cout << \"FORWARD : \" << endl;\n",
        "  cout << \"Loss (sum):\\n\" << loss_sum << '\\n';\n",
        "  cout << \"BACKWARD : \" << endl;\n",
        "  cout << \"Output shape : \"<< output.n_rows << \" \" << output.n_cols << endl;\n",
        "  cout << \"Output (sum) : \" << endl << output * x.n_rows << endl;                                             \n",
        "  cout << \"Sum of all values in this matrix : \" << arma::as_scalar(arma::accu(output * x.n_rows)) << endl;    \n",
        "  cout << \"------------------------------------------------------------------\" << endl;\n",
        "  cout << \"MEAN \" << endl;\n",
        "  cout << \"------------------------------------------------------------------\" << endl;\n",
        "  cout << \"FORWARD : \" << endl;\n",
        "  cout << \"Loss (mean):\\n\" << loss_mean << '\\n';\n",
        "  cout << \"BACKWARD : \" << endl;\n",
        "  cout << \"Output shape : \"<< output.n_rows << \" \" << output.n_cols << endl;\n",
        "  cout << \"Output (mean) : \" << endl << output << endl;\n",
        "  cout << \"Sum of all values in this matrix : \" << arma::as_scalar(arma::accu(output)) << endl;\n",
        "  cout << \"------------------------------------------------------------------\" << endl;\n",
        "  return 0;\n",
        "}"
      ],
      "execution_count": 0,
      "outputs": []
    },
    {
      "cell_type": "markdown",
      "metadata": {
        "id": "HOJX2feHZQUf",
        "colab_type": "text"
      },
      "source": [
        "### Run using **`g++ test.cpp -o test -larmadillo && ./test`**"
      ]
    },
    {
      "cell_type": "code",
      "metadata": {
        "id": "4XcjBIWlZWAm",
        "colab_type": "code",
        "outputId": "9bde6c1f-6a74-49f4-a6a0-5386929e4804",
        "colab": {
          "base_uri": "https://localhost:8080/",
          "height": 0
        }
      },
      "source": [
        "%%script bash\n",
        "g++ test.cpp -o test -larmadillo && ./test"
      ],
      "execution_count": 10,
      "outputs": [
        {
          "output_type": "stream",
          "text": [
            "------------------------------------------------------------------\n",
            "USER-PROVIDED MATRICES : \n",
            "------------------------------------------------------------------\n",
            "Input shape : 4 3\n",
            "Input : \n",
            "   0.1778   0.1203  -0.2264\n",
            "   0.0957   0.2403  -0.3400\n",
            "   0.1397   0.1925  -0.3336\n",
            "   0.2256   0.3144  -0.8695\n",
            "\n",
            "Target shape : 4 3\n",
            "Target : \n",
            "        0   1.0000        0\n",
            "   1.0000        0        0\n",
            "        0        0   1.0000\n",
            "   1.0000        0        0\n",
            "\n",
            "Weight :    1.0000   2.0000   3.0000\n",
            "\n",
            "Weight shape : 1 3\n",
            "------------------------------------------------------------------\n",
            "SUM \n",
            "------------------------------------------------------------------\n",
            "FORWARD : \n",
            "Loss (sum):\n",
            "5.35057\n",
            "BACKWARD : \n",
            "Output shape : 4 3\n",
            "Output (sum) : \n",
            "   0.1814  -0.3133   0.4436\n",
            "  -0.1587   0.3732   0.4158\n",
            "   0.1783   0.3653  -0.5826\n",
            "  -0.1479   0.3853   0.2954\n",
            "\n",
            "Sum of all values in this matrix : 1.43577\n",
            "------------------------------------------------------------------\n",
            "MEAN \n",
            "------------------------------------------------------------------\n",
            "FORWARD : \n",
            "Loss (mean):\n",
            "1.33764\n",
            "BACKWARD : \n",
            "Output shape : 4 3\n",
            "Output (mean) : \n",
            "   0.0454  -0.0783   0.1109\n",
            "  -0.0397   0.0933   0.1040\n",
            "   0.0446   0.0913  -0.1457\n",
            "  -0.0370   0.0963   0.0738\n",
            "\n",
            "Sum of all values in this matrix : 0.358943\n",
            "------------------------------------------------------------------\n"
          ],
          "name": "stdout"
        }
      ]
    },
    {
      "cell_type": "markdown",
      "metadata": {
        "id": "unyt3g8jZcFP",
        "colab_type": "text"
      },
      "source": [
        "## Test Case 3 - 4 classes, 3 examples, weighted"
      ]
    },
    {
      "cell_type": "markdown",
      "metadata": {
        "id": "7cx_G751Zecm",
        "colab_type": "text"
      },
      "source": [
        "### Assumptions and Statements"
      ]
    },
    {
      "cell_type": "markdown",
      "metadata": {
        "id": "xjiYoboyZlhB",
        "colab_type": "text"
      },
      "source": [
        "**Overview :**\n",
        "\n",
        "Input is a collection of 3 multi-label examples. <br>\n",
        "Each example belongs to 1 of 4 possible classes. <br>\n",
        "Hence, the class label for each example is 1x4 one-hot encoded vector. <br>\n",
        "Different weights are assigned to each class using a 1x4 weights vector. <br>\n",
        "\n",
        "---\n",
        "\n",
        "**Summary of shapes of tensors involved :** <br>\n",
        "\n",
        "The shape of the input matrix is 3x4. <br>\n",
        "The shape of each example is 1x4. <br>\n",
        "The shape of each class label is 1x4. <br>\n",
        "The shape of the target matrix is 3x4. <br>\n",
        "The shape of the weight matrix is 1x4. <br>\n",
        "The shape of the gradient of the input matrix will also be 3x4. <br>\n",
        "The output of the forward function is reduced to a 1x1 tensor using either sum or mean reduction. <br>\n",
        "\n",
        "---"
      ]
    },
    {
      "cell_type": "markdown",
      "metadata": {
        "id": "mvcu-KvDZ0Kf",
        "colab_type": "text"
      },
      "source": [
        "### Sum"
      ]
    },
    {
      "cell_type": "code",
      "metadata": {
        "id": "E3WwM3tUZ2G7",
        "colab_type": "code",
        "outputId": "eefcb2a1-8c3a-45bb-b10a-5866d2caef21",
        "colab": {
          "base_uri": "https://localhost:8080/",
          "height": 0
        }
      },
      "source": [
        "torch.set_printoptions(precision=5)\n",
        "x = torch.tensor([[ 0.1778,  0.1203, -0.2264, 0.1406],[ 0.0957,  0.2403, -0.3400, 0.0276],[ 0.1397,  0.1925, -0.3336, 0.3144]], requires_grad=True) # 3 Rows, 4 columns\n",
        "y = torch.tensor([[0., 1., 0., 1.],[1., 0., 0., 0.],[0., 0., 1., 0.]]) # 3 Rows, 4 columns\n",
        "weights = torch.tensor([1, 2, 3, 4])\n",
        "criterion_mean = nn.MultiLabelSoftMarginLoss(reduction='sum', weight=weights)\n",
        "loss_mean = criterion_mean(x,y)\n",
        "print(\"FORWARD:\\n\", loss_mean, \"\\nBACKWARD\")\n",
        "loss_mean.backward()\n",
        "print(x.grad)\n",
        "print(\"---------------------------------------------------------------\")\n",
        "print(torch.sum(x.grad))\n",
        "print(\"---------------------------------------------------------------\")"
      ],
      "execution_count": 11,
      "outputs": [
        {
          "output_type": "stream",
          "text": [
            "FORWARD:\n",
            " tensor(5.36739, grad_fn=<SumBackward0>) \n",
            "BACKWARD\n",
            "tensor([[ 0.13608, -0.23498,  0.33273, -0.46491],\n",
            "        [-0.11902,  0.27989,  0.31186,  0.50690],\n",
            "        [ 0.13372,  0.27399, -0.43698,  0.57796]])\n",
            "---------------------------------------------------------------\n",
            "tensor(1.29724)\n",
            "---------------------------------------------------------------\n"
          ],
          "name": "stdout"
        }
      ]
    },
    {
      "cell_type": "markdown",
      "metadata": {
        "id": "ql0ocGnmaKMk",
        "colab_type": "text"
      },
      "source": [
        "### Mean"
      ]
    },
    {
      "cell_type": "code",
      "metadata": {
        "id": "_6u2YlLTaLy9",
        "colab_type": "code",
        "outputId": "6e4a9b6a-63bd-4380-a4d7-1a3c92fa3a0b",
        "colab": {
          "base_uri": "https://localhost:8080/",
          "height": 0
        }
      },
      "source": [
        "torch.set_printoptions(precision=5)\n",
        "x = torch.tensor([[ 0.1778,  0.1203, -0.2264, 0.1406],[ 0.0957,  0.2403, -0.3400, 0.0276],[ 0.1397,  0.1925, -0.3336, 0.3144]], requires_grad=True) # 3 Rows, 4 columns\n",
        "y = torch.tensor([[0., 1., 0., 1.],[1., 0., 0., 0.],[0., 0., 1., 0.]]) # 3 Rows, 4 columns\n",
        "weights = torch.tensor([1, 2, 3, 4])\n",
        "criterion_mean = nn.MultiLabelSoftMarginLoss(reduction='mean', weight=weights)\n",
        "loss_mean = criterion_mean(x,y)\n",
        "print(\"FORWARD:\\n\", loss_mean, \"\\nBACKWARD\")\n",
        "loss_mean.backward()\n",
        "print(x.grad)\n",
        "print(\"---------------------------------------------------------------\")\n",
        "torch.set_printoptions(precision=6)\n",
        "print(torch.sum(x.grad))\n",
        "print(\"---------------------------------------------------------------\")"
      ],
      "execution_count": 12,
      "outputs": [
        {
          "output_type": "stream",
          "text": [
            "FORWARD:\n",
            " tensor(1.78913, grad_fn=<MeanBackward0>) \n",
            "BACKWARD\n",
            "tensor([[ 0.04536, -0.07833,  0.11091, -0.15497],\n",
            "        [-0.03967,  0.09330,  0.10395,  0.16897],\n",
            "        [ 0.04457,  0.09133, -0.14566,  0.19265]])\n",
            "---------------------------------------------------------------\n",
            "tensor(0.432414)\n",
            "---------------------------------------------------------------\n"
          ],
          "name": "stdout"
        }
      ]
    },
    {
      "cell_type": "markdown",
      "metadata": {
        "id": "30lbXy5caUx0",
        "colab_type": "text"
      },
      "source": [
        "### C++ File **`test.cpp`** to reproduce same results "
      ]
    },
    {
      "cell_type": "code",
      "metadata": {
        "id": "4bpg3Zj3aWeu",
        "colab_type": "code",
        "colab": {}
      },
      "source": [
        "%%capture\n",
        "%%writefile test.cpp\n",
        "#include <iostream>\n",
        "#include <armadillo>\n",
        "\n",
        "using namespace std;\n",
        "using namespace arma;\n",
        "\n",
        "int main()\n",
        "{\n",
        "  // Constructor\n",
        "  arma::mat x,y;\n",
        "  arma::mat weight;\n",
        "\n",
        "  x << 0.1778 << 0.1203 << -0.2264 << 0.1406 << endr\n",
        "    << 0.0957 << 0.2403 << -0.3400 << 0.0276 << endr\n",
        "    << 0.1397 << 0.1925 << -0.3336 << 0.3144 << endr;\n",
        "\n",
        "  y << 0 << 1 << 0 << 1 << endr\n",
        "    << 1 << 0 << 0 << 0 << endr\n",
        "    << 0 << 0 << 1 << 0 << endr;\n",
        "\n",
        "  weight.ones(1,4);\n",
        "  weight(0, 1) = 2;\n",
        "  weight(0, 2) = 3;\n",
        "  weight(0, 3) = 4;\n",
        "\n",
        "  // Forward\n",
        "  arma::mat logSigmoid = arma::log((1 / (1 + arma::exp(-x))));\n",
        "  arma::mat logSigmoidNeg = arma::log(1 / (1 + arma::exp(x)));\n",
        "  arma::mat loss = arma::mean(arma::sum(-(y % logSigmoid + (1 - y) % logSigmoidNeg)) % weight, 1);\n",
        "  double loss_sum = arma::as_scalar(loss);\n",
        "  double loss_mean = arma::as_scalar(loss / x.n_rows);\n",
        "\n",
        "  // Backward - mean\n",
        "  arma::mat sigmoid = 1 / (1+arma::exp(-x));\n",
        "  arma::mat output ;\n",
        "  output.set_size(size(x));\n",
        "  output = - (y % ( 1-sigmoid) - (1-y) % sigmoid) % arma::repmat(weight, y.n_rows, 1) / output.n_elem;\n",
        "\n",
        "  // Display\n",
        "  cout << \"------------------------------------------------------------------\" << endl;\n",
        "  cout << \"USER-PROVIDED MATRICES : \" << endl;\n",
        "  cout << \"------------------------------------------------------------------\" << endl;\n",
        "  cout << \"Input shape : \"<< x.n_rows << \" \" << x.n_cols << endl;\n",
        "  cout << \"Input : \" << endl << x << endl;\n",
        "  cout << \"Target shape : \"<< y.n_rows << \" \" << y.n_cols << endl;\n",
        "  cout << \"Target : \" << endl << y << endl;\n",
        "  cout << \"Weight : \" << weight << endl;\n",
        "  cout << \"Weight shape : \"<< weight.n_rows << \" \" << weight.n_cols << endl;\n",
        "  cout << \"------------------------------------------------------------------\" << endl;\n",
        "  cout << \"SUM \" << endl;\n",
        "  cout << \"------------------------------------------------------------------\" << endl;\n",
        "  cout << \"FORWARD : \" << endl;\n",
        "  cout << \"Loss (sum):\\n\" << loss_sum << '\\n';\n",
        "  cout << \"BACKWARD : \" << endl;\n",
        "  cout << \"Output shape : \"<< output.n_rows << \" \" << output.n_cols << endl;\n",
        "  cout << \"Output (sum) : \" << endl << output * x.n_rows << endl;                                             \n",
        "  cout << \"Sum of all values in this matrix : \" << arma::as_scalar(arma::accu(output * x.n_rows)) << endl;    \n",
        "  cout << \"------------------------------------------------------------------\" << endl;\n",
        "  cout << \"MEAN \" << endl;\n",
        "  cout << \"------------------------------------------------------------------\" << endl;\n",
        "  cout << \"FORWARD : \" << endl;\n",
        "  cout << \"Loss (mean):\\n\" << loss_mean << '\\n';\n",
        "  cout << \"BACKWARD : \" << endl;\n",
        "  cout << \"Output shape : \"<< output.n_rows << \" \" << output.n_cols << endl;\n",
        "  cout << \"Output (mean) : \" << endl << output << endl;\n",
        "  cout << \"Sum of all values in this matrix : \" << arma::as_scalar(arma::accu(output)) << endl;\n",
        "  cout << \"------------------------------------------------------------------\" << endl;\n",
        "  return 0;\n",
        "}"
      ],
      "execution_count": 0,
      "outputs": []
    },
    {
      "cell_type": "markdown",
      "metadata": {
        "id": "5Qw906V7aftO",
        "colab_type": "text"
      },
      "source": [
        "### Run using **`g++ test.cpp -o test -larmadillo && ./test`**"
      ]
    },
    {
      "cell_type": "code",
      "metadata": {
        "id": "zoW64XshagS2",
        "colab_type": "code",
        "outputId": "245f5af8-8ee4-4a42-d20f-0d75c96445fc",
        "colab": {
          "base_uri": "https://localhost:8080/",
          "height": 0
        }
      },
      "source": [
        "%%script bash\n",
        "g++ test.cpp -o test -larmadillo && ./test"
      ],
      "execution_count": 14,
      "outputs": [
        {
          "output_type": "stream",
          "text": [
            "------------------------------------------------------------------\n",
            "USER-PROVIDED MATRICES : \n",
            "------------------------------------------------------------------\n",
            "Input shape : 3 4\n",
            "Input : \n",
            "   0.1778   0.1203  -0.2264   0.1406\n",
            "   0.0957   0.2403  -0.3400   0.0276\n",
            "   0.1397   0.1925  -0.3336   0.3144\n",
            "\n",
            "Target shape : 3 4\n",
            "Target : \n",
            "        0   1.0000        0   1.0000\n",
            "   1.0000        0        0        0\n",
            "        0        0   1.0000        0\n",
            "\n",
            "Weight :    1.0000   2.0000   3.0000   4.0000\n",
            "\n",
            "Weight shape : 1 4\n",
            "------------------------------------------------------------------\n",
            "SUM \n",
            "------------------------------------------------------------------\n",
            "FORWARD : \n",
            "Loss (sum):\n",
            "5.36739\n",
            "BACKWARD : \n",
            "Output shape : 3 4\n",
            "Output (sum) : \n",
            "   0.1361  -0.2350   0.3327  -0.4649\n",
            "  -0.1190   0.2799   0.3119   0.5069\n",
            "   0.1337   0.2740  -0.4370   0.5780\n",
            "\n",
            "Sum of all values in this matrix : 1.29724\n",
            "------------------------------------------------------------------\n",
            "MEAN \n",
            "------------------------------------------------------------------\n",
            "FORWARD : \n",
            "Loss (mean):\n",
            "1.78913\n",
            "BACKWARD : \n",
            "Output shape : 3 4\n",
            "Output (mean) : \n",
            "   0.0454  -0.0783   0.1109  -0.1550\n",
            "  -0.0397   0.0933   0.1040   0.1690\n",
            "   0.0446   0.0913  -0.1457   0.1927\n",
            "\n",
            "Sum of all values in this matrix : 0.432414\n",
            "------------------------------------------------------------------\n"
          ],
          "name": "stdout"
        }
      ]
    },
    {
      "cell_type": "markdown",
      "metadata": {
        "id": "MbvDufGJarbd",
        "colab_type": "text"
      },
      "source": [
        "## Test Case 4 - 3 classes, 5 examples, weighted"
      ]
    },
    {
      "cell_type": "markdown",
      "metadata": {
        "id": "T1DytyBxauYo",
        "colab_type": "text"
      },
      "source": [
        "### Assumptions and Statements"
      ]
    },
    {
      "cell_type": "markdown",
      "metadata": {
        "id": "QK1p-zbpa2AV",
        "colab_type": "text"
      },
      "source": [
        "**Overview :**\n",
        "\n",
        "Input is a collection of 5 multi-label examples. <br>\n",
        "Each example belongs to 1 of 3 possible classes. <br>\n",
        "Hence, the class label for each example is 1x3 one-hot encoded vector. <br>\n",
        "Different weights are assigned to each class using a 1x3 weights vector. <br>\n",
        "\n",
        "---\n",
        "\n",
        "**Summary of shapes of tensors involved :** <br>\n",
        "\n",
        "The shape of the input matrix is 5x3. <br>\n",
        "The shape of each example is 1x3. <br>\n",
        "The shape of each class label is 1x3. <br>\n",
        "The shape of the target matrix is 5x3. <br>\n",
        "The shape of the weight matrix is 1x3. <br>\n",
        "The shape of the gradient of the input matrix will also be 5x3. <br>\n",
        "The output of the forward function is reduced to a 1x1 tensor using either sum or mean reduction. <br>\n",
        "\n",
        "---"
      ]
    },
    {
      "cell_type": "markdown",
      "metadata": {
        "id": "qhxkYNsWbEBM",
        "colab_type": "text"
      },
      "source": [
        "### Sum"
      ]
    },
    {
      "cell_type": "code",
      "metadata": {
        "id": "oLL4MzobbFYP",
        "colab_type": "code",
        "outputId": "7a4e2d2d-a0d0-4dda-8a51-7fc6f4e02db0",
        "colab": {
          "base_uri": "https://localhost:8080/",
          "height": 0
        }
      },
      "source": [
        "torch.set_printoptions(precision=5)\n",
        "x = torch.tensor([[ 0.1778,  0.1203, -0.2264],[ 0.0957,  0.2403, -0.3400],[ 0.1397,  0.1925, -0.3336], [ 0.2256, 0.3144, -0.8695], [0.1406, 0.2569, 0.0789]], requires_grad=True) # 5 Rows, 3 columns\n",
        "y = torch.tensor([[0., 1., 0.],[1., 0., 0.],[0., 0., 1.],[1., 0., 0.], [0., 0., 1.]]) # 5 Rows, 3 columns\n",
        "weights = torch.tensor([1, 2, 3])\n",
        "criterion_mean = nn.MultiLabelSoftMarginLoss(reduction='sum', weight=weights)\n",
        "loss_mean = criterion_mean(x,y)\n",
        "print(\"FORWARD:\\n\", loss_mean, \"\\nBACKWARD\")\n",
        "loss_mean.backward()\n",
        "print(x.grad)\n",
        "print(\"---------------------------------------------------------------\")\n",
        "print(torch.sum(x.grad))\n",
        "print(\"---------------------------------------------------------------\")"
      ],
      "execution_count": 15,
      "outputs": [
        {
          "output_type": "stream",
          "text": [
            "FORWARD:\n",
            " tensor(6.81357, grad_fn=<SumBackward0>) \n",
            "BACKWARD\n",
            "tensor([[ 0.18144, -0.31331,  0.44364],\n",
            "        [-0.15870,  0.37319,  0.41581],\n",
            "        [ 0.17829,  0.36532, -0.58264],\n",
            "        [-0.14795,  0.38531,  0.29536],\n",
            "        [ 0.17836,  0.37592, -0.48029]])\n",
            "---------------------------------------------------------------\n",
            "tensor(1.50977)\n",
            "---------------------------------------------------------------\n"
          ],
          "name": "stdout"
        }
      ]
    },
    {
      "cell_type": "markdown",
      "metadata": {
        "id": "MIKuBPRpbF0H",
        "colab_type": "text"
      },
      "source": [
        "### Mean"
      ]
    },
    {
      "cell_type": "code",
      "metadata": {
        "id": "8er6DLqdbHAl",
        "colab_type": "code",
        "outputId": "b5eaf747-cc58-4706-9e47-3c2265d3ac34",
        "colab": {
          "base_uri": "https://localhost:8080/",
          "height": 0
        }
      },
      "source": [
        "torch.set_printoptions(precision=5)\n",
        "x = torch.tensor([[ 0.1778,  0.1203, -0.2264],[ 0.0957,  0.2403, -0.3400],[ 0.1397,  0.1925, -0.3336], [ 0.2256, 0.3144, -0.8695], [0.1406, 0.2569, 0.0789]], requires_grad=True) # 5 Rows, 3 columns\n",
        "y = torch.tensor([[0., 1., 0.],[1., 0., 0.],[0., 0., 1.],[1., 0., 0.], [0., 0., 1.]]) # 5 Rows, 3 columns\n",
        "weights = torch.tensor([1, 2, 3])\n",
        "criterion_mean = nn.MultiLabelSoftMarginLoss(reduction='mean', weight=weights)\n",
        "loss_mean = criterion_mean(x,y)\n",
        "print(\"FORWARD:\\n\", loss_mean, \"\\nBACKWARD\")\n",
        "loss_mean.backward()\n",
        "print(x.grad)\n",
        "print(\"---------------------------------------------------------------\")\n",
        "torch.set_printoptions(precision=6)\n",
        "print(torch.sum(x.grad))\n",
        "print(\"---------------------------------------------------------------\")"
      ],
      "execution_count": 16,
      "outputs": [
        {
          "output_type": "stream",
          "text": [
            "FORWARD:\n",
            " tensor(1.36271, grad_fn=<MeanBackward0>) \n",
            "BACKWARD\n",
            "tensor([[ 0.03629, -0.06266,  0.08873],\n",
            "        [-0.03174,  0.07464,  0.08316],\n",
            "        [ 0.03566,  0.07306, -0.11653],\n",
            "        [-0.02959,  0.07706,  0.05907],\n",
            "        [ 0.03567,  0.07518, -0.09606]])\n",
            "---------------------------------------------------------------\n",
            "tensor(0.301953)\n",
            "---------------------------------------------------------------\n"
          ],
          "name": "stdout"
        }
      ]
    },
    {
      "cell_type": "markdown",
      "metadata": {
        "id": "3b9brt69bJvA",
        "colab_type": "text"
      },
      "source": [
        "### C++ File **`test.cpp`** to reproduce same results "
      ]
    },
    {
      "cell_type": "code",
      "metadata": {
        "id": "9imqLMmRbKhR",
        "colab_type": "code",
        "colab": {}
      },
      "source": [
        "%%capture\n",
        "%%writefile test.cpp\n",
        "#include <iostream>\n",
        "#include <armadillo>\n",
        "\n",
        "using namespace std;\n",
        "using namespace arma;\n",
        "\n",
        "int main()\n",
        "{\n",
        "  // Constructor\n",
        "  arma::mat x,y;\n",
        "  arma::mat weight;\n",
        "\n",
        "  x << 0.1778 << 0.1203 << -0.2264 << endr\n",
        "    << 0.0957 << 0.2403 << -0.3400 << endr\n",
        "    << 0.1397 << 0.1925 << -0.3336 << endr\n",
        "    << 0.2256 << 0.3144 << -0.8695 << endr\n",
        "    << 0.1406 << 0.2569 <<  0.0789 << endr;\n",
        "\n",
        "  y << 0 << 1 << 0 << endr\n",
        "    << 1 << 0 << 0 << endr\n",
        "    << 0 << 0 << 1 << endr\n",
        "    << 1 << 0 << 0 << endr\n",
        "    << 0 << 0 << 1 << endr;\n",
        "\n",
        "  weight.ones(1,3);\n",
        "  weight(0, 1) = 2;\n",
        "  weight(0, 2) = 3;\n",
        "\n",
        "  // Forward\n",
        "  arma::mat logSigmoid = arma::log((1 / (1 + arma::exp(-x))));\n",
        "  arma::mat logSigmoidNeg = arma::log(1 / (1 + arma::exp(x)));\n",
        "  arma::mat loss = arma::mean(arma::sum(-(y % logSigmoid + (1 - y) % logSigmoidNeg)) % weight, 1);\n",
        "  double loss_sum = arma::as_scalar(loss);\n",
        "  double loss_mean = arma::as_scalar(loss / x.n_rows);\n",
        "\n",
        "  // Backward - mean\n",
        "  arma::mat sigmoid = 1 / (1+arma::exp(-x));\n",
        "  arma::mat output ;\n",
        "  output.set_size(size(x));\n",
        "  output = - (y % ( 1-sigmoid) - (1-y) % sigmoid) % arma::repmat(weight, y.n_rows, 1) / output.n_elem;\n",
        "\n",
        "  // Display\n",
        "  cout << \"------------------------------------------------------------------\" << endl;\n",
        "  cout << \"USER-PROVIDED MATRICES : \" << endl;\n",
        "  cout << \"------------------------------------------------------------------\" << endl;\n",
        "  cout << \"Input shape : \"<< x.n_rows << \" \" << x.n_cols << endl;\n",
        "  cout << \"Input : \" << endl << x << endl;\n",
        "  cout << \"Target shape : \"<< y.n_rows << \" \" << y.n_cols << endl;\n",
        "  cout << \"Target : \" << endl << y << endl;\n",
        "  cout << \"Weight : \" << weight << endl;\n",
        "  cout << \"Weight shape : \"<< weight.n_rows << \" \" << weight.n_cols << endl;\n",
        "  cout << \"------------------------------------------------------------------\" << endl;\n",
        "  cout << \"SUM \" << endl;\n",
        "  cout << \"------------------------------------------------------------------\" << endl;\n",
        "  cout << \"FORWARD : \" << endl;\n",
        "  cout << \"Loss (sum):\\n\" << loss_sum << '\\n';\n",
        "  cout << \"BACKWARD : \" << endl;\n",
        "  cout << \"Output shape : \"<< output.n_rows << \" \" << output.n_cols << endl;\n",
        "  cout << \"Output (sum) : \" << endl << output * x.n_rows << endl;                                             \n",
        "  cout << \"Sum of all values in this matrix : \" << arma::as_scalar(arma::accu(output * x.n_rows)) << endl;    \n",
        "  cout << \"------------------------------------------------------------------\" << endl;\n",
        "  cout << \"MEAN \" << endl;\n",
        "  cout << \"------------------------------------------------------------------\" << endl;\n",
        "  cout << \"FORWARD : \" << endl;\n",
        "  cout << \"Loss (mean):\\n\" << loss_mean << '\\n';\n",
        "  cout << \"BACKWARD : \" << endl;\n",
        "  cout << \"Output shape : \"<< output.n_rows << \" \" << output.n_cols << endl;\n",
        "  cout << \"Output (mean) : \" << endl << output << endl;\n",
        "  cout << \"Sum of all values in this matrix : \" << arma::as_scalar(arma::accu(output)) << endl;\n",
        "  cout << \"------------------------------------------------------------------\" << endl;\n",
        "  return 0;\n",
        "}"
      ],
      "execution_count": 0,
      "outputs": []
    },
    {
      "cell_type": "markdown",
      "metadata": {
        "id": "ZzzL3PRFbNAX",
        "colab_type": "text"
      },
      "source": [
        "### Run using **`g++ test.cpp -o test -larmadillo && ./test`**"
      ]
    },
    {
      "cell_type": "code",
      "metadata": {
        "id": "d_F4suEwbNn_",
        "colab_type": "code",
        "outputId": "755c38aa-0314-4689-ac13-f83cb49533a1",
        "colab": {
          "base_uri": "https://localhost:8080/",
          "height": 0
        }
      },
      "source": [
        "%%script bash\n",
        "g++ test.cpp -o test -larmadillo && ./test"
      ],
      "execution_count": 18,
      "outputs": [
        {
          "output_type": "stream",
          "text": [
            "------------------------------------------------------------------\n",
            "USER-PROVIDED MATRICES : \n",
            "------------------------------------------------------------------\n",
            "Input shape : 5 3\n",
            "Input : \n",
            "   0.1778   0.1203  -0.2264\n",
            "   0.0957   0.2403  -0.3400\n",
            "   0.1397   0.1925  -0.3336\n",
            "   0.2256   0.3144  -0.8695\n",
            "   0.1406   0.2569   0.0789\n",
            "\n",
            "Target shape : 5 3\n",
            "Target : \n",
            "        0   1.0000        0\n",
            "   1.0000        0        0\n",
            "        0        0   1.0000\n",
            "   1.0000        0        0\n",
            "        0        0   1.0000\n",
            "\n",
            "Weight :    1.0000   2.0000   3.0000\n",
            "\n",
            "Weight shape : 1 3\n",
            "------------------------------------------------------------------\n",
            "SUM \n",
            "------------------------------------------------------------------\n",
            "FORWARD : \n",
            "Loss (sum):\n",
            "6.81357\n",
            "BACKWARD : \n",
            "Output shape : 5 3\n",
            "Output (sum) : \n",
            "   0.1814  -0.3133   0.4436\n",
            "  -0.1587   0.3732   0.4158\n",
            "   0.1783   0.3653  -0.5826\n",
            "  -0.1479   0.3853   0.2954\n",
            "   0.1784   0.3759  -0.4803\n",
            "\n",
            "Sum of all values in this matrix : 1.50977\n",
            "------------------------------------------------------------------\n",
            "MEAN \n",
            "------------------------------------------------------------------\n",
            "FORWARD : \n",
            "Loss (mean):\n",
            "1.36271\n",
            "BACKWARD : \n",
            "Output shape : 5 3\n",
            "Output (mean) : \n",
            "   0.0363  -0.0627   0.0887\n",
            "  -0.0317   0.0746   0.0832\n",
            "   0.0357   0.0731  -0.1165\n",
            "  -0.0296   0.0771   0.0591\n",
            "   0.0357   0.0752  -0.0961\n",
            "\n",
            "Sum of all values in this matrix : 0.301953\n",
            "------------------------------------------------------------------\n"
          ],
          "name": "stdout"
        }
      ]
    },
    {
      "cell_type": "markdown",
      "metadata": {
        "id": "sL0cL0nybO1P",
        "colab_type": "text"
      },
      "source": [
        "## Test Case 5 - 5 classes, 3 examples, weighted"
      ]
    },
    {
      "cell_type": "markdown",
      "metadata": {
        "id": "MVkl-wMFbXQX",
        "colab_type": "text"
      },
      "source": [
        "### Assumptions and Statements"
      ]
    },
    {
      "cell_type": "markdown",
      "metadata": {
        "id": "HcTiJtXQbYBW",
        "colab_type": "text"
      },
      "source": [
        "**Overview :**\n",
        "\n",
        "Input is a collection of 3 multi-label examples. <br>\n",
        "Each example belongs to 1 of 5 possible classes. <br>\n",
        "Hence, the class label for each example is 1x5 one-hot encoded vector. <br>\n",
        "Different weights are assigned to each class using a 1x5 weights vector. <br>\n",
        "\n",
        "---\n",
        "\n",
        "**Summary of shapes of tensors involved :** <br>\n",
        "\n",
        "The shape of the input matrix is 3x5. <br>\n",
        "The shape of each example is 1x5. <br>\n",
        "The shape of each class label is 1x5. <br>\n",
        "The shape of the target matrix is 3x5. <br>\n",
        "The shape of the weight matrix is 1x5. <br>\n",
        "The shape of the gradient of the input matrix will also be 3x5. <br>\n",
        "The output of the forward function is reduced to a 1x1 tensor using either sum or mean reduction. <br>\n",
        "\n",
        "---"
      ]
    },
    {
      "cell_type": "markdown",
      "metadata": {
        "id": "z1ExgKLcbloE",
        "colab_type": "text"
      },
      "source": [
        "### Sum"
      ]
    },
    {
      "cell_type": "code",
      "metadata": {
        "id": "pkG_1L0ibmz7",
        "colab_type": "code",
        "outputId": "2d69f56c-6667-4669-9446-2e97a3f9d98b",
        "colab": {
          "base_uri": "https://localhost:8080/",
          "height": 0
        }
      },
      "source": [
        "torch.set_printoptions(precision=4)\n",
        "x = torch.tensor([[ 0.1778,  0.1203, -0.2264, 0.2256, 0.3144],[ 0.0957,  0.2403, -0.3400, -0.8695, 0.2457],[ 0.1397,  0.1925, -0.3336, 0.2569, 0.0789]], requires_grad=True) # 3 Rows, 5 columns\n",
        "y = torch.tensor([[0., 1., 0., 1., 0.],[1., 0., 0., 0., 0.],[0., 0., 1., 1., 1.]]) # 3 Rows, 5 columns\n",
        "weights = torch.tensor([1, 2, 3, 4, 5])\n",
        "criterion_mean = nn.MultiLabelSoftMarginLoss(reduction='sum', weight=weights)\n",
        "loss_mean = criterion_mean(x,y)\n",
        "print(\"FORWARD:\\n\", loss_mean, \"\\nBACKWARD\")\n",
        "loss_mean.backward()\n",
        "print(x.grad)\n",
        "print(\"---------------------------------------------------------------\")\n",
        "torch.set_printoptions(precision=6)\n",
        "print(torch.sum(x.grad))\n",
        "print(\"---------------------------------------------------------------\")"
      ],
      "execution_count": 19,
      "outputs": [
        {
          "output_type": "stream",
          "text": [
            "FORWARD:\n",
            " tensor(6.0863, grad_fn=<SumBackward0>) \n",
            "BACKWARD\n",
            "tensor([[ 0.1089, -0.1880,  0.2662, -0.3551,  0.5780],\n",
            "        [-0.0952,  0.2239,  0.2495,  0.2363,  0.5611],\n",
            "        [ 0.1070,  0.2192, -0.3496, -0.3489, -0.4803]])\n",
            "---------------------------------------------------------------\n",
            "tensor(0.732939)\n",
            "---------------------------------------------------------------\n"
          ],
          "name": "stdout"
        }
      ]
    },
    {
      "cell_type": "markdown",
      "metadata": {
        "id": "e0wKqqAQbnQL",
        "colab_type": "text"
      },
      "source": [
        "### Mean"
      ]
    },
    {
      "cell_type": "code",
      "metadata": {
        "id": "mNA7K8ubboYQ",
        "colab_type": "code",
        "outputId": "8e255dfc-552a-45b8-8562-13671b8327b5",
        "colab": {
          "base_uri": "https://localhost:8080/",
          "height": 0
        }
      },
      "source": [
        "torch.set_printoptions(precision=5)\n",
        "x = torch.tensor([[ 0.1778,  0.1203, -0.2264, 0.2256, 0.3144],[ 0.0957,  0.2403, -0.3400, -0.8695, 0.2457],[ 0.1397,  0.1925, -0.3336, 0.2569, 0.0789]], requires_grad=True) # 3 Rows, 5 columns\n",
        "y = torch.tensor([[0., 1., 0., 1., 0.],[1., 0., 0., 0., 0.],[0., 0., 1., 1., 1.]]) # 3 Rows, 5 columns\n",
        "weights = torch.tensor([1, 2, 3, 4, 5])\n",
        "criterion_mean = nn.MultiLabelSoftMarginLoss(reduction='mean', weight=weights)\n",
        "loss_mean = criterion_mean(x,y)\n",
        "print(\"FORWARD:\\n\", loss_mean, \"\\nBACKWARD\")\n",
        "loss_mean.backward()\n",
        "print(x.grad)\n",
        "print(\"---------------------------------------------------------------\")\n",
        "torch.set_printoptions(precision=6)\n",
        "print(torch.sum(x.grad))\n",
        "print(\"---------------------------------------------------------------\")"
      ],
      "execution_count": 20,
      "outputs": [
        {
          "output_type": "stream",
          "text": [
            "FORWARD:\n",
            " tensor(2.02877, grad_fn=<MeanBackward0>) \n",
            "BACKWARD\n",
            "tensor([[ 0.03629, -0.06266,  0.08873, -0.11836,  0.19265],\n",
            "        [-0.03174,  0.07464,  0.08316,  0.07876,  0.18704],\n",
            "        [ 0.03566,  0.07306, -0.11653, -0.11630, -0.16010]])\n",
            "---------------------------------------------------------------\n",
            "tensor(0.244313)\n",
            "---------------------------------------------------------------\n"
          ],
          "name": "stdout"
        }
      ]
    },
    {
      "cell_type": "markdown",
      "metadata": {
        "id": "U1HpSTn-bq20",
        "colab_type": "text"
      },
      "source": [
        "### C++ File **`test.cpp`** to reproduce same results "
      ]
    },
    {
      "cell_type": "code",
      "metadata": {
        "id": "_OAnz1A1brjH",
        "colab_type": "code",
        "colab": {}
      },
      "source": [
        "%%capture\n",
        "%%writefile test.cpp\n",
        "#include <iostream>\n",
        "#include <armadillo>\n",
        "\n",
        "using namespace std;\n",
        "using namespace arma;\n",
        "\n",
        "int main()\n",
        "{\n",
        "  // Constructor\n",
        "  arma::mat x,y;\n",
        "  arma::mat weight;\n",
        "\n",
        "  x << 0.1778 << 0.1203 << -0.2264 <<  0.2256 << 0.3144 << endr\n",
        "    << 0.0957 << 0.2403 << -0.3400 << -0.8695 << 0.2457 << endr\n",
        "    << 0.1397 << 0.1925 << -0.3336 << 0.2569  << 0.0789 << endr;\n",
        "\n",
        "  y << 0 << 1 << 0 << 1 << 0 << endr\n",
        "    << 1 << 0 << 0 << 0 << 0 << endr\n",
        "    << 0 << 0 << 1 << 1 << 1 << endr;\n",
        "\n",
        "  weight.ones(1,5);\n",
        "  weight(0, 1) = 2;\n",
        "  weight(0, 2) = 3;\n",
        "  weight(0, 3) = 4;\n",
        "  weight(0, 4) = 5;\n",
        "\n",
        "  // Forward\n",
        "  arma::mat logSigmoid = arma::log((1 / (1 + arma::exp(-x))));\n",
        "  arma::mat logSigmoidNeg = arma::log(1 / (1 + arma::exp(x)));\n",
        "  arma::mat loss = arma::mean(arma::sum(-(y % logSigmoid + (1 - y) % logSigmoidNeg)) % weight, 1);\n",
        "  double loss_sum = arma::as_scalar(loss);\n",
        "  double loss_mean = arma::as_scalar(loss / x.n_rows);\n",
        "\n",
        "  // Backward - mean\n",
        "  arma::mat sigmoid = 1 / (1+arma::exp(-x));\n",
        "  arma::mat output ;\n",
        "  output.set_size(size(x));\n",
        "  output = - (y % ( 1-sigmoid) - (1-y) % sigmoid) % arma::repmat(weight, y.n_rows, 1) / output.n_elem;\n",
        "\n",
        "  // Display\n",
        "  cout << \"------------------------------------------------------------------\" << endl;\n",
        "  cout << \"USER-PROVIDED MATRICES : \" << endl;\n",
        "  cout << \"------------------------------------------------------------------\" << endl;\n",
        "  cout << \"Input shape : \"<< x.n_rows << \" \" << x.n_cols << endl;\n",
        "  cout << \"Input : \" << endl << x << endl;\n",
        "  cout << \"Target shape : \"<< y.n_rows << \" \" << y.n_cols << endl;\n",
        "  cout << \"Target : \" << endl << y << endl;\n",
        "  cout << \"Weight : \" << weight << endl;\n",
        "  cout << \"Weight shape : \"<< weight.n_rows << \" \" << weight.n_cols << endl;\n",
        "  cout << \"------------------------------------------------------------------\" << endl;\n",
        "  cout << \"SUM \" << endl;\n",
        "  cout << \"------------------------------------------------------------------\" << endl;\n",
        "  cout << \"FORWARD : \" << endl;\n",
        "  cout << \"Loss (sum):\\n\" << loss_sum << '\\n';\n",
        "  cout << \"BACKWARD : \" << endl;\n",
        "  cout << \"Output shape : \"<< output.n_rows << \" \" << output.n_cols << endl;\n",
        "  cout << \"Output (sum) : \" << endl << output * x.n_rows << endl;                                             \n",
        "  cout << \"Sum of all values in this matrix : \" << arma::as_scalar(arma::accu(output * x.n_rows)) << endl;    \n",
        "  cout << \"------------------------------------------------------------------\" << endl;\n",
        "  cout << \"MEAN \" << endl;\n",
        "  cout << \"------------------------------------------------------------------\" << endl;\n",
        "  cout << \"FORWARD : \" << endl;\n",
        "  cout << \"Loss (mean):\\n\" << loss_mean << '\\n';\n",
        "  cout << \"BACKWARD : \" << endl;\n",
        "  cout << \"Output shape : \"<< output.n_rows << \" \" << output.n_cols << endl;\n",
        "  cout << \"Output (mean) : \" << endl << output << endl;\n",
        "  cout << \"Sum of all values in this matrix : \" << arma::as_scalar(arma::accu(output)) << endl;\n",
        "  cout << \"------------------------------------------------------------------\" << endl;\n",
        "  return 0;\n",
        "}"
      ],
      "execution_count": 0,
      "outputs": []
    },
    {
      "cell_type": "markdown",
      "metadata": {
        "id": "yoVJoP-Kbt-6",
        "colab_type": "text"
      },
      "source": [
        "### Run using **`g++ test.cpp -o test -larmadillo && ./test`**"
      ]
    },
    {
      "cell_type": "code",
      "metadata": {
        "id": "oxjQipjGbumi",
        "colab_type": "code",
        "outputId": "78e6fe0d-c484-4e98-b962-f1bab9a7d060",
        "colab": {
          "base_uri": "https://localhost:8080/",
          "height": 781
        }
      },
      "source": [
        "%%script bash\n",
        "g++ test.cpp -o test -larmadillo && ./test"
      ],
      "execution_count": 22,
      "outputs": [
        {
          "output_type": "stream",
          "text": [
            "------------------------------------------------------------------\n",
            "USER-PROVIDED MATRICES : \n",
            "------------------------------------------------------------------\n",
            "Input shape : 3 5\n",
            "Input : \n",
            "   0.1778   0.1203  -0.2264   0.2256   0.3144\n",
            "   0.0957   0.2403  -0.3400  -0.8695   0.2457\n",
            "   0.1397   0.1925  -0.3336   0.2569   0.0789\n",
            "\n",
            "Target shape : 3 5\n",
            "Target : \n",
            "        0   1.0000        0   1.0000        0\n",
            "   1.0000        0        0        0        0\n",
            "        0        0   1.0000   1.0000   1.0000\n",
            "\n",
            "Weight :    1.0000   2.0000   3.0000   4.0000   5.0000\n",
            "\n",
            "Weight shape : 1 5\n",
            "------------------------------------------------------------------\n",
            "SUM \n",
            "------------------------------------------------------------------\n",
            "FORWARD : \n",
            "Loss (sum):\n",
            "6.0863\n",
            "BACKWARD : \n",
            "Output shape : 3 5\n",
            "Output (sum) : \n",
            "   0.1089  -0.1880   0.2662  -0.3551   0.5780\n",
            "  -0.0952   0.2239   0.2495   0.2363   0.5611\n",
            "   0.1070   0.2192  -0.3496  -0.3489  -0.4803\n",
            "\n",
            "Sum of all values in this matrix : 0.732939\n",
            "------------------------------------------------------------------\n",
            "MEAN \n",
            "------------------------------------------------------------------\n",
            "FORWARD : \n",
            "Loss (mean):\n",
            "2.02877\n",
            "BACKWARD : \n",
            "Output shape : 3 5\n",
            "Output (mean) : \n",
            "   0.0363  -0.0627   0.0887  -0.1184   0.1927\n",
            "  -0.0317   0.0746   0.0832   0.0788   0.1870\n",
            "   0.0357   0.0731  -0.1165  -0.1163  -0.1601\n",
            "\n",
            "Sum of all values in this matrix : 0.244313\n",
            "------------------------------------------------------------------\n"
          ],
          "name": "stdout"
        }
      ]
    }
  ]
}